{
 "cells": [
  {
   "cell_type": "markdown",
   "metadata": {
    "id": "Hp1OJphCIvzE"
   },
   "source": [
    "### UFID: 13399251 <br>\r\n",
    "### Name: Rishabh Khanna<br>\r\n",
    "### Project: Comparison of GAN and VAE<br>\r\n",
    "### Course: Machine Learning<br>\r\n",
    "### Semster: Fall 2020"
   ]
  },
  {
   "cell_type": "code",
   "execution_count": 1,
   "metadata": {
    "id": "Bj0O-65kIZDv"
   },
   "outputs": [],
   "source": [
    "import torch\r\n",
    "import torch.nn as nn\r\n",
    "import torch.nn.functional as F\r\n",
    "import torch.optim as optim\r\n",
    "from torchvision import datasets, transforms\r\n",
    "from torch.autograd import Variable\r\n",
    "from torchvision.utils import save_image,make_grid\r\n",
    "from tqdm import tqdm\r\n",
    "import imageio\r\n",
    "import numpy as np\r\n",
    "import matplotlib\r\n",
    "from torch.utils.data import DataLoader\r\n",
    "from matplotlib import pyplot as plt\r\n",
    "import torchvision\r\n",
    "from ipywidgets import IntProgress\r\n",
    "matplotlib.style.use('ggplot')"
   ]
  },
  {
   "cell_type": "markdown",
   "metadata": {
    "id": "uQ_NX05Hm87m"
   },
   "source": [
    "VAE"
   ]
  },
  {
   "cell_type": "code",
   "execution_count": 2,
   "metadata": {
    "id": "nMgk1lcHJsaR"
   },
   "outputs": [
    {
     "name": "stdout",
     "output_type": "stream",
     "text": [
      "Downloading http://yann.lecun.com/exdb/mnist/train-images-idx3-ubyte.gz to ../input/data\\MNIST\\raw\\train-images-idx3-ubyte.gz\n"
     ]
    },
    {
     "data": {
      "application/vnd.jupyter.widget-view+json": {
       "model_id": "9622df761ae1499f9c647eba7a695927",
       "version_major": 2,
       "version_minor": 0
      },
      "text/plain": [
       "HBox(children=(HTML(value=''), FloatProgress(value=1.0, bar_style='info', layout=Layout(width='20px'), max=1.0…"
      ]
     },
     "metadata": {},
     "output_type": "display_data"
    },
    {
     "name": "stdout",
     "output_type": "stream",
     "text": [
      "Extracting ../input/data\\MNIST\\raw\\train-images-idx3-ubyte.gz to ../input/data\\MNIST\\raw\n",
      "Downloading http://yann.lecun.com/exdb/mnist/train-labels-idx1-ubyte.gz to ../input/data\\MNIST\\raw\\train-labels-idx1-ubyte.gz\n"
     ]
    },
    {
     "data": {
      "application/vnd.jupyter.widget-view+json": {
       "model_id": "125c8542cdd04c33842f77a8ede07845",
       "version_major": 2,
       "version_minor": 0
      },
      "text/plain": [
       "HBox(children=(HTML(value=''), FloatProgress(value=1.0, bar_style='info', layout=Layout(width='20px'), max=1.0…"
      ]
     },
     "metadata": {},
     "output_type": "display_data"
    },
    {
     "name": "stdout",
     "output_type": "stream",
     "text": [
      "Extracting ../input/data\\MNIST\\raw\\train-labels-idx1-ubyte.gz to ../input/data\\MNIST\\raw\n",
      "Downloading http://yann.lecun.com/exdb/mnist/t10k-images-idx3-ubyte.gz to ../input/data\\MNIST\\raw\\t10k-images-idx3-ubyte.gz\n"
     ]
    },
    {
     "data": {
      "application/vnd.jupyter.widget-view+json": {
       "model_id": "711681c58a334351aac6a0e0f0066f40",
       "version_major": 2,
       "version_minor": 0
      },
      "text/plain": [
       "HBox(children=(HTML(value=''), FloatProgress(value=1.0, bar_style='info', layout=Layout(width='20px'), max=1.0…"
      ]
     },
     "metadata": {},
     "output_type": "display_data"
    },
    {
     "name": "stdout",
     "output_type": "stream",
     "text": [
      "Extracting ../input/data\\MNIST\\raw\\t10k-images-idx3-ubyte.gz to ../input/data\\MNIST\\raw\n",
      "Downloading http://yann.lecun.com/exdb/mnist/t10k-labels-idx1-ubyte.gz to ../input/data\\MNIST\\raw\\t10k-labels-idx1-ubyte.gz\n"
     ]
    },
    {
     "data": {
      "application/vnd.jupyter.widget-view+json": {
       "model_id": "24120838b0cd4b51b39f7e26b6b35148",
       "version_major": 2,
       "version_minor": 0
      },
      "text/plain": [
       "HBox(children=(HTML(value=''), FloatProgress(value=1.0, bar_style='info', layout=Layout(width='20px'), max=1.0…"
      ]
     },
     "metadata": {},
     "output_type": "display_data"
    },
    {
     "name": "stdout",
     "output_type": "stream",
     "text": [
      "Extracting ../input/data\\MNIST\\raw\\t10k-labels-idx1-ubyte.gz to ../input/data\\MNIST\\raw\n",
      "Processing...\n"
     ]
    },
    {
     "name": "stderr",
     "output_type": "stream",
     "text": [
      "c:\\users\\risha\\appdata\\local\\programs\\python\\python37\\lib\\site-packages\\torchvision\\datasets\\mnist.py:469: UserWarning: The given NumPy array is not writeable, and PyTorch does not support non-writeable tensors. This means you can write to the underlying (supposedly non-writeable) NumPy array using the tensor. You may want to copy the array to protect its data or make it writeable before converting it to a tensor. This type of warning will be suppressed for the rest of this program. (Triggered internally at  ..\\torch\\csrc\\utils\\tensor_numpy.cpp:141.)\n",
      "  return torch.from_numpy(parsed.astype(m[2], copy=False)).view(*s)\n"
     ]
    },
    {
     "name": "stdout",
     "output_type": "stream",
     "text": [
      "Done!\n"
     ]
    }
   ],
   "source": [
    "bs = 100\r\n",
    "# MNIST Dataset\r\n",
    "train_dataset = datasets.MNIST(root='../input/data', train=True, transform=transforms.ToTensor(), download=True)\r\n",
    "test_dataset = datasets.MNIST(root='../input/data', train=False, transform=transforms.ToTensor(), download=False)\r\n",
    "\r\n",
    "# Data Loader (Input Pipeline)\r\n",
    "train_loader = torch.utils.data.DataLoader(dataset=train_dataset, batch_size=bs, shuffle=True)\r\n",
    "test_loader = torch.utils.data.DataLoader(dataset=test_dataset, batch_size=bs, shuffle=False)"
   ]
  },
  {
   "cell_type": "code",
   "execution_count": 3,
   "metadata": {
    "id": "HB8KChKvJ1WB"
   },
   "outputs": [
    {
     "name": "stdout",
     "output_type": "stream",
     "text": [
      "\n",
      "\n"
     ]
    }
   ],
   "source": [
    "class VAE(nn.Module):\r\n",
    "    def __init__(self, x_dim, h_dim1, h_dim2, z_dim):\r\n",
    "        super(VAE, self).__init__()\r\n",
    "        \r\n",
    "        # encoder part\r\n",
    "        self.fc1 = nn.Linear(x_dim, h_dim1)\r\n",
    "        self.fc2 = nn.Linear(h_dim1, h_dim2)\r\n",
    "        self.fc31 = nn.Linear(h_dim2, z_dim)\r\n",
    "        self.fc32 = nn.Linear(h_dim2, z_dim)\r\n",
    "        # decoder part\r\n",
    "        self.fc4 = nn.Linear(z_dim, h_dim2)\r\n",
    "        self.fc5 = nn.Linear(h_dim2, h_dim1)\r\n",
    "        self.fc6 = nn.Linear(h_dim1, x_dim)\r\n",
    "        \r\n",
    "    def encoder(self, x):\r\n",
    "        h = F.relu(self.fc1(x))\r\n",
    "        h = F.relu(self.fc2(h))\r\n",
    "        return self.fc31(h), self.fc32(h) # mu, log_var\r\n",
    "    \r\n",
    "    def sampling(self, mu, log_var):\r\n",
    "        std = torch.exp(0.5*log_var)\r\n",
    "        eps = torch.randn_like(std)\r\n",
    "        return eps.mul(std).add_(mu) # return z sample\r\n",
    "        \r\n",
    "    def decoder(self, z):\r\n",
    "        h = F.relu(self.fc4(z))\r\n",
    "        h = F.relu(self.fc5(h))\r\n",
    "        return F.sigmoid(self.fc6(h)) \r\n",
    "    \r\n",
    "    def forward(self, x):\r\n",
    "        mu, log_var = self.encoder(x.view(-1, 784))\r\n",
    "        z = self.sampling(mu, log_var)\r\n",
    "        return self.decoder(z), mu, log_var"
   ]
  },
  {
   "cell_type": "code",
   "execution_count": 4,
   "metadata": {
    "id": "opA6NysGKG-Q"
   },
   "outputs": [],
   "source": [
    "# build model\r\n",
    "vae = VAE(x_dim=784, h_dim1= 512, h_dim2=256, z_dim=2)\r\n",
    "device = torch.device('cuda' if torch.cuda.is_available() else 'cpu')"
   ]
  },
  {
   "cell_type": "code",
   "execution_count": 5,
   "metadata": {
    "id": "LChM0bBPKVEI"
   },
   "outputs": [],
   "source": [
    "optimizer = optim.Adam(vae.parameters())\r\n",
    "# return reconstruction error + KL divergence losses\r\n",
    "def loss_function(recon_x, x, mu, log_var):\r\n",
    "    BCE = F.binary_cross_entropy(recon_x, x.view(-1, 784), reduction='sum')\r\n",
    "    KLD = -0.5 * torch.sum(1 + log_var - mu.pow(2) - log_var.exp())\r\n",
    "    return BCE + KLD"
   ]
  },
  {
   "cell_type": "code",
   "execution_count": 6,
   "metadata": {
    "id": "sXn3HwbPKZjg"
   },
   "outputs": [],
   "source": [
    "def train_vae(epoch):\r\n",
    "    vae.train()\r\n",
    "    train_loss = 0\r\n",
    "    for batch_idx, (data, _) in enumerate(train_loader):\r\n",
    "#         data = data.cuda()\r\n",
    "        optimizer.zero_grad()\r\n",
    "        \r\n",
    "        recon_batch, mu, log_var = vae(data)\r\n",
    "        loss = loss_function(recon_batch, data, mu, log_var)\r\n",
    "        \r\n",
    "        loss.backward()\r\n",
    "        train_loss += loss.item()\r\n",
    "        optimizer.step()\r\n",
    "        \r\n",
    "        if batch_idx % 100 == 0:\r\n",
    "            print('Train Epoch: {} [{}/{} ({:.0f}%)]\\tLoss: {:.6f}'.format(\r\n",
    "                epoch, batch_idx * len(data), len(train_loader.dataset),\r\n",
    "                100. * batch_idx / len(train_loader), loss.item() / len(data)))\r\n",
    "    print('====> Epoch: {} Average loss: {:.4f}'.format(epoch, train_loss / len(train_loader.dataset)))"
   ]
  },
  {
   "cell_type": "code",
   "execution_count": 7,
   "metadata": {
    "id": "2x9xmppxKcUo"
   },
   "outputs": [],
   "source": [
    "def test_vae():\r\n",
    "    vae.eval()\r\n",
    "    test_loss= 0\r\n",
    "    with torch.no_grad():\r\n",
    "        for data, _ in test_loader:\r\n",
    "#             data = data.cuda()\r\n",
    "            recon, mu, log_var = vae(data)\r\n",
    "            \r\n",
    "            # sum up batch loss\r\n",
    "            test_loss += loss_function(recon, data, mu, log_var).item()\r\n",
    "        \r\n",
    "    test_loss /= len(test_loader.dataset)\r\n",
    "    print('====> Test set loss: {:.4f}'.format(test_loss))"
   ]
  },
  {
   "cell_type": "code",
   "execution_count": 8,
   "metadata": {
    "colab": {
     "base_uri": "https://localhost:8080/"
    },
    "id": "psTj6BdyKjXg",
    "outputId": "86118770-7b70-4514-e679-98543c12db88"
   },
   "outputs": [
    {
     "name": "stdout",
     "output_type": "stream",
     "text": [
      "Train Epoch: 1 [0/60000 (0%)]\tLoss: 546.977148\n"
     ]
    },
    {
     "name": "stderr",
     "output_type": "stream",
     "text": [
      "c:\\users\\risha\\appdata\\local\\programs\\python\\python37\\lib\\site-packages\\torch\\nn\\functional.py:1625: UserWarning: nn.functional.sigmoid is deprecated. Use torch.sigmoid instead.\n",
      "  warnings.warn(\"nn.functional.sigmoid is deprecated. Use torch.sigmoid instead.\")\n"
     ]
    },
    {
     "name": "stdout",
     "output_type": "stream",
     "text": [
      "Train Epoch: 1 [10000/60000 (17%)]\tLoss: 184.531719\n",
      "Train Epoch: 1 [20000/60000 (33%)]\tLoss: 173.741328\n",
      "Train Epoch: 1 [30000/60000 (50%)]\tLoss: 163.149834\n",
      "Train Epoch: 1 [40000/60000 (67%)]\tLoss: 164.725801\n",
      "Train Epoch: 1 [50000/60000 (83%)]\tLoss: 163.170820\n",
      "====> Epoch: 1 Average loss: 179.2621\n",
      "====> Test set loss: 162.2801\n",
      "Train Epoch: 2 [0/60000 (0%)]\tLoss: 157.102441\n",
      "Train Epoch: 2 [10000/60000 (17%)]\tLoss: 157.139248\n",
      "Train Epoch: 2 [20000/60000 (33%)]\tLoss: 152.129707\n",
      "Train Epoch: 2 [30000/60000 (50%)]\tLoss: 154.139482\n",
      "Train Epoch: 2 [40000/60000 (67%)]\tLoss: 165.028418\n",
      "Train Epoch: 2 [50000/60000 (83%)]\tLoss: 153.972363\n",
      "====> Epoch: 2 Average loss: 158.0705\n",
      "====> Test set loss: 155.3296\n",
      "Train Epoch: 3 [0/60000 (0%)]\tLoss: 150.449316\n",
      "Train Epoch: 3 [10000/60000 (17%)]\tLoss: 149.269600\n",
      "Train Epoch: 3 [20000/60000 (33%)]\tLoss: 142.354424\n",
      "Train Epoch: 3 [30000/60000 (50%)]\tLoss: 154.365430\n",
      "Train Epoch: 3 [40000/60000 (67%)]\tLoss: 145.834951\n",
      "Train Epoch: 3 [50000/60000 (83%)]\tLoss: 154.529102\n",
      "====> Epoch: 3 Average loss: 152.7185\n",
      "====> Test set loss: 151.0376\n",
      "Train Epoch: 4 [0/60000 (0%)]\tLoss: 153.825430\n",
      "Train Epoch: 4 [10000/60000 (17%)]\tLoss: 148.569229\n",
      "Train Epoch: 4 [20000/60000 (33%)]\tLoss: 151.240889\n",
      "Train Epoch: 4 [30000/60000 (50%)]\tLoss: 152.867363\n",
      "Train Epoch: 4 [40000/60000 (67%)]\tLoss: 149.437656\n",
      "Train Epoch: 4 [50000/60000 (83%)]\tLoss: 150.532422\n",
      "====> Epoch: 4 Average loss: 149.4289\n",
      "====> Test set loss: 148.4421\n",
      "Train Epoch: 5 [0/60000 (0%)]\tLoss: 151.987051\n",
      "Train Epoch: 5 [10000/60000 (17%)]\tLoss: 156.574375\n",
      "Train Epoch: 5 [20000/60000 (33%)]\tLoss: 145.477627\n",
      "Train Epoch: 5 [30000/60000 (50%)]\tLoss: 147.363730\n",
      "Train Epoch: 5 [40000/60000 (67%)]\tLoss: 152.432861\n",
      "Train Epoch: 5 [50000/60000 (83%)]\tLoss: 146.614912\n",
      "====> Epoch: 5 Average loss: 147.4309\n",
      "====> Test set loss: 146.8375\n",
      "Train Epoch: 6 [0/60000 (0%)]\tLoss: 149.958066\n",
      "Train Epoch: 6 [10000/60000 (17%)]\tLoss: 148.529531\n",
      "Train Epoch: 6 [20000/60000 (33%)]\tLoss: 147.704580\n",
      "Train Epoch: 6 [30000/60000 (50%)]\tLoss: 154.550449\n",
      "Train Epoch: 6 [40000/60000 (67%)]\tLoss: 146.413135\n",
      "Train Epoch: 6 [50000/60000 (83%)]\tLoss: 150.975879\n",
      "====> Epoch: 6 Average loss: 145.9038\n",
      "====> Test set loss: 145.7660\n",
      "Train Epoch: 7 [0/60000 (0%)]\tLoss: 149.148037\n",
      "Train Epoch: 7 [10000/60000 (17%)]\tLoss: 137.628662\n",
      "Train Epoch: 7 [20000/60000 (33%)]\tLoss: 144.011436\n",
      "Train Epoch: 7 [30000/60000 (50%)]\tLoss: 143.397637\n",
      "Train Epoch: 7 [40000/60000 (67%)]\tLoss: 150.278262\n",
      "Train Epoch: 7 [50000/60000 (83%)]\tLoss: 143.596094\n",
      "====> Epoch: 7 Average loss: 144.8423\n",
      "====> Test set loss: 144.8768\n",
      "Train Epoch: 8 [0/60000 (0%)]\tLoss: 153.983779\n",
      "Train Epoch: 8 [10000/60000 (17%)]\tLoss: 144.210225\n",
      "Train Epoch: 8 [20000/60000 (33%)]\tLoss: 137.896025\n",
      "Train Epoch: 8 [30000/60000 (50%)]\tLoss: 152.994092\n",
      "Train Epoch: 8 [40000/60000 (67%)]\tLoss: 152.592910\n",
      "Train Epoch: 8 [50000/60000 (83%)]\tLoss: 145.554014\n",
      "====> Epoch: 8 Average loss: 144.0293\n",
      "====> Test set loss: 144.3309\n",
      "Train Epoch: 9 [0/60000 (0%)]\tLoss: 155.650615\n",
      "Train Epoch: 9 [10000/60000 (17%)]\tLoss: 136.369014\n",
      "Train Epoch: 9 [20000/60000 (33%)]\tLoss: 144.625732\n",
      "Train Epoch: 9 [30000/60000 (50%)]\tLoss: 147.013330\n",
      "Train Epoch: 9 [40000/60000 (67%)]\tLoss: 142.779453\n",
      "Train Epoch: 9 [50000/60000 (83%)]\tLoss: 139.924541\n",
      "====> Epoch: 9 Average loss: 143.1739\n",
      "====> Test set loss: 144.0161\n",
      "Train Epoch: 10 [0/60000 (0%)]\tLoss: 139.163359\n",
      "Train Epoch: 10 [10000/60000 (17%)]\tLoss: 142.575117\n",
      "Train Epoch: 10 [20000/60000 (33%)]\tLoss: 139.693984\n",
      "Train Epoch: 10 [30000/60000 (50%)]\tLoss: 140.443623\n",
      "Train Epoch: 10 [40000/60000 (67%)]\tLoss: 135.032256\n",
      "Train Epoch: 10 [50000/60000 (83%)]\tLoss: 143.596465\n",
      "====> Epoch: 10 Average loss: 142.4847\n",
      "====> Test set loss: 142.9854\n",
      "Train Epoch: 11 [0/60000 (0%)]\tLoss: 134.490176\n",
      "Train Epoch: 11 [10000/60000 (17%)]\tLoss: 141.574141\n",
      "Train Epoch: 11 [20000/60000 (33%)]\tLoss: 139.552373\n",
      "Train Epoch: 11 [30000/60000 (50%)]\tLoss: 147.118193\n",
      "Train Epoch: 11 [40000/60000 (67%)]\tLoss: 139.210215\n",
      "Train Epoch: 11 [50000/60000 (83%)]\tLoss: 153.517773\n",
      "====> Epoch: 11 Average loss: 141.8593\n",
      "====> Test set loss: 142.8401\n",
      "Train Epoch: 12 [0/60000 (0%)]\tLoss: 136.916865\n",
      "Train Epoch: 12 [10000/60000 (17%)]\tLoss: 136.873066\n",
      "Train Epoch: 12 [20000/60000 (33%)]\tLoss: 140.087314\n",
      "Train Epoch: 12 [30000/60000 (50%)]\tLoss: 137.587012\n",
      "Train Epoch: 12 [40000/60000 (67%)]\tLoss: 138.573213\n",
      "Train Epoch: 12 [50000/60000 (83%)]\tLoss: 142.776357\n",
      "====> Epoch: 12 Average loss: 141.4376\n",
      "====> Test set loss: 142.8182\n",
      "Train Epoch: 13 [0/60000 (0%)]\tLoss: 145.877559\n",
      "Train Epoch: 13 [10000/60000 (17%)]\tLoss: 140.854668\n",
      "Train Epoch: 13 [20000/60000 (33%)]\tLoss: 145.707695\n",
      "Train Epoch: 13 [30000/60000 (50%)]\tLoss: 139.190566\n",
      "Train Epoch: 13 [40000/60000 (67%)]\tLoss: 146.343076\n",
      "Train Epoch: 13 [50000/60000 (83%)]\tLoss: 139.474746\n",
      "====> Epoch: 13 Average loss: 141.1104\n",
      "====> Test set loss: 142.0065\n",
      "Train Epoch: 14 [0/60000 (0%)]\tLoss: 130.159102\n",
      "Train Epoch: 14 [10000/60000 (17%)]\tLoss: 137.286201\n",
      "Train Epoch: 14 [20000/60000 (33%)]\tLoss: 136.648242\n",
      "Train Epoch: 14 [30000/60000 (50%)]\tLoss: 138.432920\n",
      "Train Epoch: 14 [40000/60000 (67%)]\tLoss: 143.433770\n",
      "Train Epoch: 14 [50000/60000 (83%)]\tLoss: 149.411484\n",
      "====> Epoch: 14 Average loss: 140.5793\n",
      "====> Test set loss: 141.7847\n"
     ]
    }
   ],
   "source": [
    "for epoch in range(1, 15):\r\n",
    "    train_vae(epoch)\r\n",
    "    test_vae()"
   ]
  },
  {
   "cell_type": "code",
   "execution_count": 9,
   "metadata": {
    "colab": {
     "base_uri": "https://localhost:8080/"
    },
    "id": "vdGfzK5NKj2W",
    "outputId": "63285372-3d2d-4760-f35b-99e95bc5c0e5"
   },
   "outputs": [],
   "source": [
    "with torch.no_grad():\r\n",
    "    z = torch.randn(64, 2)\r\n",
    "    sample = vae.decoder(z)\r\n",
    "    save_image(sample.view(64, 1, 28, 28), '/VAE' + '.png')"
   ]
  },
  {
   "cell_type": "code",
   "execution_count": 10,
   "metadata": {
    "colab": {
     "base_uri": "https://localhost:8080/",
     "height": 259
    },
    "id": "y9fa0ISpom7x",
    "outputId": "c062598e-a3db-4a66-8693-04a30d148d00"
   },
   "outputs": [
    {
     "data": {
      "image/png": "[encoded data removed]",
      "text/plain": [
       "<IPython.core.display.Image object>"
      ]
     },
     "execution_count": 10,
     "metadata": {},
     "output_type": "execute_result"
    }
   ],
   "source": [
    "from IPython.display import Image\r\n",
    "Image('/VAE.png')"
   ]
  },
  {
   "cell_type": "markdown",
   "metadata": {
    "id": "7AtWGXIJm5Hc"
   },
   "source": [
    "GAN"
   ]
  },
  {
   "cell_type": "code",
   "execution_count": 11,
   "metadata": {
    "id": "eXnqAgtWmCUE"
   },
   "outputs": [],
   "source": [
    "transform = transforms.Compose([\r\n",
    "                                transforms.ToTensor(),\r\n",
    "                                transforms.Normalize((0.5,),(0.5,)),\r\n",
    "])\r\n",
    "to_pil_image = transforms.ToPILImage()"
   ]
  },
  {
   "cell_type": "code",
   "execution_count": 12,
   "metadata": {
    "id": "UPF3na3XMAh3"
   },
   "outputs": [],
   "source": [
    "# learning parameters\r\n",
    "batch_size = 256\r\n",
    "epochs = 100\r\n",
    "sample_size = 64 # fixed sample size\r\n",
    "nz = 128 # latent vector size\r\n",
    "k = 1 # number of steps to apply to the discriminator\r\n",
    "device = torch.device('cuda' if torch.cuda.is_available() else 'cpu')"
   ]
  },
  {
   "cell_type": "code",
   "execution_count": 13,
   "metadata": {
    "id": "SHD01WbFmEz5"
   },
   "outputs": [],
   "source": [
    "train_data = datasets.MNIST(\r\n",
    "    root='../input/data',\r\n",
    "    train=True,\r\n",
    "    download=True,\r\n",
    "    transform=transform\r\n",
    ")\r\n",
    "train_loader = DataLoader(train_data, batch_size=batch_size, shuffle=True)"
   ]
  },
  {
   "cell_type": "code",
   "execution_count": 14,
   "metadata": {
    "id": "qi3oiVq3WDB7"
   },
   "outputs": [],
   "source": [
    "class Generator(nn.Module):\r\n",
    "    def __init__(self, nz):\r\n",
    "        super(Generator, self).__init__()\r\n",
    "        self.nz = nz\r\n",
    "        self.main = nn.Sequential(\r\n",
    "            nn.Linear(self.nz, 256),\r\n",
    "            nn.LeakyReLU(0.2),\r\n",
    "            nn.Linear(256, 512),\r\n",
    "            nn.LeakyReLU(0.2),\r\n",
    "            nn.Linear(512, 1024),\r\n",
    "            nn.LeakyReLU(0.2),\r\n",
    "            nn.Linear(1024, 784),\r\n",
    "            nn.Tanh(),\r\n",
    "        )\r\n",
    "    def forward(self, x):\r\n",
    "        return self.main(x).view(-1, 1, 28, 28)"
   ]
  },
  {
   "cell_type": "code",
   "execution_count": 15,
   "metadata": {
    "id": "EcMwF8NRXSbu"
   },
   "outputs": [],
   "source": [
    "class Discriminator(nn.Module):\r\n",
    "    def __init__(self):\r\n",
    "        super(Discriminator, self).__init__()\r\n",
    "        self.n_input = 784\r\n",
    "        self.main = nn.Sequential(\r\n",
    "            nn.Linear(self.n_input, 1024),\r\n",
    "            nn.LeakyReLU(0.2),\r\n",
    "            nn.Dropout(0.3),\r\n",
    "            nn.Linear(1024, 512),\r\n",
    "            nn.LeakyReLU(0.2),\r\n",
    "            nn.Dropout(0.3),\r\n",
    "            nn.Linear(512, 256),\r\n",
    "            nn.LeakyReLU(0.2),\r\n",
    "            nn.Dropout(0.3),\r\n",
    "            nn.Linear(256, 1),\r\n",
    "            nn.Sigmoid(),\r\n",
    "        )\r\n",
    "    def forward(self, x):\r\n",
    "        x = x.view(-1, 784)\r\n",
    "        return self.main(x)"
   ]
  },
  {
   "cell_type": "code",
   "execution_count": 16,
   "metadata": {
    "id": "VsLdnp3yXX31"
   },
   "outputs": [],
   "source": [
    "generator = Generator(nz).to(device)\r\n",
    "discriminator = Discriminator().to(device)"
   ]
  },
  {
   "cell_type": "code",
   "execution_count": 17,
   "metadata": {
    "id": "kbxZSh3zXaJu"
   },
   "outputs": [],
   "source": [
    "# optimizers\r\n",
    "optim_g = optim.Adam(generator.parameters(), lr=0.0002)\r\n",
    "optim_d = optim.Adam(discriminator.parameters(), lr=0.0002)"
   ]
  },
  {
   "cell_type": "code",
   "execution_count": 18,
   "metadata": {
    "id": "BiA5zMvRXcKs"
   },
   "outputs": [],
   "source": [
    "# loss function\r\n",
    "criterion = nn.BCELoss()"
   ]
  },
  {
   "cell_type": "code",
   "execution_count": 19,
   "metadata": {
    "id": "SzegPFiFXeDM"
   },
   "outputs": [],
   "source": [
    "# to create real labels (1s)\r\n",
    "def label_real(size):\r\n",
    "    data = torch.ones(size, 1)\r\n",
    "    return data.to(device)\r\n",
    "# to create fake labels (0s)\r\n",
    "def label_fake(size):\r\n",
    "    data = torch.zeros(size, 1)\r\n",
    "    return data.to(device)"
   ]
  },
  {
   "cell_type": "code",
   "execution_count": 20,
   "metadata": {
    "id": "djJ9mTLTXfvd"
   },
   "outputs": [],
   "source": [
    "# function to train the discriminator network\r\n",
    "def train_discriminator(optimizer, data_real, data_fake):\r\n",
    "    b_size = data_real.size(0)\r\n",
    "    real_label = label_real(b_size)\r\n",
    "    fake_label = label_fake(b_size)\r\n",
    "    optimizer.zero_grad()\r\n",
    "    output_real = discriminator(data_real)\r\n",
    "    loss_real = criterion(output_real, real_label)\r\n",
    "    output_fake = discriminator(data_fake)\r\n",
    "    loss_fake = criterion(output_fake, fake_label)\r\n",
    "    loss_real.backward()\r\n",
    "    loss_fake.backward()\r\n",
    "    optimizer.step()\r\n",
    "    return loss_real + loss_fake"
   ]
  },
  {
   "cell_type": "code",
   "execution_count": 21,
   "metadata": {
    "id": "AZx2S5IRXhnV"
   },
   "outputs": [],
   "source": [
    "# function to train the generator network\r\n",
    "def train_generator(optimizer, data_fake):\r\n",
    "    b_size = data_fake.size(0)\r\n",
    "    real_label = label_real(b_size)\r\n",
    "    optimizer.zero_grad()\r\n",
    "    output = discriminator(data_fake)\r\n",
    "    loss = criterion(output, real_label)\r\n",
    "    loss.backward()\r\n",
    "    optimizer.step()\r\n",
    "    return loss"
   ]
  },
  {
   "cell_type": "code",
   "execution_count": 22,
   "metadata": {
    "id": "isxYt8qOXqKb"
   },
   "outputs": [],
   "source": [
    "# function to create the noise vector\r\n",
    "def create_noise(sample_size, nz):\r\n",
    "    return torch.randn(sample_size, nz).to(device)"
   ]
  },
  {
   "cell_type": "code",
   "execution_count": 23,
   "metadata": {
    "id": "i1dNbj4SXjIt"
   },
   "outputs": [],
   "source": [
    "noise = create_noise(sample_size, nz)"
   ]
  },
  {
   "cell_type": "code",
   "execution_count": 24,
   "metadata": {
    "id": "KfxzuPAlZ6gE"
   },
   "outputs": [],
   "source": [
    "losses_g = [] # to store generator loss after each epoch\r\n",
    "losses_d = [] # to store discriminator loss after each epoch\r\n",
    "images = [] # to store images generatd by the generator"
   ]
  },
  {
   "cell_type": "code",
   "execution_count": 25,
   "metadata": {
    "colab": {
     "base_uri": "https://localhost:8080/"
    },
    "id": "i29G5iaGXlsN",
    "outputId": "650dd84d-06af-451a-9c68-51060646267a"
   },
   "outputs": [
    {
     "name": "stderr",
     "output_type": "stream",
     "text": [
      "235it [00:09, 24.95it/s]                                                                                               \n",
      "  1%|▋                                                                                 | 2/234 [00:00<00:12, 18.35it/s]"
     ]
    },
    {
     "name": "stdout",
     "output_type": "stream",
     "text": [
      "Epoch 0 of 100\n",
      "Generator loss: 1.69651628, Discriminator loss: 1.14951658\n",
      "\n",
      "\n"
     ]
    },
    {
     "name": "stderr",
     "output_type": "stream",
     "text": [
      "235it [00:09, 25.42it/s]                                                                                               \n",
      "  1%|█                                                                                 | 3/234 [00:00<00:09, 24.00it/s]"
     ]
    },
    {
     "name": "stdout",
     "output_type": "stream",
     "text": [
      "Epoch 1 of 100\n",
      "Generator loss: 2.81018639, Discriminator loss: 1.03476548\n"
     ]
    },
    {
     "name": "stderr",
     "output_type": "stream",
     "text": [
      "235it [00:09, 25.87it/s]                                                                                               \n",
      "  1%|█                                                                                 | 3/234 [00:00<00:09, 23.62it/s]"
     ]
    },
    {
     "name": "stdout",
     "output_type": "stream",
     "text": [
      "Epoch 2 of 100\n",
      "Generator loss: 1.96978951, Discriminator loss: 1.08045745\n"
     ]
    },
    {
     "name": "stderr",
     "output_type": "stream",
     "text": [
      "235it [00:09, 25.68it/s]                                                                                               \n",
      "  1%|█                                                                                 | 3/234 [00:00<00:10, 22.39it/s]"
     ]
    },
    {
     "name": "stdout",
     "output_type": "stream",
     "text": [
      "Epoch 3 of 100\n",
      "Generator loss: 1.16333687, Discriminator loss: 1.14579201\n"
     ]
    },
    {
     "name": "stderr",
     "output_type": "stream",
     "text": [
      "235it [00:09, 25.72it/s]                                                                                               \n",
      "  1%|█                                                                                 | 3/234 [00:00<00:10, 21.13it/s]"
     ]
    },
    {
     "name": "stdout",
     "output_type": "stream",
     "text": [
      "Epoch 4 of 100\n",
      "Generator loss: 1.97279239, Discriminator loss: 1.09522665\n"
     ]
    },
    {
     "name": "stderr",
     "output_type": "stream",
     "text": [
      "235it [00:09, 25.58it/s]                                                                                               \n",
      "  1%|█                                                                                 | 3/234 [00:00<00:10, 22.73it/s]"
     ]
    },
    {
     "name": "stdout",
     "output_type": "stream",
     "text": [
      "Epoch 5 of 100\n",
      "Generator loss: 1.69468498, Discriminator loss: 1.20191312\n"
     ]
    },
    {
     "name": "stderr",
     "output_type": "stream",
     "text": [
      "235it [00:09, 25.66it/s]                                                                                               \n",
      "  1%|█                                                                                 | 3/234 [00:00<00:10, 22.22it/s]"
     ]
    },
    {
     "name": "stdout",
     "output_type": "stream",
     "text": [
      "Epoch 6 of 100\n",
      "Generator loss: 2.38416409, Discriminator loss: 0.97645211\n"
     ]
    },
    {
     "name": "stderr",
     "output_type": "stream",
     "text": [
      "235it [00:09, 25.50it/s]                                                                                               \n",
      "  1%|█                                                                                 | 3/234 [00:00<00:09, 24.59it/s]"
     ]
    },
    {
     "name": "stdout",
     "output_type": "stream",
     "text": [
      "Epoch 7 of 100\n",
      "Generator loss: 2.78481174, Discriminator loss: 0.65669078\n"
     ]
    },
    {
     "name": "stderr",
     "output_type": "stream",
     "text": [
      "235it [00:09, 25.56it/s]                                                                                               \n",
      "  1%|█                                                                                 | 3/234 [00:00<00:11, 20.41it/s]"
     ]
    },
    {
     "name": "stdout",
     "output_type": "stream",
     "text": [
      "Epoch 8 of 100\n",
      "Generator loss: 3.18629813, Discriminator loss: 0.48101047\n"
     ]
    },
    {
     "name": "stderr",
     "output_type": "stream",
     "text": [
      "235it [00:09, 25.38it/s]                                                                                               \n",
      "  1%|▋                                                                                 | 2/234 [00:00<00:12, 18.52it/s]"
     ]
    },
    {
     "name": "stdout",
     "output_type": "stream",
     "text": [
      "Epoch 9 of 100\n",
      "Generator loss: 3.20033956, Discriminator loss: 0.42264149\n"
     ]
    },
    {
     "name": "stderr",
     "output_type": "stream",
     "text": [
      "235it [00:09, 25.31it/s]                                                                                               \n",
      "  1%|▋                                                                                 | 2/234 [00:00<00:12, 18.69it/s]"
     ]
    },
    {
     "name": "stdout",
     "output_type": "stream",
     "text": [
      "Epoch 10 of 100\n",
      "Generator loss: 2.81831837, Discriminator loss: 0.56088930\n"
     ]
    },
    {
     "name": "stderr",
     "output_type": "stream",
     "text": [
      "235it [00:09, 25.31it/s]                                                                                               \n",
      "  1%|▋                                                                                 | 2/234 [00:00<00:12, 18.69it/s]"
     ]
    },
    {
     "name": "stdout",
     "output_type": "stream",
     "text": [
      "Epoch 11 of 100\n",
      "Generator loss: 2.70792127, Discriminator loss: 0.51506585\n"
     ]
    },
    {
     "name": "stderr",
     "output_type": "stream",
     "text": [
      "235it [00:09, 25.16it/s]                                                                                               \n",
      "  1%|▋                                                                                 | 2/234 [00:00<00:12, 18.87it/s]"
     ]
    },
    {
     "name": "stdout",
     "output_type": "stream",
     "text": [
      "Epoch 12 of 100\n",
      "Generator loss: 2.94624138, Discriminator loss: 0.51160264\n"
     ]
    },
    {
     "name": "stderr",
     "output_type": "stream",
     "text": [
      "235it [00:09, 25.12it/s]                                                                                               \n",
      "  1%|▋                                                                                 | 2/234 [00:00<00:11, 19.61it/s]"
     ]
    },
    {
     "name": "stdout",
     "output_type": "stream",
     "text": [
      "Epoch 13 of 100\n",
      "Generator loss: 2.78991914, Discriminator loss: 0.53613889\n"
     ]
    },
    {
     "name": "stderr",
     "output_type": "stream",
     "text": [
      "235it [00:09, 25.09it/s]                                                                                               \n",
      "  1%|█                                                                                 | 3/234 [00:00<00:11, 19.61it/s]"
     ]
    },
    {
     "name": "stdout",
     "output_type": "stream",
     "text": [
      "Epoch 14 of 100\n",
      "Generator loss: 3.15370107, Discriminator loss: 0.47290826\n"
     ]
    },
    {
     "name": "stderr",
     "output_type": "stream",
     "text": [
      "235it [00:09, 25.02it/s]                                                                                               \n",
      "  2%|█▍                                                                                | 4/234 [00:00<00:11, 19.29it/s]"
     ]
    },
    {
     "name": "stdout",
     "output_type": "stream",
     "text": [
      "Epoch 15 of 100\n",
      "Generator loss: 3.31703949, Discriminator loss: 0.46036151\n"
     ]
    },
    {
     "name": "stderr",
     "output_type": "stream",
     "text": [
      "235it [00:09, 24.95it/s]                                                                                               \n",
      "  1%|▋                                                                                 | 2/234 [00:00<00:12, 18.35it/s]"
     ]
    },
    {
     "name": "stdout",
     "output_type": "stream",
     "text": [
      "Epoch 16 of 100\n",
      "Generator loss: 3.05827141, Discriminator loss: 0.44431555\n"
     ]
    },
    {
     "name": "stderr",
     "output_type": "stream",
     "text": [
      "235it [00:09, 24.88it/s]                                                                                               \n",
      "  1%|█                                                                                 | 3/234 [00:00<00:10, 23.08it/s]"
     ]
    },
    {
     "name": "stdout",
     "output_type": "stream",
     "text": [
      "Epoch 17 of 100\n",
      "Generator loss: 2.99081755, Discriminator loss: 0.54019082\n"
     ]
    },
    {
     "name": "stderr",
     "output_type": "stream",
     "text": [
      "235it [00:09, 24.87it/s]                                                                                               \n",
      "  1%|█                                                                                 | 3/234 [00:00<00:10, 21.90it/s]"
     ]
    },
    {
     "name": "stdout",
     "output_type": "stream",
     "text": [
      "Epoch 18 of 100\n",
      "Generator loss: 2.87644196, Discriminator loss: 0.50939125\n"
     ]
    },
    {
     "name": "stderr",
     "output_type": "stream",
     "text": [
      "235it [00:09, 24.25it/s]                                                                                               \n",
      "  1%|▋                                                                                 | 2/234 [00:00<00:12, 18.69it/s]"
     ]
    },
    {
     "name": "stdout",
     "output_type": "stream",
     "text": [
      "Epoch 19 of 100\n",
      "Generator loss: 2.93578887, Discriminator loss: 0.50899214\n"
     ]
    },
    {
     "name": "stderr",
     "output_type": "stream",
     "text": [
      "235it [00:09, 24.42it/s]                                                                                               \n",
      "  1%|█                                                                                 | 3/234 [00:00<00:11, 20.27it/s]"
     ]
    },
    {
     "name": "stdout",
     "output_type": "stream",
     "text": [
      "Epoch 20 of 100\n",
      "Generator loss: 2.68861103, Discriminator loss: 0.60037923\n"
     ]
    },
    {
     "name": "stderr",
     "output_type": "stream",
     "text": [
      "235it [00:09, 24.63it/s]                                                                                               \n",
      "  1%|█                                                                                 | 3/234 [00:00<00:10, 22.90it/s]"
     ]
    },
    {
     "name": "stdout",
     "output_type": "stream",
     "text": [
      "Epoch 21 of 100\n",
      "Generator loss: 2.52779150, Discriminator loss: 0.58761615\n"
     ]
    },
    {
     "name": "stderr",
     "output_type": "stream",
     "text": [
      "235it [00:09, 24.46it/s]                                                                                               \n",
      "  1%|█                                                                                 | 3/234 [00:00<00:10, 22.90it/s]"
     ]
    },
    {
     "name": "stdout",
     "output_type": "stream",
     "text": [
      "Epoch 22 of 100\n",
      "Generator loss: 2.56054401, Discriminator loss: 0.53137499\n"
     ]
    },
    {
     "name": "stderr",
     "output_type": "stream",
     "text": [
      "235it [00:09, 24.36it/s]                                                                                               \n",
      "  1%|▋                                                                                 | 2/234 [00:00<00:12, 18.52it/s]"
     ]
    },
    {
     "name": "stdout",
     "output_type": "stream",
     "text": [
      "Epoch 23 of 100\n",
      "Generator loss: 2.51874232, Discriminator loss: 0.62013841\n"
     ]
    },
    {
     "name": "stderr",
     "output_type": "stream",
     "text": [
      "235it [00:09, 24.30it/s]                                                                                               \n",
      "  1%|█                                                                                 | 3/234 [00:00<00:10, 21.90it/s]"
     ]
    },
    {
     "name": "stdout",
     "output_type": "stream",
     "text": [
      "Epoch 24 of 100\n",
      "Generator loss: 2.65036583, Discriminator loss: 0.61147642\n"
     ]
    },
    {
     "name": "stderr",
     "output_type": "stream",
     "text": [
      "235it [00:09, 24.40it/s]                                                                                               \n",
      "  1%|▋                                                                                 | 2/234 [00:00<00:11, 19.80it/s]"
     ]
    },
    {
     "name": "stdout",
     "output_type": "stream",
     "text": [
      "Epoch 25 of 100\n",
      "Generator loss: 2.54015756, Discriminator loss: 0.58455783\n"
     ]
    },
    {
     "name": "stderr",
     "output_type": "stream",
     "text": [
      "235it [00:09, 24.20it/s]                                                                                               \n",
      "  1%|▋                                                                                 | 2/234 [00:00<00:12, 18.35it/s]"
     ]
    },
    {
     "name": "stdout",
     "output_type": "stream",
     "text": [
      "Epoch 26 of 100\n",
      "Generator loss: 2.54672933, Discriminator loss: 0.61549610\n"
     ]
    },
    {
     "name": "stderr",
     "output_type": "stream",
     "text": [
      "235it [00:09, 24.23it/s]                                                                                               \n",
      "  1%|█                                                                                 | 3/234 [00:00<00:11, 20.13it/s]"
     ]
    },
    {
     "name": "stdout",
     "output_type": "stream",
     "text": [
      "Epoch 27 of 100\n",
      "Generator loss: 2.21329951, Discriminator loss: 0.71331483\n"
     ]
    },
    {
     "name": "stderr",
     "output_type": "stream",
     "text": [
      "235it [00:09, 24.18it/s]                                                                                               \n",
      "  1%|█                                                                                 | 3/234 [00:00<00:10, 22.06it/s]"
     ]
    },
    {
     "name": "stdout",
     "output_type": "stream",
     "text": [
      "Epoch 28 of 100\n",
      "Generator loss: 2.50879288, Discriminator loss: 0.59210056\n"
     ]
    },
    {
     "name": "stderr",
     "output_type": "stream",
     "text": [
      "235it [00:09, 24.32it/s]                                                                                               \n",
      "  1%|▋                                                                                 | 2/234 [00:00<00:11, 20.00it/s]"
     ]
    },
    {
     "name": "stdout",
     "output_type": "stream",
     "text": [
      "Epoch 29 of 100\n",
      "Generator loss: 2.52831745, Discriminator loss: 0.66013288\n"
     ]
    },
    {
     "name": "stderr",
     "output_type": "stream",
     "text": [
      "235it [00:09, 24.31it/s]                                                                                               \n",
      "  2%|█▍                                                                                | 4/234 [00:00<00:11, 19.23it/s]"
     ]
    },
    {
     "name": "stdout",
     "output_type": "stream",
     "text": [
      "Epoch 30 of 100\n",
      "Generator loss: 2.38587332, Discriminator loss: 0.64884061\n"
     ]
    },
    {
     "name": "stderr",
     "output_type": "stream",
     "text": [
      "235it [00:09, 24.16it/s]                                                                                               \n",
      "  1%|█                                                                                 | 3/234 [00:00<00:09, 23.26it/s]"
     ]
    },
    {
     "name": "stdout",
     "output_type": "stream",
     "text": [
      "Epoch 31 of 100\n",
      "Generator loss: 2.35420537, Discriminator loss: 0.66252255\n"
     ]
    },
    {
     "name": "stderr",
     "output_type": "stream",
     "text": [
      "235it [00:09, 24.14it/s]                                                                                               \n",
      "  1%|▋                                                                                 | 2/234 [00:00<00:11, 20.00it/s]"
     ]
    },
    {
     "name": "stdout",
     "output_type": "stream",
     "text": [
      "Epoch 32 of 100\n",
      "Generator loss: 2.24422741, Discriminator loss: 0.71706098\n"
     ]
    },
    {
     "name": "stderr",
     "output_type": "stream",
     "text": [
      "235it [00:09, 24.05it/s]                                                                                               \n",
      "  1%|▋                                                                                 | 2/234 [00:00<00:12, 18.18it/s]"
     ]
    },
    {
     "name": "stdout",
     "output_type": "stream",
     "text": [
      "Epoch 33 of 100\n",
      "Generator loss: 2.15830255, Discriminator loss: 0.68485874\n"
     ]
    },
    {
     "name": "stderr",
     "output_type": "stream",
     "text": [
      "235it [00:09, 23.76it/s]                                                                                               \n",
      "  1%|█                                                                                 | 3/234 [00:00<00:10, 21.13it/s]"
     ]
    },
    {
     "name": "stdout",
     "output_type": "stream",
     "text": [
      "Epoch 34 of 100\n",
      "Generator loss: 1.93744123, Discriminator loss: 0.76326454\n"
     ]
    },
    {
     "name": "stderr",
     "output_type": "stream",
     "text": [
      "235it [00:10, 22.99it/s]                                                                                               \n",
      "  1%|▋                                                                                 | 2/234 [00:00<00:14, 16.39it/s]"
     ]
    },
    {
     "name": "stdout",
     "output_type": "stream",
     "text": [
      "Epoch 35 of 100\n",
      "Generator loss: 2.16941285, Discriminator loss: 0.70090216\n"
     ]
    },
    {
     "name": "stderr",
     "output_type": "stream",
     "text": [
      "235it [00:10, 23.32it/s]                                                                                               \n",
      "  1%|█                                                                                 | 3/234 [00:00<00:10, 22.22it/s]"
     ]
    },
    {
     "name": "stdout",
     "output_type": "stream",
     "text": [
      "Epoch 36 of 100\n",
      "Generator loss: 2.14441061, Discriminator loss: 0.73775482\n"
     ]
    },
    {
     "name": "stderr",
     "output_type": "stream",
     "text": [
      "235it [00:09, 23.60it/s]                                                                                               \n",
      "  1%|▋                                                                                 | 2/234 [00:00<00:12, 18.02it/s]"
     ]
    },
    {
     "name": "stdout",
     "output_type": "stream",
     "text": [
      "Epoch 37 of 100\n",
      "Generator loss: 1.93130469, Discriminator loss: 0.77618343\n"
     ]
    },
    {
     "name": "stderr",
     "output_type": "stream",
     "text": [
      "235it [00:09, 23.67it/s]                                                                                               \n",
      "  1%|█                                                                                 | 3/234 [00:00<00:10, 22.39it/s]"
     ]
    },
    {
     "name": "stdout",
     "output_type": "stream",
     "text": [
      "Epoch 38 of 100\n",
      "Generator loss: 1.96724451, Discriminator loss: 0.76791620\n"
     ]
    },
    {
     "name": "stderr",
     "output_type": "stream",
     "text": [
      "235it [00:09, 23.57it/s]                                                                                               \n",
      "  1%|▋                                                                                 | 2/234 [00:00<00:12, 18.02it/s]"
     ]
    },
    {
     "name": "stdout",
     "output_type": "stream",
     "text": [
      "Epoch 39 of 100\n",
      "Generator loss: 2.05838752, Discriminator loss: 0.78426975\n"
     ]
    },
    {
     "name": "stderr",
     "output_type": "stream",
     "text": [
      "235it [00:10, 23.36it/s]                                                                                               \n",
      "  1%|▋                                                                                 | 2/234 [00:00<00:13, 16.95it/s]"
     ]
    },
    {
     "name": "stdout",
     "output_type": "stream",
     "text": [
      "Epoch 40 of 100\n",
      "Generator loss: 1.99504483, Discriminator loss: 0.73640567\n"
     ]
    },
    {
     "name": "stderr",
     "output_type": "stream",
     "text": [
      "235it [00:10, 23.31it/s]                                                                                               \n",
      "  1%|▋                                                                                 | 2/234 [00:00<00:12, 18.02it/s]"
     ]
    },
    {
     "name": "stdout",
     "output_type": "stream",
     "text": [
      "Epoch 41 of 100\n",
      "Generator loss: 2.06251168, Discriminator loss: 0.74754059\n"
     ]
    },
    {
     "name": "stderr",
     "output_type": "stream",
     "text": [
      "235it [00:10, 23.30it/s]                                                                                               \n",
      "  1%|▋                                                                                 | 2/234 [00:00<00:14, 16.39it/s]"
     ]
    },
    {
     "name": "stdout",
     "output_type": "stream",
     "text": [
      "Epoch 42 of 100\n",
      "Generator loss: 1.88471782, Discriminator loss: 0.82010072\n"
     ]
    },
    {
     "name": "stderr",
     "output_type": "stream",
     "text": [
      "235it [00:10, 23.09it/s]                                                                                               \n",
      "  1%|▋                                                                                 | 2/234 [00:00<00:12, 18.02it/s]"
     ]
    },
    {
     "name": "stdout",
     "output_type": "stream",
     "text": [
      "Epoch 43 of 100\n",
      "Generator loss: 1.80416954, Discriminator loss: 0.82936311\n"
     ]
    },
    {
     "name": "stderr",
     "output_type": "stream",
     "text": [
      "235it [00:10, 23.08it/s]                                                                                               \n",
      "  1%|▋                                                                                 | 2/234 [00:00<00:12, 18.52it/s]"
     ]
    },
    {
     "name": "stdout",
     "output_type": "stream",
     "text": [
      "Epoch 44 of 100\n",
      "Generator loss: 1.83260727, Discriminator loss: 0.84335172\n"
     ]
    },
    {
     "name": "stderr",
     "output_type": "stream",
     "text": [
      "235it [00:10, 22.98it/s]                                                                                               \n",
      "  1%|▋                                                                                 | 2/234 [00:00<00:15, 15.27it/s]"
     ]
    },
    {
     "name": "stdout",
     "output_type": "stream",
     "text": [
      "Epoch 45 of 100\n",
      "Generator loss: 1.74587953, Discriminator loss: 0.85538638\n"
     ]
    },
    {
     "name": "stderr",
     "output_type": "stream",
     "text": [
      "235it [00:10, 22.80it/s]                                                                                               \n",
      "  1%|▋                                                                                 | 2/234 [00:00<00:13, 16.81it/s]"
     ]
    },
    {
     "name": "stdout",
     "output_type": "stream",
     "text": [
      "Epoch 46 of 100\n",
      "Generator loss: 1.78014612, Discriminator loss: 0.85196692\n"
     ]
    },
    {
     "name": "stderr",
     "output_type": "stream",
     "text": [
      "235it [00:10, 22.86it/s]                                                                                               \n",
      "  1%|▋                                                                                 | 2/234 [00:00<00:12, 18.18it/s]"
     ]
    },
    {
     "name": "stdout",
     "output_type": "stream",
     "text": [
      "Epoch 47 of 100\n",
      "Generator loss: 1.75506759, Discriminator loss: 0.87335801\n"
     ]
    },
    {
     "name": "stderr",
     "output_type": "stream",
     "text": [
      "235it [00:10, 22.84it/s]                                                                                               \n",
      "  1%|█                                                                                 | 3/234 [00:00<00:11, 19.48it/s]"
     ]
    },
    {
     "name": "stdout",
     "output_type": "stream",
     "text": [
      "Epoch 48 of 100\n",
      "Generator loss: 1.63597023, Discriminator loss: 0.92468232\n"
     ]
    },
    {
     "name": "stderr",
     "output_type": "stream",
     "text": [
      "235it [00:10, 22.57it/s]                                                                                               \n",
      "  1%|█                                                                                 | 3/234 [00:00<00:12, 18.99it/s]"
     ]
    },
    {
     "name": "stdout",
     "output_type": "stream",
     "text": [
      "Epoch 49 of 100\n",
      "Generator loss: 1.76807010, Discriminator loss: 0.87398970\n"
     ]
    },
    {
     "name": "stderr",
     "output_type": "stream",
     "text": [
      "235it [00:10, 22.41it/s]                                                                                               \n",
      "  1%|▋                                                                                 | 2/234 [00:00<00:14, 16.39it/s]"
     ]
    },
    {
     "name": "stdout",
     "output_type": "stream",
     "text": [
      "Epoch 50 of 100\n",
      "Generator loss: 1.81675720, Discriminator loss: 0.84222555\n"
     ]
    },
    {
     "name": "stderr",
     "output_type": "stream",
     "text": [
      "235it [00:10, 22.57it/s]                                                                                               \n",
      "  1%|▋                                                                                 | 2/234 [00:00<00:12, 17.86it/s]"
     ]
    },
    {
     "name": "stdout",
     "output_type": "stream",
     "text": [
      "Epoch 51 of 100\n",
      "Generator loss: 1.81919169, Discriminator loss: 0.83544493\n"
     ]
    },
    {
     "name": "stderr",
     "output_type": "stream",
     "text": [
      "235it [00:10, 22.45it/s]                                                                                               \n",
      "  1%|▋                                                                                 | 2/234 [00:00<00:13, 17.70it/s]"
     ]
    },
    {
     "name": "stdout",
     "output_type": "stream",
     "text": [
      "Epoch 52 of 100\n",
      "Generator loss: 1.80908060, Discriminator loss: 0.83042181\n"
     ]
    },
    {
     "name": "stderr",
     "output_type": "stream",
     "text": [
      "235it [00:10, 22.30it/s]                                                                                               \n",
      "  1%|█                                                                                 | 3/234 [00:00<00:10, 21.28it/s]"
     ]
    },
    {
     "name": "stdout",
     "output_type": "stream",
     "text": [
      "Epoch 53 of 100\n",
      "Generator loss: 1.76229262, Discriminator loss: 0.85575181\n"
     ]
    },
    {
     "name": "stderr",
     "output_type": "stream",
     "text": [
      "235it [00:10, 22.36it/s]                                                                                               \n",
      "  2%|█▍                                                                                | 4/234 [00:00<00:11, 19.57it/s]"
     ]
    },
    {
     "name": "stdout",
     "output_type": "stream",
     "text": [
      "Epoch 54 of 100\n",
      "Generator loss: 1.67658067, Discriminator loss: 0.88397461\n"
     ]
    },
    {
     "name": "stderr",
     "output_type": "stream",
     "text": [
      "235it [00:10, 22.20it/s]                                                                                               \n",
      "  1%|▋                                                                                 | 2/234 [00:00<00:12, 17.86it/s]"
     ]
    },
    {
     "name": "stdout",
     "output_type": "stream",
     "text": [
      "Epoch 55 of 100\n",
      "Generator loss: 1.74590302, Discriminator loss: 0.86843193\n"
     ]
    },
    {
     "name": "stderr",
     "output_type": "stream",
     "text": [
      "235it [00:10, 22.07it/s]                                                                                               \n",
      "  1%|█                                                                                 | 3/234 [00:00<00:10, 22.06it/s]"
     ]
    },
    {
     "name": "stdout",
     "output_type": "stream",
     "text": [
      "Epoch 56 of 100\n",
      "Generator loss: 1.73690283, Discriminator loss: 0.88916612\n"
     ]
    },
    {
     "name": "stderr",
     "output_type": "stream",
     "text": [
      "235it [00:10, 22.04it/s]                                                                                               \n",
      "  1%|▋                                                                                 | 2/234 [00:00<00:11, 19.61it/s]"
     ]
    },
    {
     "name": "stdout",
     "output_type": "stream",
     "text": [
      "Epoch 57 of 100\n",
      "Generator loss: 1.62988877, Discriminator loss: 0.90743959\n"
     ]
    },
    {
     "name": "stderr",
     "output_type": "stream",
     "text": [
      "235it [00:10, 22.17it/s]                                                                                               \n",
      "  1%|▋                                                                                 | 2/234 [00:00<00:11, 19.61it/s]"
     ]
    },
    {
     "name": "stdout",
     "output_type": "stream",
     "text": [
      "Epoch 58 of 100\n",
      "Generator loss: 1.60999095, Discriminator loss: 0.92922086\n"
     ]
    },
    {
     "name": "stderr",
     "output_type": "stream",
     "text": [
      "235it [00:10, 22.03it/s]                                                                                               \n",
      "  1%|█                                                                                 | 3/234 [00:00<00:11, 19.61it/s]"
     ]
    },
    {
     "name": "stdout",
     "output_type": "stream",
     "text": [
      "Epoch 59 of 100\n",
      "Generator loss: 1.70675170, Discriminator loss: 0.89065158\n"
     ]
    },
    {
     "name": "stderr",
     "output_type": "stream",
     "text": [
      "235it [00:10, 21.94it/s]                                                                                               \n",
      "  1%|▋                                                                                 | 2/234 [00:00<00:11, 19.42it/s]"
     ]
    },
    {
     "name": "stdout",
     "output_type": "stream",
     "text": [
      "Epoch 60 of 100\n",
      "Generator loss: 1.58620977, Discriminator loss: 0.93522167\n"
     ]
    },
    {
     "name": "stderr",
     "output_type": "stream",
     "text": [
      "235it [00:10, 21.77it/s]                                                                                               \n",
      "  1%|▋                                                                                 | 2/234 [00:00<00:13, 16.67it/s]"
     ]
    },
    {
     "name": "stdout",
     "output_type": "stream",
     "text": [
      "Epoch 61 of 100\n",
      "Generator loss: 1.60021687, Discriminator loss: 0.93514937\n"
     ]
    },
    {
     "name": "stderr",
     "output_type": "stream",
     "text": [
      "235it [00:10, 21.69it/s]                                                                                               \n",
      "  1%|█                                                                                 | 3/234 [00:00<00:10, 21.58it/s]"
     ]
    },
    {
     "name": "stdout",
     "output_type": "stream",
     "text": [
      "Epoch 62 of 100\n",
      "Generator loss: 1.56525540, Discriminator loss: 0.94241500\n"
     ]
    },
    {
     "name": "stderr",
     "output_type": "stream",
     "text": [
      "235it [00:10, 21.58it/s]                                                                                               \n",
      "  1%|▋                                                                                 | 2/234 [00:00<00:12, 19.05it/s]"
     ]
    },
    {
     "name": "stdout",
     "output_type": "stream",
     "text": [
      "Epoch 63 of 100\n",
      "Generator loss: 1.58804572, Discriminator loss: 0.94262189\n"
     ]
    },
    {
     "name": "stderr",
     "output_type": "stream",
     "text": [
      "235it [00:10, 21.54it/s]                                                                                               \n",
      "  1%|▋                                                                                 | 2/234 [00:00<00:11, 19.80it/s]"
     ]
    },
    {
     "name": "stdout",
     "output_type": "stream",
     "text": [
      "Epoch 64 of 100\n",
      "Generator loss: 1.61356068, Discriminator loss: 0.91830337\n"
     ]
    },
    {
     "name": "stderr",
     "output_type": "stream",
     "text": [
      "235it [00:11, 20.90it/s]                                                                                               \n",
      "  1%|▋                                                                                 | 2/234 [00:00<00:16, 14.49it/s]"
     ]
    },
    {
     "name": "stdout",
     "output_type": "stream",
     "text": [
      "Epoch 65 of 100\n",
      "Generator loss: 1.59379900, Discriminator loss: 0.92848808\n"
     ]
    },
    {
     "name": "stderr",
     "output_type": "stream",
     "text": [
      "235it [00:11, 21.29it/s]                                                                                               \n",
      "  1%|▋                                                                                 | 2/234 [00:00<00:11, 19.61it/s]"
     ]
    },
    {
     "name": "stdout",
     "output_type": "stream",
     "text": [
      "Epoch 66 of 100\n",
      "Generator loss: 1.62808359, Discriminator loss: 0.93587440\n"
     ]
    },
    {
     "name": "stderr",
     "output_type": "stream",
     "text": [
      "235it [00:11, 21.26it/s]                                                                                               \n",
      "  1%|▋                                                                                 | 2/234 [00:00<00:17, 13.25it/s]"
     ]
    },
    {
     "name": "stdout",
     "output_type": "stream",
     "text": [
      "Epoch 67 of 100\n",
      "Generator loss: 1.60470939, Discriminator loss: 0.92388493\n"
     ]
    },
    {
     "name": "stderr",
     "output_type": "stream",
     "text": [
      "235it [00:11, 21.29it/s]                                                                                               \n",
      "  1%|▋                                                                                 | 2/234 [00:00<00:15, 15.38it/s]"
     ]
    },
    {
     "name": "stdout",
     "output_type": "stream",
     "text": [
      "Epoch 68 of 100\n",
      "Generator loss: 1.52108395, Discriminator loss: 0.95956486\n"
     ]
    },
    {
     "name": "stderr",
     "output_type": "stream",
     "text": [
      "235it [00:10, 21.47it/s]                                                                                               \n",
      "  1%|▋                                                                                 | 2/234 [00:00<00:13, 17.24it/s]"
     ]
    },
    {
     "name": "stdout",
     "output_type": "stream",
     "text": [
      "Epoch 69 of 100\n",
      "Generator loss: 1.51067615, Discriminator loss: 0.95324826\n"
     ]
    },
    {
     "name": "stderr",
     "output_type": "stream",
     "text": [
      "235it [00:10, 21.44it/s]                                                                                               \n",
      "  1%|█                                                                                 | 3/234 [00:00<00:12, 17.96it/s]"
     ]
    },
    {
     "name": "stdout",
     "output_type": "stream",
     "text": [
      "Epoch 70 of 100\n",
      "Generator loss: 1.52210259, Discriminator loss: 0.96925920\n"
     ]
    },
    {
     "name": "stderr",
     "output_type": "stream",
     "text": [
      "235it [00:11, 21.33it/s]                                                                                               \n",
      "  1%|█                                                                                 | 3/234 [00:00<00:11, 20.69it/s]"
     ]
    },
    {
     "name": "stdout",
     "output_type": "stream",
     "text": [
      "Epoch 71 of 100\n",
      "Generator loss: 1.50075519, Discriminator loss: 0.97468179\n"
     ]
    },
    {
     "name": "stderr",
     "output_type": "stream",
     "text": [
      "235it [00:11, 21.32it/s]                                                                                               \n",
      "  1%|▋                                                                                 | 2/234 [00:00<00:14, 15.62it/s]"
     ]
    },
    {
     "name": "stdout",
     "output_type": "stream",
     "text": [
      "Epoch 72 of 100\n",
      "Generator loss: 1.48795974, Discriminator loss: 0.98307937\n"
     ]
    },
    {
     "name": "stderr",
     "output_type": "stream",
     "text": [
      "235it [00:11, 21.16it/s]                                                                                               \n",
      "  1%|▋                                                                                 | 2/234 [00:00<00:14, 15.50it/s]"
     ]
    },
    {
     "name": "stdout",
     "output_type": "stream",
     "text": [
      "Epoch 73 of 100\n",
      "Generator loss: 1.49668443, Discriminator loss: 0.97296560\n"
     ]
    },
    {
     "name": "stderr",
     "output_type": "stream",
     "text": [
      "235it [00:11, 21.10it/s]                                                                                               \n",
      "  1%|▋                                                                                 | 2/234 [00:00<00:12, 18.69it/s]"
     ]
    },
    {
     "name": "stdout",
     "output_type": "stream",
     "text": [
      "Epoch 74 of 100\n",
      "Generator loss: 1.45344830, Discriminator loss: 0.99687207\n"
     ]
    },
    {
     "name": "stderr",
     "output_type": "stream",
     "text": [
      "235it [00:11, 21.03it/s]                                                                                               \n",
      "  1%|▋                                                                                 | 2/234 [00:00<00:13, 17.54it/s]"
     ]
    },
    {
     "name": "stdout",
     "output_type": "stream",
     "text": [
      "Epoch 75 of 100\n",
      "Generator loss: 1.50216055, Discriminator loss: 0.97067577\n"
     ]
    },
    {
     "name": "stderr",
     "output_type": "stream",
     "text": [
      "235it [00:11, 20.94it/s]                                                                                               \n",
      "  1%|▋                                                                                 | 2/234 [00:00<00:13, 17.09it/s]"
     ]
    },
    {
     "name": "stdout",
     "output_type": "stream",
     "text": [
      "Epoch 76 of 100\n",
      "Generator loss: 1.43845618, Discriminator loss: 0.99988937\n"
     ]
    },
    {
     "name": "stderr",
     "output_type": "stream",
     "text": [
      "235it [00:11, 20.90it/s]                                                                                               \n",
      "  1%|▋                                                                                 | 2/234 [00:00<00:15, 15.15it/s]"
     ]
    },
    {
     "name": "stdout",
     "output_type": "stream",
     "text": [
      "Epoch 77 of 100\n",
      "Generator loss: 1.40126789, Discriminator loss: 1.01173949\n"
     ]
    },
    {
     "name": "stderr",
     "output_type": "stream",
     "text": [
      "235it [00:11, 20.75it/s]                                                                                               \n",
      "  1%|▋                                                                                 | 2/234 [00:00<00:13, 16.81it/s]"
     ]
    },
    {
     "name": "stdout",
     "output_type": "stream",
     "text": [
      "Epoch 78 of 100\n",
      "Generator loss: 1.37048078, Discriminator loss: 1.03390026\n"
     ]
    },
    {
     "name": "stderr",
     "output_type": "stream",
     "text": [
      "235it [00:11, 20.65it/s]                                                                                               \n",
      "  1%|█                                                                                 | 3/234 [00:00<00:11, 20.41it/s]"
     ]
    },
    {
     "name": "stdout",
     "output_type": "stream",
     "text": [
      "Epoch 79 of 100\n",
      "Generator loss: 1.39742970, Discriminator loss: 1.03035772\n"
     ]
    },
    {
     "name": "stderr",
     "output_type": "stream",
     "text": [
      "235it [00:11, 20.82it/s]                                                                                               \n",
      "  1%|▋                                                                                 | 2/234 [00:00<00:12, 18.69it/s]"
     ]
    },
    {
     "name": "stdout",
     "output_type": "stream",
     "text": [
      "Epoch 80 of 100\n",
      "Generator loss: 1.46010077, Discriminator loss: 0.99502212\n"
     ]
    },
    {
     "name": "stderr",
     "output_type": "stream",
     "text": [
      "235it [00:11, 20.69it/s]                                                                                               \n",
      "  1%|▋                                                                                 | 2/234 [00:00<00:14, 16.00it/s]"
     ]
    },
    {
     "name": "stdout",
     "output_type": "stream",
     "text": [
      "Epoch 81 of 100\n",
      "Generator loss: 1.36357450, Discriminator loss: 1.03190327\n"
     ]
    },
    {
     "name": "stderr",
     "output_type": "stream",
     "text": [
      "235it [00:11, 20.38it/s]                                                                                               \n",
      "  1%|▋                                                                                 | 2/234 [00:00<00:13, 17.24it/s]"
     ]
    },
    {
     "name": "stdout",
     "output_type": "stream",
     "text": [
      "Epoch 82 of 100\n",
      "Generator loss: 1.37815583, Discriminator loss: 1.02269733\n"
     ]
    },
    {
     "name": "stderr",
     "output_type": "stream",
     "text": [
      "235it [00:11, 20.35it/s]                                                                                               \n",
      "  1%|▋                                                                                 | 2/234 [00:00<00:12, 18.18it/s]"
     ]
    },
    {
     "name": "stdout",
     "output_type": "stream",
     "text": [
      "Epoch 83 of 100\n",
      "Generator loss: 1.38467634, Discriminator loss: 1.01956046\n"
     ]
    },
    {
     "name": "stderr",
     "output_type": "stream",
     "text": [
      "235it [00:11, 20.62it/s]                                                                                               \n",
      "  1%|▋                                                                                 | 2/234 [00:00<00:13, 17.70it/s]"
     ]
    },
    {
     "name": "stdout",
     "output_type": "stream",
     "text": [
      "Epoch 84 of 100\n",
      "Generator loss: 1.40682065, Discriminator loss: 1.01424825\n"
     ]
    },
    {
     "name": "stderr",
     "output_type": "stream",
     "text": [
      "235it [00:11, 20.06it/s]                                                                                               \n",
      "  1%|▋                                                                                 | 2/234 [00:00<00:13, 17.24it/s]"
     ]
    },
    {
     "name": "stdout",
     "output_type": "stream",
     "text": [
      "Epoch 85 of 100\n",
      "Generator loss: 1.36673963, Discriminator loss: 1.04316735\n"
     ]
    },
    {
     "name": "stderr",
     "output_type": "stream",
     "text": [
      "235it [00:11, 20.26it/s]                                                                                               \n",
      "  1%|▋                                                                                 | 2/234 [00:00<00:13, 17.39it/s]"
     ]
    },
    {
     "name": "stdout",
     "output_type": "stream",
     "text": [
      "Epoch 86 of 100\n",
      "Generator loss: 1.36526561, Discriminator loss: 1.02703369\n"
     ]
    },
    {
     "name": "stderr",
     "output_type": "stream",
     "text": [
      "235it [00:11, 20.33it/s]                                                                                               \n",
      "  1%|▋                                                                                 | 2/234 [00:00<00:13, 17.09it/s]"
     ]
    },
    {
     "name": "stdout",
     "output_type": "stream",
     "text": [
      "Epoch 87 of 100\n",
      "Generator loss: 1.36801267, Discriminator loss: 1.02430999\n"
     ]
    },
    {
     "name": "stderr",
     "output_type": "stream",
     "text": [
      "235it [00:11, 20.05it/s]                                                                                               \n",
      "  1%|▋                                                                                 | 2/234 [00:00<00:14, 16.00it/s]"
     ]
    },
    {
     "name": "stdout",
     "output_type": "stream",
     "text": [
      "Epoch 88 of 100\n",
      "Generator loss: 1.33048332, Discriminator loss: 1.05707598\n"
     ]
    },
    {
     "name": "stderr",
     "output_type": "stream",
     "text": [
      "235it [00:11, 19.99it/s]                                                                                               \n",
      "  1%|▋                                                                                 | 2/234 [00:00<00:13, 16.95it/s]"
     ]
    },
    {
     "name": "stdout",
     "output_type": "stream",
     "text": [
      "Epoch 89 of 100\n",
      "Generator loss: 1.32788932, Discriminator loss: 1.05249429\n"
     ]
    },
    {
     "name": "stderr",
     "output_type": "stream",
     "text": [
      "235it [00:11, 20.16it/s]                                                                                               \n",
      "  1%|▋                                                                                 | 2/234 [00:00<00:12, 18.35it/s]"
     ]
    },
    {
     "name": "stdout",
     "output_type": "stream",
     "text": [
      "Epoch 90 of 100\n",
      "Generator loss: 1.29877520, Discriminator loss: 1.06006169\n"
     ]
    },
    {
     "name": "stderr",
     "output_type": "stream",
     "text": [
      "235it [00:11, 19.81it/s]                                                                                               \n",
      "  1%|▋                                                                                 | 2/234 [00:00<00:12, 18.18it/s]"
     ]
    },
    {
     "name": "stdout",
     "output_type": "stream",
     "text": [
      "Epoch 91 of 100\n",
      "Generator loss: 1.34897673, Discriminator loss: 1.03616381\n"
     ]
    },
    {
     "name": "stderr",
     "output_type": "stream",
     "text": [
      "235it [00:12, 19.53it/s]                                                                                               \n",
      "  1%|▋                                                                                 | 2/234 [00:00<00:14, 15.75it/s]"
     ]
    },
    {
     "name": "stdout",
     "output_type": "stream",
     "text": [
      "Epoch 92 of 100\n",
      "Generator loss: 1.30231178, Discriminator loss: 1.06788349\n"
     ]
    },
    {
     "name": "stderr",
     "output_type": "stream",
     "text": [
      "235it [00:11, 19.91it/s]                                                                                               \n",
      "  1%|▋                                                                                 | 2/234 [00:00<00:15, 14.93it/s]"
     ]
    },
    {
     "name": "stdout",
     "output_type": "stream",
     "text": [
      "Epoch 93 of 100\n",
      "Generator loss: 1.29672050, Discriminator loss: 1.06181228\n"
     ]
    },
    {
     "name": "stderr",
     "output_type": "stream",
     "text": [
      "235it [00:11, 19.75it/s]                                                                                               \n",
      "  1%|▋                                                                                 | 2/234 [00:00<00:13, 16.67it/s]"
     ]
    },
    {
     "name": "stdout",
     "output_type": "stream",
     "text": [
      "Epoch 94 of 100\n",
      "Generator loss: 1.29007161, Discriminator loss: 1.06771195\n"
     ]
    },
    {
     "name": "stderr",
     "output_type": "stream",
     "text": [
      "235it [00:11, 19.75it/s]                                                                                               \n",
      "  1%|▋                                                                                 | 2/234 [00:00<00:12, 18.02it/s]"
     ]
    },
    {
     "name": "stdout",
     "output_type": "stream",
     "text": [
      "Epoch 95 of 100\n",
      "Generator loss: 1.27752614, Discriminator loss: 1.08585894\n"
     ]
    },
    {
     "name": "stderr",
     "output_type": "stream",
     "text": [
      "235it [00:11, 19.65it/s]                                                                                               \n",
      "  1%|▋                                                                                 | 2/234 [00:00<00:12, 18.30it/s]"
     ]
    },
    {
     "name": "stdout",
     "output_type": "stream",
     "text": [
      "Epoch 96 of 100\n",
      "Generator loss: 1.26205659, Discriminator loss: 1.09131074\n"
     ]
    },
    {
     "name": "stderr",
     "output_type": "stream",
     "text": [
      "235it [00:11, 19.63it/s]                                                                                               \n",
      "  1%|▋                                                                                 | 2/234 [00:00<00:13, 17.54it/s]"
     ]
    },
    {
     "name": "stdout",
     "output_type": "stream",
     "text": [
      "Epoch 97 of 100\n",
      "Generator loss: 1.24736643, Discriminator loss: 1.08489907\n"
     ]
    },
    {
     "name": "stderr",
     "output_type": "stream",
     "text": [
      "235it [00:11, 19.61it/s]                                                                                               \n",
      "  1%|▋                                                                                 | 2/234 [00:00<00:14, 16.39it/s]"
     ]
    },
    {
     "name": "stdout",
     "output_type": "stream",
     "text": [
      "Epoch 98 of 100\n",
      "Generator loss: 1.28939641, Discriminator loss: 1.06545866\n"
     ]
    },
    {
     "name": "stderr",
     "output_type": "stream",
     "text": [
      "235it [00:12, 19.36it/s]                                                                                               "
     ]
    },
    {
     "name": "stdout",
     "output_type": "stream",
     "text": [
      "Epoch 99 of 100\n",
      "Generator loss: 1.26751935, Discriminator loss: 1.08222830\n"
     ]
    },
    {
     "name": "stderr",
     "output_type": "stream",
     "text": [
      "\n"
     ]
    }
   ],
   "source": [
    "for epoch in range(epochs):\r\n",
    "    loss_g = 0.0\r\n",
    "    loss_d = 0.0\r\n",
    "    for bi, data in tqdm(enumerate(train_loader), total=int(len(train_data)/train_loader.batch_size)):\r\n",
    "        image, _ = data\r\n",
    "        image = image.to(device)\r\n",
    "        b_size = len(image)\r\n",
    "        # run the discriminator for k number of steps\r\n",
    "        for step in range(k):\r\n",
    "            data_fake = generator(create_noise(b_size, nz)).detach()\r\n",
    "            data_real = image\r\n",
    "            # train the discriminator network\r\n",
    "            loss_d += train_discriminator(optim_d, data_real, data_fake)\r\n",
    "        data_fake = generator(create_noise(b_size, nz))\r\n",
    "        # train the generator network\r\n",
    "        loss_g += train_generator(optim_g, data_fake)\r\n",
    "    # create the final fake image for the epoch\r\n",
    "    # generated_img = generator(noise).cpu().detach()\r\n",
    "    # images.append(generated_img)\r\n",
    "    epoch_loss_g = loss_g / bi # total generator loss for the epoch\r\n",
    "    epoch_loss_d = loss_d / bi # total discriminator loss for the epoch\r\n",
    "    losses_g.append(epoch_loss_g)\r\n",
    "    losses_d.append(epoch_loss_d)\r\n",
    "    \r\n",
    "    print(f\"Epoch {epoch} of {epochs}\")\r\n",
    "    print(f\"Generator loss: {epoch_loss_g:.8f}, Discriminator loss: {epoch_loss_d:.8f}\")"
   ]
  },
  {
   "cell_type": "code",
   "execution_count": 26,
   "metadata": {
    "id": "KrdCZkIsXu1G"
   },
   "outputs": [],
   "source": [
    "with torch.no_grad():\r\n",
    "    generated_img = generator(noise).cpu().detach()\r\n",
    "    save_image(generated_img.view(64, 1, 28, 28), '/GAN' + '.png')"
   ]
  },
  {
   "cell_type": "code",
   "execution_count": 27,
   "metadata": {
    "colab": {
     "base_uri": "https://localhost:8080/",
     "height": 259
    },
    "id": "5dS9_NjFtCmE",
    "outputId": "867fab33-e747-4b3c-e686-c8fac5130d7c"
   },
   "outputs": [
    {
     "data": {
      "image/png": "[encoded data removed]",
      "text/plain": [
       "<IPython.core.display.Image object>"
      ]
     },
     "execution_count": 27,
     "metadata": {},
     "output_type": "execute_result"
    }
   ],
   "source": [
    "from IPython.display import Image\r\n",
    "Image('/GAN.png')"
   ]
  },
  {
   "cell_type": "code",
   "execution_count": 53,
   "metadata": {},
   "outputs": [
    {
     "data": {
      "image/png": "[encoded data removed]",
      "text/plain": [
       "<Figure size 432x288 with 1 Axes>"
      ]
     },
     "metadata": {},
     "output_type": "display_data"
    }
   ],
   "source": [
    "fig = plt.figure()\n",
    "plt.plot(losses_g,label='Generator Loss')\n",
    "plt.plot(losses_d,label='Discriminator Loss')\n",
    "plt.xlabel('Epochs', fontsize=18)\n",
    "plt.ylabel('Loss %', fontsize=16)\n",
    "plt.legend()\n",
    "fig.savefig('vsgraph.png')"
   ]
  },
  {
   "cell_type": "markdown",
   "metadata": {
    "id": "E507B254taQL"
   },
   "source": [
    "MNIST"
   ]
  },
  {
   "cell_type": "code",
   "execution_count": 28,
   "metadata": {
    "colab": {
     "base_uri": "https://localhost:8080/"
    },
    "id": "380hKJibtHPq",
    "outputId": "1aac0924-df69-4217-e87d-32dbfa991a8f"
   },
   "outputs": [
    {
     "data": {
      "text/plain": [
       "<torch._C.Generator at 0x2e6488f2350>"
      ]
     },
     "execution_count": 28,
     "metadata": {},
     "output_type": "execute_result"
    }
   ],
   "source": [
    "n_epochs = 3\r\n",
    "batch_size_train = 64\r\n",
    "batch_size_test = 1000\r\n",
    "learning_rate = 0.01\r\n",
    "momentum = 0.5\r\n",
    "log_interval = 10\r\n",
    "\r\n",
    "random_seed = 1\r\n",
    "torch.backends.cudnn.enabled = False\r\n",
    "torch.manual_seed(random_seed)"
   ]
  },
  {
   "cell_type": "code",
   "execution_count": 29,
   "metadata": {
    "id": "aKiNGpcwteAg"
   },
   "outputs": [],
   "source": [
    "train_loader = torch.utils.data.DataLoader(\r\n",
    "  torchvision.datasets.MNIST('/images/', train=True, download=True,\r\n",
    "                             transform=torchvision.transforms.Compose([\r\n",
    "                               torchvision.transforms.ToTensor(),\r\n",
    "                               torchvision.transforms.Normalize(\r\n",
    "                                 (0.1307,), (0.3081,))\r\n",
    "                             ])),\r\n",
    "  batch_size=batch_size_train, shuffle=True)\r\n",
    "\r\n",
    "test_loader = torch.utils.data.DataLoader(\r\n",
    "  torchvision.datasets.MNIST('/images/', train=False, download=True,\r\n",
    "                             transform=torchvision.transforms.Compose([\r\n",
    "                               torchvision.transforms.ToTensor(),\r\n",
    "                               torchvision.transforms.Normalize(\r\n",
    "                                 (0.1307,), (0.3081,))\r\n",
    "                             ])),\r\n",
    "  batch_size=batch_size_test, shuffle=True)"
   ]
  },
  {
   "cell_type": "code",
   "execution_count": 30,
   "metadata": {
    "id": "4heTCtZttfbp"
   },
   "outputs": [],
   "source": [
    "examples = enumerate(test_loader)\r\n",
    "batch_idx, (example_data, example_targets) = next(examples)"
   ]
  },
  {
   "cell_type": "code",
   "execution_count": 31,
   "metadata": {
    "id": "o_5pyl9dtiMS"
   },
   "outputs": [],
   "source": [
    "class Net(nn.Module):\r\n",
    "    def __init__(self):\r\n",
    "        super(Net, self).__init__()\r\n",
    "        self.conv1 = nn.Conv2d(1, 10, kernel_size=5)\r\n",
    "        self.conv2 = nn.Conv2d(10, 20, kernel_size=5)\r\n",
    "        self.conv2_drop = nn.Dropout2d()\r\n",
    "        self.fc1 = nn.Linear(320, 50)\r\n",
    "        self.fc2 = nn.Linear(50, 10)\r\n",
    "\r\n",
    "    def forward(self, x):\r\n",
    "        x = F.relu(F.max_pool2d(self.conv1(x), 2))\r\n",
    "        x = F.relu(F.max_pool2d(self.conv2_drop(self.conv2(x)), 2))\r\n",
    "        x = x.view(-1, 320)\r\n",
    "        x = F.relu(self.fc1(x))\r\n",
    "        x = F.dropout(x, training=self.training)\r\n",
    "        x = self.fc2(x)\r\n",
    "        return F.log_softmax(x)"
   ]
  },
  {
   "cell_type": "code",
   "execution_count": 32,
   "metadata": {
    "id": "l6KVx6GBtkDC"
   },
   "outputs": [],
   "source": [
    "network = Net()\r\n",
    "optimizer = optim.SGD(network.parameters(), lr=learning_rate,\r\n",
    "                      momentum=momentum)"
   ]
  },
  {
   "cell_type": "code",
   "execution_count": 33,
   "metadata": {
    "id": "ea34oMxxtlzp"
   },
   "outputs": [],
   "source": [
    "train_losses = []\r\n",
    "train_counter = []\r\n",
    "test_losses = []\r\n",
    "test_counter = [i*len(train_loader.dataset) for i in range(n_epochs + 1)]"
   ]
  },
  {
   "cell_type": "code",
   "execution_count": 34,
   "metadata": {
    "id": "hpFJ4jMntnc5"
   },
   "outputs": [],
   "source": [
    "def train(epoch):\r\n",
    "  network.train()\r\n",
    "  for batch_idx, (data, target) in enumerate(train_loader):\r\n",
    "    optimizer.zero_grad()\r\n",
    "    output = network(data)\r\n",
    "    loss = F.nll_loss(output, target)\r\n",
    "    loss.backward()\r\n",
    "    optimizer.step()\r\n",
    "    if batch_idx % log_interval == 0:\r\n",
    "      print('Train Epoch: {} [{}/{} ({:.0f}%)]\\tLoss: {:.6f}'.format(\r\n",
    "        epoch, batch_idx * len(data), len(train_loader.dataset),\r\n",
    "        100. * batch_idx / len(train_loader), loss.item()))\r\n",
    "      train_losses.append(loss.item())\r\n",
    "      train_counter.append(\r\n",
    "        (batch_idx*64) + ((epoch-1)*len(train_loader.dataset)))\r\n",
    "      # torch.save(network.state_dict(), '/results/model.pth')\r\n",
    "      # torch.save(optimizer.state_dict(), '/results/optimizer.pth')"
   ]
  },
  {
   "cell_type": "code",
   "execution_count": 35,
   "metadata": {
    "id": "c_zjxORNto9h"
   },
   "outputs": [],
   "source": [
    "def test():\r\n",
    "  network.eval()\r\n",
    "  test_loss = 0\r\n",
    "  correct = 0\r\n",
    "  with torch.no_grad():\r\n",
    "    for data, target in test_loader:\r\n",
    "      output = network(data)\r\n",
    "      test_loss += F.nll_loss(output, target, size_average=False).item()\r\n",
    "      pred = output.data.max(1, keepdim=True)[1]\r\n",
    "      correct += pred.eq(target.data.view_as(pred)).sum()\r\n",
    "  test_loss /= len(test_loader.dataset)\r\n",
    "  test_losses.append(test_loss)\r\n",
    "  print('\\nTest set: Avg. loss: {:.4f}, Accuracy: {}/{} ({:.0f}%)\\n'.format(\r\n",
    "    test_loss, correct, len(test_loader.dataset),\r\n",
    "    100. * correct / len(test_loader.dataset)))"
   ]
  },
  {
   "cell_type": "code",
   "execution_count": 36,
   "metadata": {
    "colab": {
     "base_uri": "https://localhost:8080/"
    },
    "id": "0IzaIl4ZtqUI",
    "outputId": "c9ca63f0-be3b-43f3-b5de-3ad9adaa2d55"
   },
   "outputs": [
    {
     "name": "stderr",
     "output_type": "stream",
     "text": [
      "c:\\users\\risha\\appdata\\local\\programs\\python\\python37\\lib\\site-packages\\ipykernel_launcher.py:17: UserWarning: Implicit dimension choice for log_softmax has been deprecated. Change the call to include dim=X as an argument.\n",
      "c:\\users\\risha\\appdata\\local\\programs\\python\\python37\\lib\\site-packages\\torch\\nn\\_reduction.py:44: UserWarning: size_average and reduce args will be deprecated, please use reduction='sum' instead.\n",
      "  warnings.warn(warning.format(ret))\n"
     ]
    },
    {
     "name": "stdout",
     "output_type": "stream",
     "text": [
      "\n",
      "Test set: Avg. loss: 2.3004, Accuracy: 751/10000 (8%)\n",
      "\n",
      "Train Epoch: 1 [0/60000 (0%)]\tLoss: 2.268458\n",
      "Train Epoch: 1 [640/60000 (1%)]\tLoss: 2.268337\n",
      "Train Epoch: 1 [1280/60000 (2%)]\tLoss: 2.274000\n",
      "Train Epoch: 1 [1920/60000 (3%)]\tLoss: 2.251669\n",
      "Train Epoch: 1 [2560/60000 (4%)]\tLoss: 2.236826\n",
      "Train Epoch: 1 [3200/60000 (5%)]\tLoss: 2.223578\n",
      "Train Epoch: 1 [3840/60000 (6%)]\tLoss: 2.153440\n",
      "Train Epoch: 1 [4480/60000 (7%)]\tLoss: 2.096371\n",
      "Train Epoch: 1 [5120/60000 (9%)]\tLoss: 1.974112\n",
      "Train Epoch: 1 [5760/60000 (10%)]\tLoss: 1.944348\n",
      "Train Epoch: 1 [6400/60000 (11%)]\tLoss: 1.839604\n",
      "Train Epoch: 1 [7040/60000 (12%)]\tLoss: 1.765900\n",
      "Train Epoch: 1 [7680/60000 (13%)]\tLoss: 1.699910\n",
      "Train Epoch: 1 [8320/60000 (14%)]\tLoss: 1.690938\n",
      "Train Epoch: 1 [8960/60000 (15%)]\tLoss: 1.508514\n",
      "Train Epoch: 1 [9600/60000 (16%)]\tLoss: 1.390792\n",
      "Train Epoch: 1 [10240/60000 (17%)]\tLoss: 1.280863\n",
      "Train Epoch: 1 [10880/60000 (18%)]\tLoss: 1.326454\n",
      "Train Epoch: 1 [11520/60000 (19%)]\tLoss: 1.275987\n",
      "Train Epoch: 1 [12160/60000 (20%)]\tLoss: 1.232370\n",
      "Train Epoch: 1 [12800/60000 (21%)]\tLoss: 0.925391\n",
      "Train Epoch: 1 [13440/60000 (22%)]\tLoss: 1.393284\n",
      "Train Epoch: 1 [14080/60000 (23%)]\tLoss: 0.974368\n",
      "Train Epoch: 1 [14720/60000 (25%)]\tLoss: 1.100743\n",
      "Train Epoch: 1 [15360/60000 (26%)]\tLoss: 0.946889\n",
      "Train Epoch: 1 [16000/60000 (27%)]\tLoss: 1.045424\n",
      "Train Epoch: 1 [16640/60000 (28%)]\tLoss: 0.928121\n",
      "Train Epoch: 1 [17280/60000 (29%)]\tLoss: 0.836135\n",
      "Train Epoch: 1 [17920/60000 (30%)]\tLoss: 1.119907\n",
      "Train Epoch: 1 [18560/60000 (31%)]\tLoss: 0.646894\n",
      "Train Epoch: 1 [19200/60000 (32%)]\tLoss: 0.931258\n",
      "Train Epoch: 1 [19840/60000 (33%)]\tLoss: 0.782616\n",
      "Train Epoch: 1 [20480/60000 (34%)]\tLoss: 0.801548\n",
      "Train Epoch: 1 [21120/60000 (35%)]\tLoss: 0.755255\n",
      "Train Epoch: 1 [21760/60000 (36%)]\tLoss: 0.939576\n",
      "Train Epoch: 1 [22400/60000 (37%)]\tLoss: 0.610904\n",
      "Train Epoch: 1 [23040/60000 (38%)]\tLoss: 0.862975\n",
      "Train Epoch: 1 [23680/60000 (39%)]\tLoss: 0.643093\n",
      "Train Epoch: 1 [24320/60000 (41%)]\tLoss: 0.810612\n",
      "Train Epoch: 1 [24960/60000 (42%)]\tLoss: 0.829562\n",
      "Train Epoch: 1 [25600/60000 (43%)]\tLoss: 0.764838\n",
      "Train Epoch: 1 [26240/60000 (44%)]\tLoss: 0.706736\n",
      "Train Epoch: 1 [26880/60000 (45%)]\tLoss: 0.764617\n",
      "Train Epoch: 1 [27520/60000 (46%)]\tLoss: 0.731114\n",
      "Train Epoch: 1 [28160/60000 (47%)]\tLoss: 0.787528\n",
      "Train Epoch: 1 [28800/60000 (48%)]\tLoss: 0.712829\n",
      "Train Epoch: 1 [29440/60000 (49%)]\tLoss: 0.648361\n",
      "Train Epoch: 1 [30080/60000 (50%)]\tLoss: 1.017207\n",
      "Train Epoch: 1 [30720/60000 (51%)]\tLoss: 0.664681\n",
      "Train Epoch: 1 [31360/60000 (52%)]\tLoss: 0.899426\n",
      "Train Epoch: 1 [32000/60000 (53%)]\tLoss: 0.730961\n",
      "Train Epoch: 1 [32640/60000 (54%)]\tLoss: 0.685589\n",
      "Train Epoch: 1 [33280/60000 (55%)]\tLoss: 0.569575\n",
      "Train Epoch: 1 [33920/60000 (57%)]\tLoss: 0.468994\n",
      "Train Epoch: 1 [34560/60000 (58%)]\tLoss: 0.780640\n",
      "Train Epoch: 1 [35200/60000 (59%)]\tLoss: 0.467618\n",
      "Train Epoch: 1 [35840/60000 (60%)]\tLoss: 0.770138\n",
      "Train Epoch: 1 [36480/60000 (61%)]\tLoss: 0.333709\n",
      "Train Epoch: 1 [37120/60000 (62%)]\tLoss: 0.387487\n",
      "Train Epoch: 1 [37760/60000 (63%)]\tLoss: 0.575581\n",
      "Train Epoch: 1 [38400/60000 (64%)]\tLoss: 0.728430\n",
      "Train Epoch: 1 [39040/60000 (65%)]\tLoss: 0.433804\n",
      "Train Epoch: 1 [39680/60000 (66%)]\tLoss: 0.483211\n",
      "Train Epoch: 1 [40320/60000 (67%)]\tLoss: 0.574055\n",
      "Train Epoch: 1 [40960/60000 (68%)]\tLoss: 0.463841\n",
      "Train Epoch: 1 [41600/60000 (69%)]\tLoss: 0.406896\n",
      "Train Epoch: 1 [42240/60000 (70%)]\tLoss: 0.584712\n",
      "Train Epoch: 1 [42880/60000 (71%)]\tLoss: 0.605780\n",
      "Train Epoch: 1 [43520/60000 (72%)]\tLoss: 0.577612\n",
      "Train Epoch: 1 [44160/60000 (74%)]\tLoss: 0.487878\n",
      "Train Epoch: 1 [44800/60000 (75%)]\tLoss: 0.588786\n",
      "Train Epoch: 1 [45440/60000 (76%)]\tLoss: 0.700568\n",
      "Train Epoch: 1 [46080/60000 (77%)]\tLoss: 0.566355\n",
      "Train Epoch: 1 [46720/60000 (78%)]\tLoss: 0.874511\n",
      "Train Epoch: 1 [47360/60000 (79%)]\tLoss: 0.387394\n",
      "Train Epoch: 1 [48000/60000 (80%)]\tLoss: 0.457192\n",
      "Train Epoch: 1 [48640/60000 (81%)]\tLoss: 0.349832\n",
      "Train Epoch: 1 [49280/60000 (82%)]\tLoss: 0.573197\n",
      "Train Epoch: 1 [49920/60000 (83%)]\tLoss: 0.375641\n",
      "Train Epoch: 1 [50560/60000 (84%)]\tLoss: 0.386926\n",
      "Train Epoch: 1 [51200/60000 (85%)]\tLoss: 0.786844\n",
      "Train Epoch: 1 [51840/60000 (86%)]\tLoss: 0.460485\n",
      "Train Epoch: 1 [52480/60000 (87%)]\tLoss: 0.653925\n",
      "Train Epoch: 1 [53120/60000 (88%)]\tLoss: 0.735425\n",
      "Train Epoch: 1 [53760/60000 (90%)]\tLoss: 0.565355\n",
      "Train Epoch: 1 [54400/60000 (91%)]\tLoss: 0.446753\n",
      "Train Epoch: 1 [55040/60000 (92%)]\tLoss: 0.702083\n",
      "Train Epoch: 1 [55680/60000 (93%)]\tLoss: 0.463102\n",
      "Train Epoch: 1 [56320/60000 (94%)]\tLoss: 0.534709\n",
      "Train Epoch: 1 [56960/60000 (95%)]\tLoss: 0.559384\n",
      "Train Epoch: 1 [57600/60000 (96%)]\tLoss: 0.335970\n",
      "Train Epoch: 1 [58240/60000 (97%)]\tLoss: 0.497914\n",
      "Train Epoch: 1 [58880/60000 (98%)]\tLoss: 0.317265\n",
      "Train Epoch: 1 [59520/60000 (99%)]\tLoss: 0.481629\n",
      "\n",
      "Test set: Avg. loss: 0.1974, Accuracy: 9443/10000 (94%)\n",
      "\n",
      "Train Epoch: 2 [0/60000 (0%)]\tLoss: 0.552704\n",
      "Train Epoch: 2 [640/60000 (1%)]\tLoss: 0.311353\n",
      "Train Epoch: 2 [1280/60000 (2%)]\tLoss: 0.392087\n",
      "Train Epoch: 2 [1920/60000 (3%)]\tLoss: 0.288523\n",
      "Train Epoch: 2 [2560/60000 (4%)]\tLoss: 0.459571\n",
      "Train Epoch: 2 [3200/60000 (5%)]\tLoss: 0.652221\n",
      "Train Epoch: 2 [3840/60000 (6%)]\tLoss: 0.542376\n",
      "Train Epoch: 2 [4480/60000 (7%)]\tLoss: 0.459733\n",
      "Train Epoch: 2 [5120/60000 (9%)]\tLoss: 0.382655\n",
      "Train Epoch: 2 [5760/60000 (10%)]\tLoss: 0.480310\n",
      "Train Epoch: 2 [6400/60000 (11%)]\tLoss: 0.524138\n",
      "Train Epoch: 2 [7040/60000 (12%)]\tLoss: 0.407235\n",
      "Train Epoch: 2 [7680/60000 (13%)]\tLoss: 0.303533\n",
      "Train Epoch: 2 [8320/60000 (14%)]\tLoss: 0.359578\n",
      "Train Epoch: 2 [8960/60000 (15%)]\tLoss: 0.406256\n",
      "Train Epoch: 2 [9600/60000 (16%)]\tLoss: 0.378934\n",
      "Train Epoch: 2 [10240/60000 (17%)]\tLoss: 0.394013\n",
      "Train Epoch: 2 [10880/60000 (18%)]\tLoss: 0.591299\n",
      "Train Epoch: 2 [11520/60000 (19%)]\tLoss: 0.546204\n",
      "Train Epoch: 2 [12160/60000 (20%)]\tLoss: 0.489659\n",
      "Train Epoch: 2 [12800/60000 (21%)]\tLoss: 0.401462\n",
      "Train Epoch: 2 [13440/60000 (22%)]\tLoss: 0.484132\n",
      "Train Epoch: 2 [14080/60000 (23%)]\tLoss: 0.384215\n",
      "Train Epoch: 2 [14720/60000 (25%)]\tLoss: 0.340286\n",
      "Train Epoch: 2 [15360/60000 (26%)]\tLoss: 0.568319\n",
      "Train Epoch: 2 [16000/60000 (27%)]\tLoss: 0.385172\n",
      "Train Epoch: 2 [16640/60000 (28%)]\tLoss: 0.527047\n",
      "Train Epoch: 2 [17280/60000 (29%)]\tLoss: 0.378872\n",
      "Train Epoch: 2 [17920/60000 (30%)]\tLoss: 0.335563\n",
      "Train Epoch: 2 [18560/60000 (31%)]\tLoss: 0.373148\n",
      "Train Epoch: 2 [19200/60000 (32%)]\tLoss: 0.485164\n",
      "Train Epoch: 2 [19840/60000 (33%)]\tLoss: 0.356373\n",
      "Train Epoch: 2 [20480/60000 (34%)]\tLoss: 0.394199\n",
      "Train Epoch: 2 [21120/60000 (35%)]\tLoss: 0.691483\n",
      "Train Epoch: 2 [21760/60000 (36%)]\tLoss: 0.407241\n",
      "Train Epoch: 2 [22400/60000 (37%)]\tLoss: 0.430876\n",
      "Train Epoch: 2 [23040/60000 (38%)]\tLoss: 0.475077\n",
      "Train Epoch: 2 [23680/60000 (39%)]\tLoss: 0.409616\n",
      "Train Epoch: 2 [24320/60000 (41%)]\tLoss: 0.363376\n",
      "Train Epoch: 2 [24960/60000 (42%)]\tLoss: 0.356914\n",
      "Train Epoch: 2 [25600/60000 (43%)]\tLoss: 0.457612\n",
      "Train Epoch: 2 [26240/60000 (44%)]\tLoss: 0.339361\n",
      "Train Epoch: 2 [26880/60000 (45%)]\tLoss: 0.444539\n",
      "Train Epoch: 2 [27520/60000 (46%)]\tLoss: 0.374155\n",
      "Train Epoch: 2 [28160/60000 (47%)]\tLoss: 0.325477\n",
      "Train Epoch: 2 [28800/60000 (48%)]\tLoss: 0.461908\n",
      "Train Epoch: 2 [29440/60000 (49%)]\tLoss: 0.439139\n",
      "Train Epoch: 2 [30080/60000 (50%)]\tLoss: 0.652445\n",
      "Train Epoch: 2 [30720/60000 (51%)]\tLoss: 0.354603\n",
      "Train Epoch: 2 [31360/60000 (52%)]\tLoss: 0.377964\n",
      "Train Epoch: 2 [32000/60000 (53%)]\tLoss: 0.451888\n",
      "Train Epoch: 2 [32640/60000 (54%)]\tLoss: 0.343083\n",
      "Train Epoch: 2 [33280/60000 (55%)]\tLoss: 0.280116\n",
      "Train Epoch: 2 [33920/60000 (57%)]\tLoss: 0.386512\n",
      "Train Epoch: 2 [34560/60000 (58%)]\tLoss: 0.428552\n",
      "Train Epoch: 2 [35200/60000 (59%)]\tLoss: 0.622482\n",
      "Train Epoch: 2 [35840/60000 (60%)]\tLoss: 0.241312\n",
      "Train Epoch: 2 [36480/60000 (61%)]\tLoss: 0.485068\n",
      "Train Epoch: 2 [37120/60000 (62%)]\tLoss: 0.391027\n",
      "Train Epoch: 2 [37760/60000 (63%)]\tLoss: 0.366157\n",
      "Train Epoch: 2 [38400/60000 (64%)]\tLoss: 0.208866\n",
      "Train Epoch: 2 [39040/60000 (65%)]\tLoss: 0.315334\n",
      "Train Epoch: 2 [39680/60000 (66%)]\tLoss: 0.372394\n",
      "Train Epoch: 2 [40320/60000 (67%)]\tLoss: 0.355062\n",
      "Train Epoch: 2 [40960/60000 (68%)]\tLoss: 0.346784\n",
      "Train Epoch: 2 [41600/60000 (69%)]\tLoss: 0.314067\n",
      "Train Epoch: 2 [42240/60000 (70%)]\tLoss: 0.179394\n",
      "Train Epoch: 2 [42880/60000 (71%)]\tLoss: 0.230889\n",
      "Train Epoch: 2 [43520/60000 (72%)]\tLoss: 0.374045\n",
      "Train Epoch: 2 [44160/60000 (74%)]\tLoss: 0.382003\n",
      "Train Epoch: 2 [44800/60000 (75%)]\tLoss: 0.454429\n",
      "Train Epoch: 2 [45440/60000 (76%)]\tLoss: 0.442386\n",
      "Train Epoch: 2 [46080/60000 (77%)]\tLoss: 0.422049\n",
      "Train Epoch: 2 [46720/60000 (78%)]\tLoss: 0.257114\n",
      "Train Epoch: 2 [47360/60000 (79%)]\tLoss: 0.266145\n",
      "Train Epoch: 2 [48000/60000 (80%)]\tLoss: 0.502095\n",
      "Train Epoch: 2 [48640/60000 (81%)]\tLoss: 0.353324\n",
      "Train Epoch: 2 [49280/60000 (82%)]\tLoss: 0.394011\n",
      "Train Epoch: 2 [49920/60000 (83%)]\tLoss: 0.316403\n",
      "Train Epoch: 2 [50560/60000 (84%)]\tLoss: 0.290405\n",
      "Train Epoch: 2 [51200/60000 (85%)]\tLoss: 0.451506\n",
      "Train Epoch: 2 [51840/60000 (86%)]\tLoss: 0.199455\n",
      "Train Epoch: 2 [52480/60000 (87%)]\tLoss: 0.400513\n",
      "Train Epoch: 2 [53120/60000 (88%)]\tLoss: 0.400162\n",
      "Train Epoch: 2 [53760/60000 (90%)]\tLoss: 0.292234\n",
      "Train Epoch: 2 [54400/60000 (91%)]\tLoss: 0.325725\n",
      "Train Epoch: 2 [55040/60000 (92%)]\tLoss: 0.359307\n",
      "Train Epoch: 2 [55680/60000 (93%)]\tLoss: 0.690429\n",
      "Train Epoch: 2 [56320/60000 (94%)]\tLoss: 0.328465\n",
      "Train Epoch: 2 [56960/60000 (95%)]\tLoss: 0.598068\n",
      "Train Epoch: 2 [57600/60000 (96%)]\tLoss: 0.370170\n",
      "Train Epoch: 2 [58240/60000 (97%)]\tLoss: 0.284059\n",
      "Train Epoch: 2 [58880/60000 (98%)]\tLoss: 0.200159\n",
      "Train Epoch: 2 [59520/60000 (99%)]\tLoss: 0.336926\n",
      "\n",
      "Test set: Avg. loss: 0.1251, Accuracy: 9617/10000 (96%)\n",
      "\n",
      "Train Epoch: 3 [0/60000 (0%)]\tLoss: 0.275197\n",
      "Train Epoch: 3 [640/60000 (1%)]\tLoss: 0.303932\n",
      "Train Epoch: 3 [1280/60000 (2%)]\tLoss: 0.386047\n",
      "Train Epoch: 3 [1920/60000 (3%)]\tLoss: 0.263152\n",
      "Train Epoch: 3 [2560/60000 (4%)]\tLoss: 0.408410\n",
      "Train Epoch: 3 [3200/60000 (5%)]\tLoss: 0.445960\n",
      "Train Epoch: 3 [3840/60000 (6%)]\tLoss: 0.374295\n",
      "Train Epoch: 3 [4480/60000 (7%)]\tLoss: 0.156304\n",
      "Train Epoch: 3 [5120/60000 (9%)]\tLoss: 0.251549\n",
      "Train Epoch: 3 [5760/60000 (10%)]\tLoss: 0.438588\n",
      "Train Epoch: 3 [6400/60000 (11%)]\tLoss: 0.366179\n",
      "Train Epoch: 3 [7040/60000 (12%)]\tLoss: 0.281760\n",
      "Train Epoch: 3 [7680/60000 (13%)]\tLoss: 0.381764\n",
      "Train Epoch: 3 [8320/60000 (14%)]\tLoss: 0.225383\n",
      "Train Epoch: 3 [8960/60000 (15%)]\tLoss: 0.403202\n",
      "Train Epoch: 3 [9600/60000 (16%)]\tLoss: 0.370536\n",
      "Train Epoch: 3 [10240/60000 (17%)]\tLoss: 0.423955\n",
      "Train Epoch: 3 [10880/60000 (18%)]\tLoss: 0.312604\n",
      "Train Epoch: 3 [11520/60000 (19%)]\tLoss: 0.262655\n",
      "Train Epoch: 3 [12160/60000 (20%)]\tLoss: 0.441361\n",
      "Train Epoch: 3 [12800/60000 (21%)]\tLoss: 0.278224\n",
      "Train Epoch: 3 [13440/60000 (22%)]\tLoss: 0.207463\n",
      "Train Epoch: 3 [14080/60000 (23%)]\tLoss: 0.216528\n",
      "Train Epoch: 3 [14720/60000 (25%)]\tLoss: 0.305224\n",
      "Train Epoch: 3 [15360/60000 (26%)]\tLoss: 0.168364\n",
      "Train Epoch: 3 [16000/60000 (27%)]\tLoss: 0.413822\n",
      "Train Epoch: 3 [16640/60000 (28%)]\tLoss: 0.268979\n",
      "Train Epoch: 3 [17280/60000 (29%)]\tLoss: 0.441773\n",
      "Train Epoch: 3 [17920/60000 (30%)]\tLoss: 0.277247\n",
      "Train Epoch: 3 [18560/60000 (31%)]\tLoss: 0.163203\n",
      "Train Epoch: 3 [19200/60000 (32%)]\tLoss: 0.569536\n",
      "Train Epoch: 3 [19840/60000 (33%)]\tLoss: 0.249076\n",
      "Train Epoch: 3 [20480/60000 (34%)]\tLoss: 0.321906\n",
      "Train Epoch: 3 [21120/60000 (35%)]\tLoss: 0.324645\n",
      "Train Epoch: 3 [21760/60000 (36%)]\tLoss: 0.290161\n",
      "Train Epoch: 3 [22400/60000 (37%)]\tLoss: 0.314414\n",
      "Train Epoch: 3 [23040/60000 (38%)]\tLoss: 0.414246\n",
      "Train Epoch: 3 [23680/60000 (39%)]\tLoss: 0.310268\n",
      "Train Epoch: 3 [24320/60000 (41%)]\tLoss: 0.332910\n",
      "Train Epoch: 3 [24960/60000 (42%)]\tLoss: 0.145587\n",
      "Train Epoch: 3 [25600/60000 (43%)]\tLoss: 0.307269\n",
      "Train Epoch: 3 [26240/60000 (44%)]\tLoss: 0.475569\n",
      "Train Epoch: 3 [26880/60000 (45%)]\tLoss: 0.285404\n",
      "Train Epoch: 3 [27520/60000 (46%)]\tLoss: 0.379231\n",
      "Train Epoch: 3 [28160/60000 (47%)]\tLoss: 0.243182\n",
      "Train Epoch: 3 [28800/60000 (48%)]\tLoss: 0.149625\n",
      "Train Epoch: 3 [29440/60000 (49%)]\tLoss: 0.202746\n",
      "Train Epoch: 3 [30080/60000 (50%)]\tLoss: 0.219953\n",
      "Train Epoch: 3 [30720/60000 (51%)]\tLoss: 0.309021\n",
      "Train Epoch: 3 [31360/60000 (52%)]\tLoss: 0.329730\n",
      "Train Epoch: 3 [32000/60000 (53%)]\tLoss: 0.302875\n",
      "Train Epoch: 3 [32640/60000 (54%)]\tLoss: 0.374006\n",
      "Train Epoch: 3 [33280/60000 (55%)]\tLoss: 0.357761\n",
      "Train Epoch: 3 [33920/60000 (57%)]\tLoss: 0.174289\n",
      "Train Epoch: 3 [34560/60000 (58%)]\tLoss: 0.304635\n",
      "Train Epoch: 3 [35200/60000 (59%)]\tLoss: 0.167977\n",
      "Train Epoch: 3 [35840/60000 (60%)]\tLoss: 0.322160\n",
      "Train Epoch: 3 [36480/60000 (61%)]\tLoss: 0.181414\n",
      "Train Epoch: 3 [37120/60000 (62%)]\tLoss: 0.394640\n",
      "Train Epoch: 3 [37760/60000 (63%)]\tLoss: 0.299391\n",
      "Train Epoch: 3 [38400/60000 (64%)]\tLoss: 0.203368\n",
      "Train Epoch: 3 [39040/60000 (65%)]\tLoss: 0.342074\n",
      "Train Epoch: 3 [39680/60000 (66%)]\tLoss: 0.133906\n",
      "Train Epoch: 3 [40320/60000 (67%)]\tLoss: 0.284780\n",
      "Train Epoch: 3 [40960/60000 (68%)]\tLoss: 0.301566\n",
      "Train Epoch: 3 [41600/60000 (69%)]\tLoss: 0.164885\n",
      "Train Epoch: 3 [42240/60000 (70%)]\tLoss: 0.174754\n",
      "Train Epoch: 3 [42880/60000 (71%)]\tLoss: 0.210268\n",
      "Train Epoch: 3 [43520/60000 (72%)]\tLoss: 0.260797\n",
      "Train Epoch: 3 [44160/60000 (74%)]\tLoss: 0.320618\n",
      "Train Epoch: 3 [44800/60000 (75%)]\tLoss: 0.241042\n",
      "Train Epoch: 3 [45440/60000 (76%)]\tLoss: 0.256423\n",
      "Train Epoch: 3 [46080/60000 (77%)]\tLoss: 0.283910\n",
      "Train Epoch: 3 [46720/60000 (78%)]\tLoss: 0.485306\n",
      "Train Epoch: 3 [47360/60000 (79%)]\tLoss: 0.342058\n",
      "Train Epoch: 3 [48000/60000 (80%)]\tLoss: 0.408397\n",
      "Train Epoch: 3 [48640/60000 (81%)]\tLoss: 0.224716\n",
      "Train Epoch: 3 [49280/60000 (82%)]\tLoss: 0.149238\n",
      "Train Epoch: 3 [49920/60000 (83%)]\tLoss: 0.479241\n",
      "Train Epoch: 3 [50560/60000 (84%)]\tLoss: 0.295701\n",
      "Train Epoch: 3 [51200/60000 (85%)]\tLoss: 0.233559\n",
      "Train Epoch: 3 [51840/60000 (86%)]\tLoss: 0.231887\n",
      "Train Epoch: 3 [52480/60000 (87%)]\tLoss: 0.223493\n",
      "Train Epoch: 3 [53120/60000 (88%)]\tLoss: 0.235695\n",
      "Train Epoch: 3 [53760/60000 (90%)]\tLoss: 0.399538\n",
      "Train Epoch: 3 [54400/60000 (91%)]\tLoss: 0.441354\n",
      "Train Epoch: 3 [55040/60000 (92%)]\tLoss: 0.280869\n",
      "Train Epoch: 3 [55680/60000 (93%)]\tLoss: 0.242249\n",
      "Train Epoch: 3 [56320/60000 (94%)]\tLoss: 0.302515\n",
      "Train Epoch: 3 [56960/60000 (95%)]\tLoss: 0.300064\n",
      "Train Epoch: 3 [57600/60000 (96%)]\tLoss: 0.175663\n",
      "Train Epoch: 3 [58240/60000 (97%)]\tLoss: 0.105152\n",
      "Train Epoch: 3 [58880/60000 (98%)]\tLoss: 0.209810\n",
      "Train Epoch: 3 [59520/60000 (99%)]\tLoss: 0.338294\n",
      "\n",
      "Test set: Avg. loss: 0.0934, Accuracy: 9715/10000 (97%)\n",
      "\n"
     ]
    }
   ],
   "source": [
    "test()\r\n",
    "for epoch in range(1, n_epochs + 1):\r\n",
    "  train(epoch)\r\n",
    "  test()"
   ]
  },
  {
   "cell_type": "code",
   "execution_count": 37,
   "metadata": {
    "colab": {
     "base_uri": "https://localhost:8080/"
    },
    "id": "CefU2Y-5trqx",
    "outputId": "9b8f5fc8-d65b-446a-9b29-c714e369a0bc"
   },
   "outputs": [
    {
     "name": "stderr",
     "output_type": "stream",
     "text": [
      "c:\\users\\risha\\appdata\\local\\programs\\python\\python37\\lib\\site-packages\\ipykernel_launcher.py:17: UserWarning: Implicit dimension choice for log_softmax has been deprecated. Change the call to include dim=X as an argument.\n"
     ]
    }
   ],
   "source": [
    "with torch.no_grad():\r\n",
    "    output_gan = network(generated_img)"
   ]
  },
  {
   "cell_type": "code",
   "execution_count": 38,
   "metadata": {
    "colab": {
     "base_uri": "https://localhost:8080/"
    },
    "id": "LFIo670_uiBp",
    "outputId": "6255eb75-cc34-4a5e-85a6-48cfd19ac104"
   },
   "outputs": [
    {
     "name": "stderr",
     "output_type": "stream",
     "text": [
      "c:\\users\\risha\\appdata\\local\\programs\\python\\python37\\lib\\site-packages\\ipykernel_launcher.py:17: UserWarning: Implicit dimension choice for log_softmax has been deprecated. Change the call to include dim=X as an argument.\n"
     ]
    }
   ],
   "source": [
    "with torch.no_grad():\r\n",
    "    z = torch.randn(64, 2)\r\n",
    "    sample = vae.decoder(z).view(64,1,28,28)\r\n",
    "    output_vae = network(sample)"
   ]
  },
  {
   "cell_type": "code",
   "execution_count": 39,
   "metadata": {
    "colab": {
     "base_uri": "https://localhost:8080/",
     "height": 551
    },
    "id": "G5bXAlbzuo-Q",
    "outputId": "2f35ef58-a58c-4cc7-91c3-f87fc36202a7"
   },
   "outputs": [
    {
     "data": {
      "image/png": "[encoded data removed]",
      "text/plain": [
       "<Figure size 432x288 with 9 Axes>"
      ]
     },
     "execution_count": 39,
     "metadata": {},
     "output_type": "execute_result"
    },
    {
     "data": {
      "image/png": "[encoded data removed]",
      "text/plain": [
       "<Figure size 432x288 with 9 Axes>"
      ]
     },
     "metadata": {},
     "output_type": "display_data"
    }
   ],
   "source": [
    "import matplotlib.pyplot as plt\r\n",
    "fig = plt.figure()\r\n",
    "for i in range(9):\r\n",
    "  plt.subplot(3,3,i+1)\r\n",
    "  plt.tight_layout()\r\n",
    "  plt.imshow(sample[i][0], cmap='gray', interpolation='none')\r\n",
    "  plt.title(\"Prediction: {}\".format(\r\n",
    "    output_vae.data.max(1, keepdim=True)[1][i].item()))\r\n",
    "  plt.xticks([])\r\n",
    "  plt.yticks([])\r\n",
    "fig"
   ]
  },
  {
   "cell_type": "code",
   "execution_count": 40,
   "metadata": {
    "colab": {
     "base_uri": "https://localhost:8080/",
     "height": 551
    },
    "id": "5IPjHBWwus7Y",
    "outputId": "cbf227b9-8e23-413a-9c7c-a9571652cda6"
   },
   "outputs": [
    {
     "data": {
      "image/png": "[encoded data removed]",
      "text/plain": [
       "<Figure size 432x288 with 9 Axes>"
      ]
     },
     "execution_count": 40,
     "metadata": {},
     "output_type": "execute_result"
    },
    {
     "data": {
      "image/png": "[encoded data removed]",
      "text/plain": [
       "<Figure size 432x288 with 9 Axes>"
      ]
     },
     "metadata": {},
     "output_type": "display_data"
    }
   ],
   "source": [
    "import matplotlib.pyplot as plt\r\n",
    "fig = plt.figure()\r\n",
    "for i in range(9):\r\n",
    "  plt.subplot(3,3,i+1)\r\n",
    "  plt.tight_layout()\r\n",
    "  plt.imshow(generated_img[i][0], cmap='gray', interpolation='none')\r\n",
    "  plt.title(\"Prediction: {}\".format(\r\n",
    "    output_gan.data.max(1, keepdim=True)[1][i].item()))\r\n",
    "  plt.xticks([])\r\n",
    "  plt.yticks([])\r\n",
    "fig"
   ]
  },
  {
   "cell_type": "code",
   "execution_count": null,
   "metadata": {
    "id": "F3W5GeG3u4CB"
   },
   "outputs": [],
   "source": []
  }
 ],
 "metadata": {
  "accelerator": "GPU",
  "colab": {
   "collapsed_sections": [],
   "name": "13399251_GANvsVAE_MNIST_Project.ipynb",
   "provenance": [],
   "toc_visible": true
  },
  "kernelspec": {
   "display_name": "Python 3",
   "language": "python",
   "name": "python3"
  },
  "language_info": {
   "codemirror_mode": {
    "name": "ipython",
    "version": 3
   },
   "file_extension": ".py",
   "mimetype": "text/x-python",
   "name": "python",
   "nbconvert_exporter": "python",
   "pygments_lexer": "ipython3",
   "version": "3.7.6"
  }
 },
 "nbformat": 4,
 "nbformat_minor": 4
}

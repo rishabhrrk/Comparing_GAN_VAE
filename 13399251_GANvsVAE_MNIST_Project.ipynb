{
  "nbformat": 4,
  "nbformat_minor": 0,
  "metadata": {
    "colab": {
      "name": "13399251_GANvsVAE_MNIST_Project.ipynb",
      "provenance": [],
      "collapsed_sections": [],
      "toc_visible": true,
      "authorship_tag": "ABX9TyOIDObh8X+W/CW2sEGS0iaj",
      "include_colab_link": true
    },
    "kernelspec": {
      "name": "python3",
      "display_name": "Python 3"
    },
    "accelerator": "GPU",
    "widgets": {
      "application/vnd.jupyter.widget-state+json": {
        "ec55096b7c6b43808e021d7134204842": {
          "model_module": "@jupyter-widgets/controls",
          "model_name": "HBoxModel",
          "state": {
            "_view_name": "HBoxView",
            "_dom_classes": [],
            "_model_name": "HBoxModel",
            "_view_module": "@jupyter-widgets/controls",
            "_model_module_version": "1.5.0",
            "_view_count": null,
            "_view_module_version": "1.5.0",
            "box_style": "",
            "layout": "IPY_MODEL_370ccf6c4a2a4f2caa5649e1087198d6",
            "_model_module": "@jupyter-widgets/controls",
            "children": [
              "IPY_MODEL_b44cbddeaaf548fcb3c8d6fa5e74ac97",
              "IPY_MODEL_5660658bb92349ac8ea8dc1f6b0771bc"
            ]
          }
        },
        "370ccf6c4a2a4f2caa5649e1087198d6": {
          "model_module": "@jupyter-widgets/base",
          "model_name": "LayoutModel",
          "state": {
            "_view_name": "LayoutView",
            "grid_template_rows": null,
            "right": null,
            "justify_content": null,
            "_view_module": "@jupyter-widgets/base",
            "overflow": null,
            "_model_module_version": "1.2.0",
            "_view_count": null,
            "flex_flow": null,
            "width": null,
            "min_width": null,
            "border": null,
            "align_items": null,
            "bottom": null,
            "_model_module": "@jupyter-widgets/base",
            "top": null,
            "grid_column": null,
            "overflow_y": null,
            "overflow_x": null,
            "grid_auto_flow": null,
            "grid_area": null,
            "grid_template_columns": null,
            "flex": null,
            "_model_name": "LayoutModel",
            "justify_items": null,
            "grid_row": null,
            "max_height": null,
            "align_content": null,
            "visibility": null,
            "align_self": null,
            "height": null,
            "min_height": null,
            "padding": null,
            "grid_auto_rows": null,
            "grid_gap": null,
            "max_width": null,
            "order": null,
            "_view_module_version": "1.2.0",
            "grid_template_areas": null,
            "object_position": null,
            "object_fit": null,
            "grid_auto_columns": null,
            "margin": null,
            "display": null,
            "left": null
          }
        },
        "b44cbddeaaf548fcb3c8d6fa5e74ac97": {
          "model_module": "@jupyter-widgets/controls",
          "model_name": "FloatProgressModel",
          "state": {
            "_view_name": "ProgressView",
            "style": "IPY_MODEL_b93dc08322f64c6fbe14f215385bf219",
            "_dom_classes": [],
            "description": "",
            "_model_name": "FloatProgressModel",
            "bar_style": "success",
            "max": 1,
            "_view_module": "@jupyter-widgets/controls",
            "_model_module_version": "1.5.0",
            "value": 1,
            "_view_count": null,
            "_view_module_version": "1.5.0",
            "orientation": "horizontal",
            "min": 0,
            "description_tooltip": null,
            "_model_module": "@jupyter-widgets/controls",
            "layout": "IPY_MODEL_7b446118e88d429c95f546b351736b5f"
          }
        },
        "5660658bb92349ac8ea8dc1f6b0771bc": {
          "model_module": "@jupyter-widgets/controls",
          "model_name": "HTMLModel",
          "state": {
            "_view_name": "HTMLView",
            "style": "IPY_MODEL_4fb868ebab8041aca459e4efb34db278",
            "_dom_classes": [],
            "description": "",
            "_model_name": "HTMLModel",
            "placeholder": "​",
            "_view_module": "@jupyter-widgets/controls",
            "_model_module_version": "1.5.0",
            "value": " 9920512/? [00:00&lt;00:00, 13409030.55it/s]",
            "_view_count": null,
            "_view_module_version": "1.5.0",
            "description_tooltip": null,
            "_model_module": "@jupyter-widgets/controls",
            "layout": "IPY_MODEL_9299806e0c00495d88802a941fa252c2"
          }
        },
        "b93dc08322f64c6fbe14f215385bf219": {
          "model_module": "@jupyter-widgets/controls",
          "model_name": "ProgressStyleModel",
          "state": {
            "_view_name": "StyleView",
            "_model_name": "ProgressStyleModel",
            "description_width": "initial",
            "_view_module": "@jupyter-widgets/base",
            "_model_module_version": "1.5.0",
            "_view_count": null,
            "_view_module_version": "1.2.0",
            "bar_color": null,
            "_model_module": "@jupyter-widgets/controls"
          }
        },
        "7b446118e88d429c95f546b351736b5f": {
          "model_module": "@jupyter-widgets/base",
          "model_name": "LayoutModel",
          "state": {
            "_view_name": "LayoutView",
            "grid_template_rows": null,
            "right": null,
            "justify_content": null,
            "_view_module": "@jupyter-widgets/base",
            "overflow": null,
            "_model_module_version": "1.2.0",
            "_view_count": null,
            "flex_flow": null,
            "width": null,
            "min_width": null,
            "border": null,
            "align_items": null,
            "bottom": null,
            "_model_module": "@jupyter-widgets/base",
            "top": null,
            "grid_column": null,
            "overflow_y": null,
            "overflow_x": null,
            "grid_auto_flow": null,
            "grid_area": null,
            "grid_template_columns": null,
            "flex": null,
            "_model_name": "LayoutModel",
            "justify_items": null,
            "grid_row": null,
            "max_height": null,
            "align_content": null,
            "visibility": null,
            "align_self": null,
            "height": null,
            "min_height": null,
            "padding": null,
            "grid_auto_rows": null,
            "grid_gap": null,
            "max_width": null,
            "order": null,
            "_view_module_version": "1.2.0",
            "grid_template_areas": null,
            "object_position": null,
            "object_fit": null,
            "grid_auto_columns": null,
            "margin": null,
            "display": null,
            "left": null
          }
        },
        "4fb868ebab8041aca459e4efb34db278": {
          "model_module": "@jupyter-widgets/controls",
          "model_name": "DescriptionStyleModel",
          "state": {
            "_view_name": "StyleView",
            "_model_name": "DescriptionStyleModel",
            "description_width": "",
            "_view_module": "@jupyter-widgets/base",
            "_model_module_version": "1.5.0",
            "_view_count": null,
            "_view_module_version": "1.2.0",
            "_model_module": "@jupyter-widgets/controls"
          }
        },
        "9299806e0c00495d88802a941fa252c2": {
          "model_module": "@jupyter-widgets/base",
          "model_name": "LayoutModel",
          "state": {
            "_view_name": "LayoutView",
            "grid_template_rows": null,
            "right": null,
            "justify_content": null,
            "_view_module": "@jupyter-widgets/base",
            "overflow": null,
            "_model_module_version": "1.2.0",
            "_view_count": null,
            "flex_flow": null,
            "width": null,
            "min_width": null,
            "border": null,
            "align_items": null,
            "bottom": null,
            "_model_module": "@jupyter-widgets/base",
            "top": null,
            "grid_column": null,
            "overflow_y": null,
            "overflow_x": null,
            "grid_auto_flow": null,
            "grid_area": null,
            "grid_template_columns": null,
            "flex": null,
            "_model_name": "LayoutModel",
            "justify_items": null,
            "grid_row": null,
            "max_height": null,
            "align_content": null,
            "visibility": null,
            "align_self": null,
            "height": null,
            "min_height": null,
            "padding": null,
            "grid_auto_rows": null,
            "grid_gap": null,
            "max_width": null,
            "order": null,
            "_view_module_version": "1.2.0",
            "grid_template_areas": null,
            "object_position": null,
            "object_fit": null,
            "grid_auto_columns": null,
            "margin": null,
            "display": null,
            "left": null
          }
        },
        "937cbc6a083c4adcbf55558054ac4e5c": {
          "model_module": "@jupyter-widgets/controls",
          "model_name": "HBoxModel",
          "state": {
            "_view_name": "HBoxView",
            "_dom_classes": [],
            "_model_name": "HBoxModel",
            "_view_module": "@jupyter-widgets/controls",
            "_model_module_version": "1.5.0",
            "_view_count": null,
            "_view_module_version": "1.5.0",
            "box_style": "",
            "layout": "IPY_MODEL_03810244db2242b194c4d7f24a03abbe",
            "_model_module": "@jupyter-widgets/controls",
            "children": [
              "IPY_MODEL_181c572db2964248a4aee4d2132a7e4a",
              "IPY_MODEL_9b37877a03094a3a9eded51acd8265a2"
            ]
          }
        },
        "03810244db2242b194c4d7f24a03abbe": {
          "model_module": "@jupyter-widgets/base",
          "model_name": "LayoutModel",
          "state": {
            "_view_name": "LayoutView",
            "grid_template_rows": null,
            "right": null,
            "justify_content": null,
            "_view_module": "@jupyter-widgets/base",
            "overflow": null,
            "_model_module_version": "1.2.0",
            "_view_count": null,
            "flex_flow": null,
            "width": null,
            "min_width": null,
            "border": null,
            "align_items": null,
            "bottom": null,
            "_model_module": "@jupyter-widgets/base",
            "top": null,
            "grid_column": null,
            "overflow_y": null,
            "overflow_x": null,
            "grid_auto_flow": null,
            "grid_area": null,
            "grid_template_columns": null,
            "flex": null,
            "_model_name": "LayoutModel",
            "justify_items": null,
            "grid_row": null,
            "max_height": null,
            "align_content": null,
            "visibility": null,
            "align_self": null,
            "height": null,
            "min_height": null,
            "padding": null,
            "grid_auto_rows": null,
            "grid_gap": null,
            "max_width": null,
            "order": null,
            "_view_module_version": "1.2.0",
            "grid_template_areas": null,
            "object_position": null,
            "object_fit": null,
            "grid_auto_columns": null,
            "margin": null,
            "display": null,
            "left": null
          }
        },
        "181c572db2964248a4aee4d2132a7e4a": {
          "model_module": "@jupyter-widgets/controls",
          "model_name": "FloatProgressModel",
          "state": {
            "_view_name": "ProgressView",
            "style": "IPY_MODEL_9cbdd2391ac64bfd9f5c2e42ea850bdf",
            "_dom_classes": [],
            "description": "",
            "_model_name": "FloatProgressModel",
            "bar_style": "success",
            "max": 1,
            "_view_module": "@jupyter-widgets/controls",
            "_model_module_version": "1.5.0",
            "value": 1,
            "_view_count": null,
            "_view_module_version": "1.5.0",
            "orientation": "horizontal",
            "min": 0,
            "description_tooltip": null,
            "_model_module": "@jupyter-widgets/controls",
            "layout": "IPY_MODEL_ea0dba15d4d844ecbe4325a28c23ef07"
          }
        },
        "9b37877a03094a3a9eded51acd8265a2": {
          "model_module": "@jupyter-widgets/controls",
          "model_name": "HTMLModel",
          "state": {
            "_view_name": "HTMLView",
            "style": "IPY_MODEL_d9bfa263916d44bb815cfefb8cb005a3",
            "_dom_classes": [],
            "description": "",
            "_model_name": "HTMLModel",
            "placeholder": "​",
            "_view_module": "@jupyter-widgets/controls",
            "_model_module_version": "1.5.0",
            "value": " 32768/? [00:00&lt;00:00, 352687.01it/s]",
            "_view_count": null,
            "_view_module_version": "1.5.0",
            "description_tooltip": null,
            "_model_module": "@jupyter-widgets/controls",
            "layout": "IPY_MODEL_6411b1b09723499bb7ffbf9ba64f1dbc"
          }
        },
        "9cbdd2391ac64bfd9f5c2e42ea850bdf": {
          "model_module": "@jupyter-widgets/controls",
          "model_name": "ProgressStyleModel",
          "state": {
            "_view_name": "StyleView",
            "_model_name": "ProgressStyleModel",
            "description_width": "initial",
            "_view_module": "@jupyter-widgets/base",
            "_model_module_version": "1.5.0",
            "_view_count": null,
            "_view_module_version": "1.2.0",
            "bar_color": null,
            "_model_module": "@jupyter-widgets/controls"
          }
        },
        "ea0dba15d4d844ecbe4325a28c23ef07": {
          "model_module": "@jupyter-widgets/base",
          "model_name": "LayoutModel",
          "state": {
            "_view_name": "LayoutView",
            "grid_template_rows": null,
            "right": null,
            "justify_content": null,
            "_view_module": "@jupyter-widgets/base",
            "overflow": null,
            "_model_module_version": "1.2.0",
            "_view_count": null,
            "flex_flow": null,
            "width": null,
            "min_width": null,
            "border": null,
            "align_items": null,
            "bottom": null,
            "_model_module": "@jupyter-widgets/base",
            "top": null,
            "grid_column": null,
            "overflow_y": null,
            "overflow_x": null,
            "grid_auto_flow": null,
            "grid_area": null,
            "grid_template_columns": null,
            "flex": null,
            "_model_name": "LayoutModel",
            "justify_items": null,
            "grid_row": null,
            "max_height": null,
            "align_content": null,
            "visibility": null,
            "align_self": null,
            "height": null,
            "min_height": null,
            "padding": null,
            "grid_auto_rows": null,
            "grid_gap": null,
            "max_width": null,
            "order": null,
            "_view_module_version": "1.2.0",
            "grid_template_areas": null,
            "object_position": null,
            "object_fit": null,
            "grid_auto_columns": null,
            "margin": null,
            "display": null,
            "left": null
          }
        },
        "d9bfa263916d44bb815cfefb8cb005a3": {
          "model_module": "@jupyter-widgets/controls",
          "model_name": "DescriptionStyleModel",
          "state": {
            "_view_name": "StyleView",
            "_model_name": "DescriptionStyleModel",
            "description_width": "",
            "_view_module": "@jupyter-widgets/base",
            "_model_module_version": "1.5.0",
            "_view_count": null,
            "_view_module_version": "1.2.0",
            "_model_module": "@jupyter-widgets/controls"
          }
        },
        "6411b1b09723499bb7ffbf9ba64f1dbc": {
          "model_module": "@jupyter-widgets/base",
          "model_name": "LayoutModel",
          "state": {
            "_view_name": "LayoutView",
            "grid_template_rows": null,
            "right": null,
            "justify_content": null,
            "_view_module": "@jupyter-widgets/base",
            "overflow": null,
            "_model_module_version": "1.2.0",
            "_view_count": null,
            "flex_flow": null,
            "width": null,
            "min_width": null,
            "border": null,
            "align_items": null,
            "bottom": null,
            "_model_module": "@jupyter-widgets/base",
            "top": null,
            "grid_column": null,
            "overflow_y": null,
            "overflow_x": null,
            "grid_auto_flow": null,
            "grid_area": null,
            "grid_template_columns": null,
            "flex": null,
            "_model_name": "LayoutModel",
            "justify_items": null,
            "grid_row": null,
            "max_height": null,
            "align_content": null,
            "visibility": null,
            "align_self": null,
            "height": null,
            "min_height": null,
            "padding": null,
            "grid_auto_rows": null,
            "grid_gap": null,
            "max_width": null,
            "order": null,
            "_view_module_version": "1.2.0",
            "grid_template_areas": null,
            "object_position": null,
            "object_fit": null,
            "grid_auto_columns": null,
            "margin": null,
            "display": null,
            "left": null
          }
        },
        "21b245f7e4de444283f9b80fb4bdd8bf": {
          "model_module": "@jupyter-widgets/controls",
          "model_name": "HBoxModel",
          "state": {
            "_view_name": "HBoxView",
            "_dom_classes": [],
            "_model_name": "HBoxModel",
            "_view_module": "@jupyter-widgets/controls",
            "_model_module_version": "1.5.0",
            "_view_count": null,
            "_view_module_version": "1.5.0",
            "box_style": "",
            "layout": "IPY_MODEL_00d5f85d7992469385a02a3db3e61819",
            "_model_module": "@jupyter-widgets/controls",
            "children": [
              "IPY_MODEL_b35562a5c06d40f9bde7364dd859a79e",
              "IPY_MODEL_418bdf9639d4483cb43d927f80727516"
            ]
          }
        },
        "00d5f85d7992469385a02a3db3e61819": {
          "model_module": "@jupyter-widgets/base",
          "model_name": "LayoutModel",
          "state": {
            "_view_name": "LayoutView",
            "grid_template_rows": null,
            "right": null,
            "justify_content": null,
            "_view_module": "@jupyter-widgets/base",
            "overflow": null,
            "_model_module_version": "1.2.0",
            "_view_count": null,
            "flex_flow": null,
            "width": null,
            "min_width": null,
            "border": null,
            "align_items": null,
            "bottom": null,
            "_model_module": "@jupyter-widgets/base",
            "top": null,
            "grid_column": null,
            "overflow_y": null,
            "overflow_x": null,
            "grid_auto_flow": null,
            "grid_area": null,
            "grid_template_columns": null,
            "flex": null,
            "_model_name": "LayoutModel",
            "justify_items": null,
            "grid_row": null,
            "max_height": null,
            "align_content": null,
            "visibility": null,
            "align_self": null,
            "height": null,
            "min_height": null,
            "padding": null,
            "grid_auto_rows": null,
            "grid_gap": null,
            "max_width": null,
            "order": null,
            "_view_module_version": "1.2.0",
            "grid_template_areas": null,
            "object_position": null,
            "object_fit": null,
            "grid_auto_columns": null,
            "margin": null,
            "display": null,
            "left": null
          }
        },
        "b35562a5c06d40f9bde7364dd859a79e": {
          "model_module": "@jupyter-widgets/controls",
          "model_name": "FloatProgressModel",
          "state": {
            "_view_name": "ProgressView",
            "style": "IPY_MODEL_81622a597c7d4c4788400f9952825e7e",
            "_dom_classes": [],
            "description": "",
            "_model_name": "FloatProgressModel",
            "bar_style": "success",
            "max": 1,
            "_view_module": "@jupyter-widgets/controls",
            "_model_module_version": "1.5.0",
            "value": 1,
            "_view_count": null,
            "_view_module_version": "1.5.0",
            "orientation": "horizontal",
            "min": 0,
            "description_tooltip": null,
            "_model_module": "@jupyter-widgets/controls",
            "layout": "IPY_MODEL_e5845c37e2fd49a59d935b64ea216e84"
          }
        },
        "418bdf9639d4483cb43d927f80727516": {
          "model_module": "@jupyter-widgets/controls",
          "model_name": "HTMLModel",
          "state": {
            "_view_name": "HTMLView",
            "style": "IPY_MODEL_de5284c53100498dac8d40d667dc31e7",
            "_dom_classes": [],
            "description": "",
            "_model_name": "HTMLModel",
            "placeholder": "​",
            "_view_module": "@jupyter-widgets/controls",
            "_model_module_version": "1.5.0",
            "value": " 1654784/? [00:01&lt;00:00, 935344.55it/s]",
            "_view_count": null,
            "_view_module_version": "1.5.0",
            "description_tooltip": null,
            "_model_module": "@jupyter-widgets/controls",
            "layout": "IPY_MODEL_3ca8b2e6d6f948ee8644e30551c7fdb4"
          }
        },
        "81622a597c7d4c4788400f9952825e7e": {
          "model_module": "@jupyter-widgets/controls",
          "model_name": "ProgressStyleModel",
          "state": {
            "_view_name": "StyleView",
            "_model_name": "ProgressStyleModel",
            "description_width": "initial",
            "_view_module": "@jupyter-widgets/base",
            "_model_module_version": "1.5.0",
            "_view_count": null,
            "_view_module_version": "1.2.0",
            "bar_color": null,
            "_model_module": "@jupyter-widgets/controls"
          }
        },
        "e5845c37e2fd49a59d935b64ea216e84": {
          "model_module": "@jupyter-widgets/base",
          "model_name": "LayoutModel",
          "state": {
            "_view_name": "LayoutView",
            "grid_template_rows": null,
            "right": null,
            "justify_content": null,
            "_view_module": "@jupyter-widgets/base",
            "overflow": null,
            "_model_module_version": "1.2.0",
            "_view_count": null,
            "flex_flow": null,
            "width": null,
            "min_width": null,
            "border": null,
            "align_items": null,
            "bottom": null,
            "_model_module": "@jupyter-widgets/base",
            "top": null,
            "grid_column": null,
            "overflow_y": null,
            "overflow_x": null,
            "grid_auto_flow": null,
            "grid_area": null,
            "grid_template_columns": null,
            "flex": null,
            "_model_name": "LayoutModel",
            "justify_items": null,
            "grid_row": null,
            "max_height": null,
            "align_content": null,
            "visibility": null,
            "align_self": null,
            "height": null,
            "min_height": null,
            "padding": null,
            "grid_auto_rows": null,
            "grid_gap": null,
            "max_width": null,
            "order": null,
            "_view_module_version": "1.2.0",
            "grid_template_areas": null,
            "object_position": null,
            "object_fit": null,
            "grid_auto_columns": null,
            "margin": null,
            "display": null,
            "left": null
          }
        },
        "de5284c53100498dac8d40d667dc31e7": {
          "model_module": "@jupyter-widgets/controls",
          "model_name": "DescriptionStyleModel",
          "state": {
            "_view_name": "StyleView",
            "_model_name": "DescriptionStyleModel",
            "description_width": "",
            "_view_module": "@jupyter-widgets/base",
            "_model_module_version": "1.5.0",
            "_view_count": null,
            "_view_module_version": "1.2.0",
            "_model_module": "@jupyter-widgets/controls"
          }
        },
        "3ca8b2e6d6f948ee8644e30551c7fdb4": {
          "model_module": "@jupyter-widgets/base",
          "model_name": "LayoutModel",
          "state": {
            "_view_name": "LayoutView",
            "grid_template_rows": null,
            "right": null,
            "justify_content": null,
            "_view_module": "@jupyter-widgets/base",
            "overflow": null,
            "_model_module_version": "1.2.0",
            "_view_count": null,
            "flex_flow": null,
            "width": null,
            "min_width": null,
            "border": null,
            "align_items": null,
            "bottom": null,
            "_model_module": "@jupyter-widgets/base",
            "top": null,
            "grid_column": null,
            "overflow_y": null,
            "overflow_x": null,
            "grid_auto_flow": null,
            "grid_area": null,
            "grid_template_columns": null,
            "flex": null,
            "_model_name": "LayoutModel",
            "justify_items": null,
            "grid_row": null,
            "max_height": null,
            "align_content": null,
            "visibility": null,
            "align_self": null,
            "height": null,
            "min_height": null,
            "padding": null,
            "grid_auto_rows": null,
            "grid_gap": null,
            "max_width": null,
            "order": null,
            "_view_module_version": "1.2.0",
            "grid_template_areas": null,
            "object_position": null,
            "object_fit": null,
            "grid_auto_columns": null,
            "margin": null,
            "display": null,
            "left": null
          }
        },
        "ed3c053b201a4845862d2ae7ea1e1007": {
          "model_module": "@jupyter-widgets/controls",
          "model_name": "HBoxModel",
          "state": {
            "_view_name": "HBoxView",
            "_dom_classes": [],
            "_model_name": "HBoxModel",
            "_view_module": "@jupyter-widgets/controls",
            "_model_module_version": "1.5.0",
            "_view_count": null,
            "_view_module_version": "1.5.0",
            "box_style": "",
            "layout": "IPY_MODEL_e2c402126067436e88dd578fa54525c8",
            "_model_module": "@jupyter-widgets/controls",
            "children": [
              "IPY_MODEL_7b80501352c24be691c0e2b693471787",
              "IPY_MODEL_7f2e8675d376445b98255ebb473e8d01"
            ]
          }
        },
        "e2c402126067436e88dd578fa54525c8": {
          "model_module": "@jupyter-widgets/base",
          "model_name": "LayoutModel",
          "state": {
            "_view_name": "LayoutView",
            "grid_template_rows": null,
            "right": null,
            "justify_content": null,
            "_view_module": "@jupyter-widgets/base",
            "overflow": null,
            "_model_module_version": "1.2.0",
            "_view_count": null,
            "flex_flow": null,
            "width": null,
            "min_width": null,
            "border": null,
            "align_items": null,
            "bottom": null,
            "_model_module": "@jupyter-widgets/base",
            "top": null,
            "grid_column": null,
            "overflow_y": null,
            "overflow_x": null,
            "grid_auto_flow": null,
            "grid_area": null,
            "grid_template_columns": null,
            "flex": null,
            "_model_name": "LayoutModel",
            "justify_items": null,
            "grid_row": null,
            "max_height": null,
            "align_content": null,
            "visibility": null,
            "align_self": null,
            "height": null,
            "min_height": null,
            "padding": null,
            "grid_auto_rows": null,
            "grid_gap": null,
            "max_width": null,
            "order": null,
            "_view_module_version": "1.2.0",
            "grid_template_areas": null,
            "object_position": null,
            "object_fit": null,
            "grid_auto_columns": null,
            "margin": null,
            "display": null,
            "left": null
          }
        },
        "7b80501352c24be691c0e2b693471787": {
          "model_module": "@jupyter-widgets/controls",
          "model_name": "FloatProgressModel",
          "state": {
            "_view_name": "ProgressView",
            "style": "IPY_MODEL_bf706ec084c345bab6c254ddb9566fa6",
            "_dom_classes": [],
            "description": "",
            "_model_name": "FloatProgressModel",
            "bar_style": "success",
            "max": 1,
            "_view_module": "@jupyter-widgets/controls",
            "_model_module_version": "1.5.0",
            "value": 1,
            "_view_count": null,
            "_view_module_version": "1.5.0",
            "orientation": "horizontal",
            "min": 0,
            "description_tooltip": null,
            "_model_module": "@jupyter-widgets/controls",
            "layout": "IPY_MODEL_99cf9b9048ad4f149175448d218d7cd7"
          }
        },
        "7f2e8675d376445b98255ebb473e8d01": {
          "model_module": "@jupyter-widgets/controls",
          "model_name": "HTMLModel",
          "state": {
            "_view_name": "HTMLView",
            "style": "IPY_MODEL_41fa7fbd6a1b4f2a9e6954d3db8cc73a",
            "_dom_classes": [],
            "description": "",
            "_model_name": "HTMLModel",
            "placeholder": "​",
            "_view_module": "@jupyter-widgets/controls",
            "_model_module_version": "1.5.0",
            "value": " 8192/? [00:00&lt;00:00, 22221.32it/s]",
            "_view_count": null,
            "_view_module_version": "1.5.0",
            "description_tooltip": null,
            "_model_module": "@jupyter-widgets/controls",
            "layout": "IPY_MODEL_6f0637badeef4ede8a22a76935383b8d"
          }
        },
        "bf706ec084c345bab6c254ddb9566fa6": {
          "model_module": "@jupyter-widgets/controls",
          "model_name": "ProgressStyleModel",
          "state": {
            "_view_name": "StyleView",
            "_model_name": "ProgressStyleModel",
            "description_width": "initial",
            "_view_module": "@jupyter-widgets/base",
            "_model_module_version": "1.5.0",
            "_view_count": null,
            "_view_module_version": "1.2.0",
            "bar_color": null,
            "_model_module": "@jupyter-widgets/controls"
          }
        },
        "99cf9b9048ad4f149175448d218d7cd7": {
          "model_module": "@jupyter-widgets/base",
          "model_name": "LayoutModel",
          "state": {
            "_view_name": "LayoutView",
            "grid_template_rows": null,
            "right": null,
            "justify_content": null,
            "_view_module": "@jupyter-widgets/base",
            "overflow": null,
            "_model_module_version": "1.2.0",
            "_view_count": null,
            "flex_flow": null,
            "width": null,
            "min_width": null,
            "border": null,
            "align_items": null,
            "bottom": null,
            "_model_module": "@jupyter-widgets/base",
            "top": null,
            "grid_column": null,
            "overflow_y": null,
            "overflow_x": null,
            "grid_auto_flow": null,
            "grid_area": null,
            "grid_template_columns": null,
            "flex": null,
            "_model_name": "LayoutModel",
            "justify_items": null,
            "grid_row": null,
            "max_height": null,
            "align_content": null,
            "visibility": null,
            "align_self": null,
            "height": null,
            "min_height": null,
            "padding": null,
            "grid_auto_rows": null,
            "grid_gap": null,
            "max_width": null,
            "order": null,
            "_view_module_version": "1.2.0",
            "grid_template_areas": null,
            "object_position": null,
            "object_fit": null,
            "grid_auto_columns": null,
            "margin": null,
            "display": null,
            "left": null
          }
        },
        "41fa7fbd6a1b4f2a9e6954d3db8cc73a": {
          "model_module": "@jupyter-widgets/controls",
          "model_name": "DescriptionStyleModel",
          "state": {
            "_view_name": "StyleView",
            "_model_name": "DescriptionStyleModel",
            "description_width": "",
            "_view_module": "@jupyter-widgets/base",
            "_model_module_version": "1.5.0",
            "_view_count": null,
            "_view_module_version": "1.2.0",
            "_model_module": "@jupyter-widgets/controls"
          }
        },
        "6f0637badeef4ede8a22a76935383b8d": {
          "model_module": "@jupyter-widgets/base",
          "model_name": "LayoutModel",
          "state": {
            "_view_name": "LayoutView",
            "grid_template_rows": null,
            "right": null,
            "justify_content": null,
            "_view_module": "@jupyter-widgets/base",
            "overflow": null,
            "_model_module_version": "1.2.0",
            "_view_count": null,
            "flex_flow": null,
            "width": null,
            "min_width": null,
            "border": null,
            "align_items": null,
            "bottom": null,
            "_model_module": "@jupyter-widgets/base",
            "top": null,
            "grid_column": null,
            "overflow_y": null,
            "overflow_x": null,
            "grid_auto_flow": null,
            "grid_area": null,
            "grid_template_columns": null,
            "flex": null,
            "_model_name": "LayoutModel",
            "justify_items": null,
            "grid_row": null,
            "max_height": null,
            "align_content": null,
            "visibility": null,
            "align_self": null,
            "height": null,
            "min_height": null,
            "padding": null,
            "grid_auto_rows": null,
            "grid_gap": null,
            "max_width": null,
            "order": null,
            "_view_module_version": "1.2.0",
            "grid_template_areas": null,
            "object_position": null,
            "object_fit": null,
            "grid_auto_columns": null,
            "margin": null,
            "display": null,
            "left": null
          }
        }
      }
    }
  },
  "cells": [
    {
      "cell_type": "markdown",
      "metadata": {
        "id": "view-in-github",
        "colab_type": "text"
      },
      "source": [
        "<a href=\"https://colab.research.google.com/github/rishabhrrk/Comparing_GAN_VAE/blob/main/13399251_GANvsVAE_MNIST_Project.ipynb\" target=\"_parent\"><img src=\"https://colab.research.google.com/assets/colab-badge.svg\" alt=\"Open In Colab\"/></a>"
      ]
    },
    {
      "cell_type": "markdown",
      "metadata": {
        "id": "Hp1OJphCIvzE"
      },
      "source": [
        "### UFID: 13399251 <br>\r\n",
        "### Name: Rishabh Khanna<br>\r\n",
        "### Project: Comparison of GAN and VAE<br>\r\n",
        "### Course: Machine Learning<br>\r\n",
        "### Semster: Fall 2020"
      ]
    },
    {
      "cell_type": "markdown",
      "metadata": {
        "id": "8g5_et8SInhd"
      },
      "source": [
        "Importing all libraries and modules"
      ]
    },
    {
      "cell_type": "code",
      "metadata": {
        "id": "Bj0O-65kIZDv"
      },
      "source": [
        "import torch\r\n",
        "import torch.nn as nn\r\n",
        "import torch.nn.functional as F\r\n",
        "import torch.optim as optim\r\n",
        "from torchvision import datasets, transforms\r\n",
        "from torch.autograd import Variable\r\n",
        "from torchvision.utils import save_image,make_grid\r\n",
        "from tqdm import tqdm\r\n",
        "import imageio\r\n",
        "import numpy as np\r\n",
        "import matplotlib\r\n",
        "from torch.utils.data import DataLoader\r\n",
        "from matplotlib import pyplot as plt\r\n",
        "import torchvision\r\n",
        "from ipywidgets import IntProgress\r\n",
        "matplotlib.style.use('ggplot')"
      ],
      "execution_count": 23,
      "outputs": []
    },
    {
      "cell_type": "markdown",
      "metadata": {
        "id": "uQ_NX05Hm87m"
      },
      "source": [
        "### VAE"
      ]
    },
    {
      "cell_type": "markdown",
      "metadata": {
        "id": "6mAY5f5VIutn"
      },
      "source": [
        "Importing data set and loading in using loader after transforming it into Tensor"
      ]
    },
    {
      "cell_type": "code",
      "metadata": {
        "id": "nMgk1lcHJsaR"
      },
      "source": [
        "bs = 100\r\n",
        "# MNIST Dataset\r\n",
        "train_dataset = datasets.MNIST(root='../input/data', train=True, transform=transforms.ToTensor(), download=True)\r\n",
        "test_dataset = datasets.MNIST(root='../input/data', train=False, transform=transforms.ToTensor(), download=False)\r\n",
        "\r\n",
        "# Data Loader (Input Pipeline)\r\n",
        "train_loader = torch.utils.data.DataLoader(dataset=train_dataset, batch_size=bs, shuffle=True)\r\n",
        "test_loader = torch.utils.data.DataLoader(dataset=test_dataset, batch_size=bs, shuffle=False)"
      ],
      "execution_count": 24,
      "outputs": []
    },
    {
      "cell_type": "markdown",
      "metadata": {
        "id": "oEyyYhJZI3CM"
      },
      "source": [
        "VAE class used for training the model"
      ]
    },
    {
      "cell_type": "code",
      "metadata": {
        "id": "HB8KChKvJ1WB"
      },
      "source": [
        "class VAE(nn.Module):\r\n",
        "    def __init__(self, x_dim, h_dim1, h_dim2, z_dim):\r\n",
        "        super(VAE, self).__init__()\r\n",
        "        # encoder part\r\n",
        "        self.fc1 = nn.Linear(x_dim, h_dim1)\r\n",
        "        self.fc2 = nn.Linear(h_dim1, h_dim2)\r\n",
        "        self.fc31 = nn.Linear(h_dim2, z_dim)\r\n",
        "        self.fc32 = nn.Linear(h_dim2, z_dim)\r\n",
        "        # decoder part\r\n",
        "        self.fc4 = nn.Linear(z_dim, h_dim2)\r\n",
        "        self.fc5 = nn.Linear(h_dim2, h_dim1)\r\n",
        "        self.fc6 = nn.Linear(h_dim1, x_dim)\r\n",
        "        \r\n",
        "    def encoder(self, x):\r\n",
        "        h = F.relu(self.fc1(x))\r\n",
        "        h = F.relu(self.fc2(h))\r\n",
        "        return self.fc31(h), self.fc32(h) # mu, log_var\r\n",
        "    \r\n",
        "    def sampling(self, mu, log_var):\r\n",
        "        std = torch.exp(0.5*log_var)\r\n",
        "        eps = torch.randn_like(std)\r\n",
        "        return eps.mul(std).add_(mu) # return z sample\r\n",
        "        \r\n",
        "    def decoder(self, z):\r\n",
        "        h = F.relu(self.fc4(z))\r\n",
        "        h = F.relu(self.fc5(h))\r\n",
        "        return F.sigmoid(self.fc6(h)) \r\n",
        "    \r\n",
        "    def forward(self, x):\r\n",
        "        mu, log_var = self.encoder(x.view(-1, 784))\r\n",
        "        z = self.sampling(mu, log_var)\r\n",
        "        return self.decoder(z), mu, log_var"
      ],
      "execution_count": 25,
      "outputs": []
    },
    {
      "cell_type": "markdown",
      "metadata": {
        "id": "RjUdJB2rI9s_"
      },
      "source": [
        "Defining model layers and type of processor to be used - GPU or CPU"
      ]
    },
    {
      "cell_type": "code",
      "metadata": {
        "id": "opA6NysGKG-Q"
      },
      "source": [
        "vae = VAE(x_dim=784, h_dim1= 512, h_dim2=256, z_dim=2)\r\n",
        "device = torch.device('cuda' if torch.cuda.is_available() else 'cpu')"
      ],
      "execution_count": 26,
      "outputs": []
    },
    {
      "cell_type": "markdown",
      "metadata": {
        "id": "4E88N6R1JI42"
      },
      "source": [
        "Define optimizer as well as loss for VAE"
      ]
    },
    {
      "cell_type": "code",
      "metadata": {
        "id": "LChM0bBPKVEI"
      },
      "source": [
        "optimizer = optim.Adam(vae.parameters())\r\n",
        "def loss_function(recon_x, x, mu, log_var):\r\n",
        "    BCE = F.binary_cross_entropy(recon_x, x.view(-1, 784), reduction='sum')\r\n",
        "    KLD = -0.5 * torch.sum(1 + log_var - mu.pow(2) - log_var.exp())\r\n",
        "    return BCE + KLD"
      ],
      "execution_count": 27,
      "outputs": []
    },
    {
      "cell_type": "markdown",
      "metadata": {
        "id": "zRuYMr5kJWJC"
      },
      "source": [
        "Training Function and Testing function"
      ]
    },
    {
      "cell_type": "code",
      "metadata": {
        "id": "sXn3HwbPKZjg"
      },
      "source": [
        "def train_vae(epoch):\r\n",
        "    vae.train()\r\n",
        "    train_loss = 0\r\n",
        "    for batch_idx, (data, _) in enumerate(train_loader):\r\n",
        "        optimizer.zero_grad()\r\n",
        "\r\n",
        "        recon_batch, mu, log_var = vae(data)\r\n",
        "        loss = loss_function(recon_batch, data, mu, log_var)\r\n",
        "        \r\n",
        "        loss.backward()\r\n",
        "        train_loss += loss.item()\r\n",
        "        optimizer.step()\r\n",
        "        \r\n",
        "        if batch_idx % 100 == 0:\r\n",
        "            print('Train Epoch: {} [{}/{} ({:.0f}%)]\\tLoss: {:.6f}'.format(\r\n",
        "                epoch, batch_idx * len(data), len(train_loader.dataset),\r\n",
        "                100. * batch_idx / len(train_loader), loss.item() / len(data)))\r\n",
        "    print('====> Epoch: {} Average loss: {:.4f}'.format(epoch, train_loss / len(train_loader.dataset)))"
      ],
      "execution_count": 28,
      "outputs": []
    },
    {
      "cell_type": "code",
      "metadata": {
        "id": "2x9xmppxKcUo"
      },
      "source": [
        "def test_vae():\r\n",
        "    vae.eval()\r\n",
        "    test_loss= 0\r\n",
        "    with torch.no_grad():\r\n",
        "        for data, _ in test_loader:\r\n",
        "            recon, mu, log_var = vae(data)\r\n",
        "            test_loss += loss_function(recon, data, mu, log_var).item()\r\n",
        "    test_loss /= len(test_loader.dataset)\r\n",
        "    print('====> Test set loss: {:.4f}'.format(test_loss))"
      ],
      "execution_count": 29,
      "outputs": []
    },
    {
      "cell_type": "markdown",
      "metadata": {
        "id": "yBzgLYyeJgEJ"
      },
      "source": [
        "Train for each epoch run training function and after it finishes run test function"
      ]
    },
    {
      "cell_type": "code",
      "metadata": {
        "colab": {
          "base_uri": "https://localhost:8080/"
        },
        "id": "psTj6BdyKjXg",
        "outputId": "fdf55bbf-ac67-42d5-df22-28b44e013e35"
      },
      "source": [
        "for epoch in range(1, 15):\r\n",
        "    train_vae(epoch)\r\n",
        "    test_vae()"
      ],
      "execution_count": 30,
      "outputs": [
        {
          "output_type": "stream",
          "text": [
            "/usr/local/lib/python3.6/dist-packages/torch/nn/functional.py:1639: UserWarning: nn.functional.sigmoid is deprecated. Use torch.sigmoid instead.\n",
            "  warnings.warn(\"nn.functional.sigmoid is deprecated. Use torch.sigmoid instead.\")\n"
          ],
          "name": "stderr"
        },
        {
          "output_type": "stream",
          "text": [
            "Train Epoch: 1 [0/60000 (0%)]\tLoss: 544.846250\n",
            "Train Epoch: 1 [10000/60000 (17%)]\tLoss: 188.786973\n",
            "Train Epoch: 1 [20000/60000 (33%)]\tLoss: 175.659023\n",
            "Train Epoch: 1 [30000/60000 (50%)]\tLoss: 167.370059\n",
            "Train Epoch: 1 [40000/60000 (67%)]\tLoss: 167.151230\n",
            "Train Epoch: 1 [50000/60000 (83%)]\tLoss: 166.615938\n",
            "====> Epoch: 1 Average loss: 178.1149\n",
            "====> Test set loss: 161.7339\n",
            "Train Epoch: 2 [0/60000 (0%)]\tLoss: 158.912578\n",
            "Train Epoch: 2 [10000/60000 (17%)]\tLoss: 162.673135\n",
            "Train Epoch: 2 [20000/60000 (33%)]\tLoss: 168.380000\n",
            "Train Epoch: 2 [30000/60000 (50%)]\tLoss: 163.992129\n",
            "Train Epoch: 2 [40000/60000 (67%)]\tLoss: 154.622207\n",
            "Train Epoch: 2 [50000/60000 (83%)]\tLoss: 160.261514\n",
            "====> Epoch: 2 Average loss: 157.2982\n",
            "====> Test set loss: 153.8070\n",
            "Train Epoch: 3 [0/60000 (0%)]\tLoss: 153.391621\n",
            "Train Epoch: 3 [10000/60000 (17%)]\tLoss: 157.763281\n",
            "Train Epoch: 3 [20000/60000 (33%)]\tLoss: 145.931240\n",
            "Train Epoch: 3 [30000/60000 (50%)]\tLoss: 152.948301\n",
            "Train Epoch: 3 [40000/60000 (67%)]\tLoss: 154.540186\n",
            "Train Epoch: 3 [50000/60000 (83%)]\tLoss: 157.659883\n",
            "====> Epoch: 3 Average loss: 152.0636\n",
            "====> Test set loss: 149.9013\n",
            "Train Epoch: 4 [0/60000 (0%)]\tLoss: 148.599629\n",
            "Train Epoch: 4 [10000/60000 (17%)]\tLoss: 143.764756\n",
            "Train Epoch: 4 [20000/60000 (33%)]\tLoss: 157.246104\n",
            "Train Epoch: 4 [30000/60000 (50%)]\tLoss: 144.432314\n",
            "Train Epoch: 4 [40000/60000 (67%)]\tLoss: 154.681699\n",
            "Train Epoch: 4 [50000/60000 (83%)]\tLoss: 154.495469\n",
            "====> Epoch: 4 Average loss: 149.0522\n",
            "====> Test set loss: 147.4876\n",
            "Train Epoch: 5 [0/60000 (0%)]\tLoss: 150.803047\n",
            "Train Epoch: 5 [10000/60000 (17%)]\tLoss: 153.256738\n",
            "Train Epoch: 5 [20000/60000 (33%)]\tLoss: 152.944766\n",
            "Train Epoch: 5 [30000/60000 (50%)]\tLoss: 153.154297\n",
            "Train Epoch: 5 [40000/60000 (67%)]\tLoss: 149.425664\n",
            "Train Epoch: 5 [50000/60000 (83%)]\tLoss: 148.114463\n",
            "====> Epoch: 5 Average loss: 147.1538\n",
            "====> Test set loss: 146.2124\n",
            "Train Epoch: 6 [0/60000 (0%)]\tLoss: 146.124854\n",
            "Train Epoch: 6 [10000/60000 (17%)]\tLoss: 141.783213\n",
            "Train Epoch: 6 [20000/60000 (33%)]\tLoss: 131.737344\n",
            "Train Epoch: 6 [30000/60000 (50%)]\tLoss: 155.282979\n",
            "Train Epoch: 6 [40000/60000 (67%)]\tLoss: 147.670254\n",
            "Train Epoch: 6 [50000/60000 (83%)]\tLoss: 143.200527\n",
            "====> Epoch: 6 Average loss: 145.8193\n",
            "====> Test set loss: 145.3295\n",
            "Train Epoch: 7 [0/60000 (0%)]\tLoss: 147.246133\n",
            "Train Epoch: 7 [10000/60000 (17%)]\tLoss: 144.087549\n",
            "Train Epoch: 7 [20000/60000 (33%)]\tLoss: 144.580117\n",
            "Train Epoch: 7 [30000/60000 (50%)]\tLoss: 137.551924\n",
            "Train Epoch: 7 [40000/60000 (67%)]\tLoss: 143.596611\n",
            "Train Epoch: 7 [50000/60000 (83%)]\tLoss: 141.712617\n",
            "====> Epoch: 7 Average loss: 144.6420\n",
            "====> Test set loss: 143.9824\n",
            "Train Epoch: 8 [0/60000 (0%)]\tLoss: 143.259756\n",
            "Train Epoch: 8 [10000/60000 (17%)]\tLoss: 150.692998\n",
            "Train Epoch: 8 [20000/60000 (33%)]\tLoss: 147.286729\n",
            "Train Epoch: 8 [30000/60000 (50%)]\tLoss: 144.710938\n",
            "Train Epoch: 8 [40000/60000 (67%)]\tLoss: 150.306738\n",
            "Train Epoch: 8 [50000/60000 (83%)]\tLoss: 146.391641\n",
            "====> Epoch: 8 Average loss: 143.9699\n",
            "====> Test set loss: 143.0625\n",
            "Train Epoch: 9 [0/60000 (0%)]\tLoss: 145.515449\n",
            "Train Epoch: 9 [10000/60000 (17%)]\tLoss: 143.392041\n",
            "Train Epoch: 9 [20000/60000 (33%)]\tLoss: 142.424756\n",
            "Train Epoch: 9 [30000/60000 (50%)]\tLoss: 146.046699\n",
            "Train Epoch: 9 [40000/60000 (67%)]\tLoss: 146.300605\n",
            "Train Epoch: 9 [50000/60000 (83%)]\tLoss: 140.822402\n",
            "====> Epoch: 9 Average loss: 143.1798\n",
            "====> Test set loss: 142.8635\n",
            "Train Epoch: 10 [0/60000 (0%)]\tLoss: 145.076836\n",
            "Train Epoch: 10 [10000/60000 (17%)]\tLoss: 139.787119\n",
            "Train Epoch: 10 [20000/60000 (33%)]\tLoss: 140.181582\n",
            "Train Epoch: 10 [30000/60000 (50%)]\tLoss: 137.260713\n",
            "Train Epoch: 10 [40000/60000 (67%)]\tLoss: 140.822197\n",
            "Train Epoch: 10 [50000/60000 (83%)]\tLoss: 137.433545\n",
            "====> Epoch: 10 Average loss: 142.6677\n",
            "====> Test set loss: 142.7938\n",
            "Train Epoch: 11 [0/60000 (0%)]\tLoss: 144.995781\n",
            "Train Epoch: 11 [10000/60000 (17%)]\tLoss: 138.753857\n",
            "Train Epoch: 11 [20000/60000 (33%)]\tLoss: 136.620381\n",
            "Train Epoch: 11 [30000/60000 (50%)]\tLoss: 144.042178\n",
            "Train Epoch: 11 [40000/60000 (67%)]\tLoss: 136.377100\n",
            "Train Epoch: 11 [50000/60000 (83%)]\tLoss: 138.042881\n",
            "====> Epoch: 11 Average loss: 142.1242\n",
            "====> Test set loss: 142.9847\n",
            "Train Epoch: 12 [0/60000 (0%)]\tLoss: 138.732393\n",
            "Train Epoch: 12 [10000/60000 (17%)]\tLoss: 139.500088\n",
            "Train Epoch: 12 [20000/60000 (33%)]\tLoss: 141.139307\n",
            "Train Epoch: 12 [30000/60000 (50%)]\tLoss: 146.209756\n",
            "Train Epoch: 12 [40000/60000 (67%)]\tLoss: 138.239131\n",
            "Train Epoch: 12 [50000/60000 (83%)]\tLoss: 143.410313\n",
            "====> Epoch: 12 Average loss: 141.7185\n",
            "====> Test set loss: 141.7480\n",
            "Train Epoch: 13 [0/60000 (0%)]\tLoss: 139.585391\n",
            "Train Epoch: 13 [10000/60000 (17%)]\tLoss: 141.902090\n",
            "Train Epoch: 13 [20000/60000 (33%)]\tLoss: 143.289209\n",
            "Train Epoch: 13 [30000/60000 (50%)]\tLoss: 137.257881\n",
            "Train Epoch: 13 [40000/60000 (67%)]\tLoss: 138.780000\n",
            "Train Epoch: 13 [50000/60000 (83%)]\tLoss: 142.459316\n",
            "====> Epoch: 13 Average loss: 141.1837\n",
            "====> Test set loss: 141.7215\n",
            "Train Epoch: 14 [0/60000 (0%)]\tLoss: 140.268232\n",
            "Train Epoch: 14 [10000/60000 (17%)]\tLoss: 141.595449\n",
            "Train Epoch: 14 [20000/60000 (33%)]\tLoss: 142.040117\n",
            "Train Epoch: 14 [30000/60000 (50%)]\tLoss: 141.903398\n",
            "Train Epoch: 14 [40000/60000 (67%)]\tLoss: 133.485195\n",
            "Train Epoch: 14 [50000/60000 (83%)]\tLoss: 136.864326\n",
            "====> Epoch: 14 Average loss: 140.8025\n",
            "====> Test set loss: 141.2915\n"
          ],
          "name": "stdout"
        }
      ]
    },
    {
      "cell_type": "markdown",
      "metadata": {
        "id": "s2TnhGTpJn34"
      },
      "source": [
        "Save the output as a grid in a file and display it"
      ]
    },
    {
      "cell_type": "code",
      "metadata": {
        "colab": {
          "base_uri": "https://localhost:8080/"
        },
        "id": "vdGfzK5NKj2W",
        "outputId": "bdcb6a82-3dbc-495b-e275-1e07cbcc4a28"
      },
      "source": [
        "with torch.no_grad():\r\n",
        "    z = torch.randn(64, 2)\r\n",
        "    sample = vae.decoder(z)\r\n",
        "    save_image(sample.view(64, 1, 28, 28), '/VAE' + '.png')"
      ],
      "execution_count": 31,
      "outputs": [
        {
          "output_type": "stream",
          "text": [
            "/usr/local/lib/python3.6/dist-packages/torch/nn/functional.py:1639: UserWarning: nn.functional.sigmoid is deprecated. Use torch.sigmoid instead.\n",
            "  warnings.warn(\"nn.functional.sigmoid is deprecated. Use torch.sigmoid instead.\")\n"
          ],
          "name": "stderr"
        }
      ]
    },
    {
      "cell_type": "code",
      "metadata": {
        "colab": {
          "base_uri": "https://localhost:8080/",
          "height": 259
        },
        "id": "y9fa0ISpom7x",
        "outputId": "2cfd0368-82ac-4a07-c097-68e62d397119"
      },
      "source": [
        "from IPython.display import Image\r\n",
        "Image('/VAE.png')"
      ],
      "execution_count": 32,
      "outputs": [
        {
          "output_type": "execute_result",
          "data": {
            "image/png": "[encoded data removed]",
            "text/plain": [
              "<IPython.core.display.Image object>"
            ]
          },
          "metadata": {
            "tags": []
          },
          "execution_count": 32
        }
      ]
    },
    {
      "cell_type": "markdown",
      "metadata": {
        "id": "7AtWGXIJm5Hc"
      },
      "source": [
        "### GAN"
      ]
    },
    {
      "cell_type": "markdown",
      "metadata": {
        "id": "m-v45k_TJv0z"
      },
      "source": [
        "Using a different transform pipeline for GAN"
      ]
    },
    {
      "cell_type": "code",
      "metadata": {
        "id": "eXnqAgtWmCUE"
      },
      "source": [
        "transform = transforms.Compose([\r\n",
        "                                transforms.ToTensor(),\r\n",
        "                                transforms.Normalize((0.5,),(0.5,)),\r\n",
        "])\r\n",
        "to_pil_image = transforms.ToPILImage()"
      ],
      "execution_count": 33,
      "outputs": []
    },
    {
      "cell_type": "markdown",
      "metadata": {
        "id": "K7SzvYvYJ3Ah"
      },
      "source": [
        "Setting model parameters like epochs and batch size"
      ]
    },
    {
      "cell_type": "code",
      "metadata": {
        "id": "UPF3na3XMAh3"
      },
      "source": [
        "# learning parameters\r\n",
        "batch_size = 256\r\n",
        "epochs = 150\r\n",
        "sample_size = 64 # fixed sample size\r\n",
        "nz = 128 # latent vector size\r\n",
        "k = 1 # number of steps to apply to the discriminator"
      ],
      "execution_count": 34,
      "outputs": []
    },
    {
      "cell_type": "markdown",
      "metadata": {
        "id": "rKvddq-hKARt"
      },
      "source": [
        "Importing the data set again with new transforming pipeline"
      ]
    },
    {
      "cell_type": "code",
      "metadata": {
        "id": "SHD01WbFmEz5"
      },
      "source": [
        "train_data = datasets.MNIST(\r\n",
        "    root='../input/data',\r\n",
        "    train=True,\r\n",
        "    download=True,\r\n",
        "    transform=transform\r\n",
        ")\r\n",
        "train_loader = DataLoader(train_data, batch_size=batch_size, shuffle=True)"
      ],
      "execution_count": 35,
      "outputs": []
    },
    {
      "cell_type": "markdown",
      "metadata": {
        "id": "EBf5GOIKKFza"
      },
      "source": [
        "Generator Class"
      ]
    },
    {
      "cell_type": "code",
      "metadata": {
        "id": "qi3oiVq3WDB7"
      },
      "source": [
        "class Generator(nn.Module):\r\n",
        "    def __init__(self, nz):\r\n",
        "        super(Generator, self).__init__()\r\n",
        "        self.nz = nz\r\n",
        "        self.main = nn.Sequential(\r\n",
        "            nn.Linear(self.nz, 256),\r\n",
        "            nn.LeakyReLU(0.2),\r\n",
        "            nn.Linear(256, 512),\r\n",
        "            nn.LeakyReLU(0.2),\r\n",
        "            nn.Linear(512, 1024),\r\n",
        "            nn.LeakyReLU(0.2),\r\n",
        "            nn.Linear(1024, 784),\r\n",
        "            nn.Tanh(),\r\n",
        "        )\r\n",
        "    def forward(self, x):\r\n",
        "        return self.main(x).view(-1, 1, 28, 28)"
      ],
      "execution_count": 36,
      "outputs": []
    },
    {
      "cell_type": "markdown",
      "metadata": {
        "id": "UOqQbeYcKHzJ"
      },
      "source": [
        "Discriminator Class"
      ]
    },
    {
      "cell_type": "code",
      "metadata": {
        "id": "EcMwF8NRXSbu"
      },
      "source": [
        "class Discriminator(nn.Module):\r\n",
        "    def __init__(self):\r\n",
        "        super(Discriminator, self).__init__()\r\n",
        "        self.n_input = 784\r\n",
        "        self.main = nn.Sequential(\r\n",
        "            nn.Linear(self.n_input, 1024),\r\n",
        "            nn.LeakyReLU(0.2),\r\n",
        "            nn.Dropout(0.3),\r\n",
        "            nn.Linear(1024, 512),\r\n",
        "            nn.LeakyReLU(0.2),\r\n",
        "            nn.Dropout(0.3),\r\n",
        "            nn.Linear(512, 256),\r\n",
        "            nn.LeakyReLU(0.2),\r\n",
        "            nn.Dropout(0.3),\r\n",
        "            nn.Linear(256, 1),\r\n",
        "            nn.Sigmoid(),\r\n",
        "        )\r\n",
        "    def forward(self, x):\r\n",
        "        x = x.view(-1, 784)\r\n",
        "        return self.main(x)"
      ],
      "execution_count": 37,
      "outputs": []
    },
    {
      "cell_type": "code",
      "metadata": {
        "id": "VsLdnp3yXX31"
      },
      "source": [
        "generator = Generator(nz).to(device)\r\n",
        "discriminator = Discriminator().to(device)"
      ],
      "execution_count": 38,
      "outputs": []
    },
    {
      "cell_type": "markdown",
      "metadata": {
        "id": "ikCTINpYKMS2"
      },
      "source": [
        "Defining optimizers and loss for Generator and Discriminator\r\n",
        "\r\n"
      ]
    },
    {
      "cell_type": "code",
      "metadata": {
        "id": "kbxZSh3zXaJu"
      },
      "source": [
        "optim_g = optim.Adam(generator.parameters(), lr=0.0002)\r\n",
        "optim_d = optim.Adam(discriminator.parameters(), lr=0.0002)"
      ],
      "execution_count": 39,
      "outputs": []
    },
    {
      "cell_type": "code",
      "metadata": {
        "id": "BiA5zMvRXcKs"
      },
      "source": [
        "# loss function\r\n",
        "criterion = nn.BCELoss()"
      ],
      "execution_count": 40,
      "outputs": []
    },
    {
      "cell_type": "code",
      "metadata": {
        "id": "SzegPFiFXeDM"
      },
      "source": [
        "def label_real(size):\r\n",
        "    data = torch.ones(size, 1)\r\n",
        "    return data.to(device)\r\n",
        "def label_fake(size):\r\n",
        "    data = torch.zeros(size, 1)\r\n",
        "    return data.to(device)"
      ],
      "execution_count": 41,
      "outputs": []
    },
    {
      "cell_type": "markdown",
      "metadata": {
        "id": "tV20fHarKZ8x"
      },
      "source": [
        "Training functions for Generator and Discriminator"
      ]
    },
    {
      "cell_type": "code",
      "metadata": {
        "id": "djJ9mTLTXfvd"
      },
      "source": [
        "def train_discriminator(optimizer, data_real, data_fake):\r\n",
        "    b_size = data_real.size(0)\r\n",
        "    real_label = label_real(b_size)\r\n",
        "    fake_label = label_fake(b_size)\r\n",
        "    optimizer.zero_grad()\r\n",
        "    output_real = discriminator(data_real)\r\n",
        "    loss_real = criterion(output_real, real_label)\r\n",
        "    output_fake = discriminator(data_fake)\r\n",
        "    loss_fake = criterion(output_fake, fake_label)\r\n",
        "    loss_real.backward()\r\n",
        "    loss_fake.backward()\r\n",
        "    optimizer.step()\r\n",
        "    return loss_real + loss_fake"
      ],
      "execution_count": 42,
      "outputs": []
    },
    {
      "cell_type": "code",
      "metadata": {
        "id": "AZx2S5IRXhnV"
      },
      "source": [
        "def train_generator(optimizer, data_fake):\r\n",
        "    b_size = data_fake.size(0)\r\n",
        "    real_label = label_real(b_size)\r\n",
        "    optimizer.zero_grad()\r\n",
        "    output = discriminator(data_fake)\r\n",
        "    loss = criterion(output, real_label)\r\n",
        "    loss.backward()\r\n",
        "    optimizer.step()\r\n",
        "    return loss"
      ],
      "execution_count": 43,
      "outputs": []
    },
    {
      "cell_type": "code",
      "metadata": {
        "id": "isxYt8qOXqKb"
      },
      "source": [
        "def create_noise(sample_size, nz):\r\n",
        "    return torch.randn(sample_size, nz).to(device)"
      ],
      "execution_count": 44,
      "outputs": []
    },
    {
      "cell_type": "code",
      "metadata": {
        "id": "i1dNbj4SXjIt"
      },
      "source": [
        "noise = create_noise(sample_size, nz)"
      ],
      "execution_count": 45,
      "outputs": []
    },
    {
      "cell_type": "code",
      "metadata": {
        "id": "KfxzuPAlZ6gE"
      },
      "source": [
        "losses_g = [] # to store generator loss after each epoch\r\n",
        "losses_d = [] # to store discriminator loss after each epoch"
      ],
      "execution_count": 46,
      "outputs": []
    },
    {
      "cell_type": "markdown",
      "metadata": {
        "id": "havFbM0mK39l"
      },
      "source": [
        "Training of the model"
      ]
    },
    {
      "cell_type": "code",
      "metadata": {
        "colab": {
          "base_uri": "https://localhost:8080/"
        },
        "id": "i29G5iaGXlsN",
        "outputId": "c03074e0-9932-460b-9f3d-d8e11ba01f34"
      },
      "source": [
        "for epoch in range(epochs):\r\n",
        "    loss_g = 0.0\r\n",
        "    loss_d = 0.0\r\n",
        "    for bi, data in tqdm(enumerate(train_loader), total=int(len(train_data)/train_loader.batch_size)):\r\n",
        "        image, _ = data\r\n",
        "        image = image.to(device)\r\n",
        "        b_size = len(image)\r\n",
        "        data_fake = generator(create_noise(b_size, nz)).detach()\r\n",
        "        data_real = image\r\n",
        "        loss_d += train_discriminator(optim_d, data_real, data_fake)\r\n",
        "        data_fake = generator(create_noise(b_size, nz))\r\n",
        "        loss_g += train_generator(optim_g, data_fake)\r\n",
        "    epoch_loss_g = loss_g / bi\r\n",
        "    epoch_loss_d = loss_d / bi\r\n",
        "    losses_g.append(epoch_loss_g)\r\n",
        "    losses_d.append(epoch_loss_d)\r\n",
        "    print(f\"Epoch {epoch} of {epochs}\")\r\n",
        "    print(f\"Generator loss: {epoch_loss_g:.8f}, Discriminator loss: {epoch_loss_d:.8f}\")"
      ],
      "execution_count": 47,
      "outputs": [
        {
          "output_type": "stream",
          "text": [
            "235it [00:13, 17.79it/s]                         \n",
            "  1%|          | 2/234 [00:00<00:12, 17.89it/s]"
          ],
          "name": "stderr"
        },
        {
          "output_type": "stream",
          "text": [
            "Epoch 0 of 150\n",
            "Generator loss: 2.46087670, Discriminator loss: 1.07933462\n"
          ],
          "name": "stdout"
        },
        {
          "output_type": "stream",
          "text": [
            "235it [00:13, 17.92it/s]                         \n",
            "  1%|          | 2/234 [00:00<00:14, 16.15it/s]"
          ],
          "name": "stderr"
        },
        {
          "output_type": "stream",
          "text": [
            "Epoch 1 of 150\n",
            "Generator loss: 3.76408052, Discriminator loss: 0.93273938\n"
          ],
          "name": "stdout"
        },
        {
          "output_type": "stream",
          "text": [
            "235it [00:13, 17.96it/s]                         \n",
            "  1%|          | 2/234 [00:00<00:12, 18.91it/s]"
          ],
          "name": "stderr"
        },
        {
          "output_type": "stream",
          "text": [
            "Epoch 2 of 150\n",
            "Generator loss: 1.49520469, Discriminator loss: 1.10877156\n"
          ],
          "name": "stdout"
        },
        {
          "output_type": "stream",
          "text": [
            "235it [00:12, 18.19it/s]                         \n",
            "  1%|          | 2/234 [00:00<00:12, 18.54it/s]"
          ],
          "name": "stderr"
        },
        {
          "output_type": "stream",
          "text": [
            "Epoch 3 of 150\n",
            "Generator loss: 1.59326649, Discriminator loss: 1.12787902\n"
          ],
          "name": "stdout"
        },
        {
          "output_type": "stream",
          "text": [
            "235it [00:13, 18.02it/s]                         \n",
            "  1%|          | 2/234 [00:00<00:12, 18.92it/s]"
          ],
          "name": "stderr"
        },
        {
          "output_type": "stream",
          "text": [
            "Epoch 4 of 150\n",
            "Generator loss: 2.04118133, Discriminator loss: 1.04579437\n"
          ],
          "name": "stdout"
        },
        {
          "output_type": "stream",
          "text": [
            "235it [00:12, 18.33it/s]                         \n",
            "  1%|          | 2/234 [00:00<00:14, 15.98it/s]"
          ],
          "name": "stderr"
        },
        {
          "output_type": "stream",
          "text": [
            "Epoch 5 of 150\n",
            "Generator loss: 1.01286650, Discriminator loss: 1.25088012\n"
          ],
          "name": "stdout"
        },
        {
          "output_type": "stream",
          "text": [
            "235it [00:12, 18.12it/s]                         \n",
            "  1%|          | 2/234 [00:00<00:14, 15.99it/s]"
          ],
          "name": "stderr"
        },
        {
          "output_type": "stream",
          "text": [
            "Epoch 6 of 150\n",
            "Generator loss: 1.44335270, Discriminator loss: 0.98345292\n"
          ],
          "name": "stdout"
        },
        {
          "output_type": "stream",
          "text": [
            "235it [00:13, 18.01it/s]                         \n",
            "  1%|          | 2/234 [00:00<00:12, 18.03it/s]"
          ],
          "name": "stderr"
        },
        {
          "output_type": "stream",
          "text": [
            "Epoch 7 of 150\n",
            "Generator loss: 2.73627639, Discriminator loss: 0.78684837\n"
          ],
          "name": "stdout"
        },
        {
          "output_type": "stream",
          "text": [
            "235it [00:12, 18.09it/s]                         \n",
            "  1%|          | 2/234 [00:00<00:12, 18.65it/s]"
          ],
          "name": "stderr"
        },
        {
          "output_type": "stream",
          "text": [
            "Epoch 8 of 150\n",
            "Generator loss: 2.42713094, Discriminator loss: 0.66774493\n"
          ],
          "name": "stdout"
        },
        {
          "output_type": "stream",
          "text": [
            "235it [00:13, 17.94it/s]                         \n",
            "  1%|          | 2/234 [00:00<00:13, 17.07it/s]"
          ],
          "name": "stderr"
        },
        {
          "output_type": "stream",
          "text": [
            "Epoch 9 of 150\n",
            "Generator loss: 2.72649336, Discriminator loss: 0.59615546\n"
          ],
          "name": "stdout"
        },
        {
          "output_type": "stream",
          "text": [
            "235it [00:12, 18.25it/s]                         \n",
            "  1%|          | 2/234 [00:00<00:12, 18.66it/s]"
          ],
          "name": "stderr"
        },
        {
          "output_type": "stream",
          "text": [
            "Epoch 10 of 150\n",
            "Generator loss: 2.55573773, Discriminator loss: 0.57359475\n"
          ],
          "name": "stdout"
        },
        {
          "output_type": "stream",
          "text": [
            "235it [00:12, 18.21it/s]                         \n",
            "  1%|          | 2/234 [00:00<00:13, 17.71it/s]"
          ],
          "name": "stderr"
        },
        {
          "output_type": "stream",
          "text": [
            "Epoch 11 of 150\n",
            "Generator loss: 2.65546679, Discriminator loss: 0.60238469\n"
          ],
          "name": "stdout"
        },
        {
          "output_type": "stream",
          "text": [
            "235it [00:12, 18.23it/s]                         \n",
            "  1%|          | 2/234 [00:00<00:12, 18.62it/s]"
          ],
          "name": "stderr"
        },
        {
          "output_type": "stream",
          "text": [
            "Epoch 12 of 150\n",
            "Generator loss: 2.66566157, Discriminator loss: 0.56726998\n"
          ],
          "name": "stdout"
        },
        {
          "output_type": "stream",
          "text": [
            "235it [00:13, 18.04it/s]                         \n",
            "  1%|          | 2/234 [00:00<00:12, 18.74it/s]"
          ],
          "name": "stderr"
        },
        {
          "output_type": "stream",
          "text": [
            "Epoch 13 of 150\n",
            "Generator loss: 2.86572099, Discriminator loss: 0.52089584\n"
          ],
          "name": "stdout"
        },
        {
          "output_type": "stream",
          "text": [
            "235it [00:12, 18.25it/s]                         \n",
            "  1%|          | 2/234 [00:00<00:15, 14.98it/s]"
          ],
          "name": "stderr"
        },
        {
          "output_type": "stream",
          "text": [
            "Epoch 14 of 150\n",
            "Generator loss: 2.62946987, Discriminator loss: 0.62127399\n"
          ],
          "name": "stdout"
        },
        {
          "output_type": "stream",
          "text": [
            "235it [00:13, 17.98it/s]                         \n",
            "  1%|          | 2/234 [00:00<00:12, 18.16it/s]"
          ],
          "name": "stderr"
        },
        {
          "output_type": "stream",
          "text": [
            "Epoch 15 of 150\n",
            "Generator loss: 3.05573750, Discriminator loss: 0.46210974\n"
          ],
          "name": "stdout"
        },
        {
          "output_type": "stream",
          "text": [
            "235it [00:12, 18.21it/s]                         \n",
            "  1%|          | 2/234 [00:00<00:13, 17.33it/s]"
          ],
          "name": "stderr"
        },
        {
          "output_type": "stream",
          "text": [
            "Epoch 16 of 150\n",
            "Generator loss: 2.87469959, Discriminator loss: 0.52734375\n"
          ],
          "name": "stdout"
        },
        {
          "output_type": "stream",
          "text": [
            "235it [00:12, 18.23it/s]                         \n",
            "  1%|          | 2/234 [00:00<00:12, 18.33it/s]"
          ],
          "name": "stderr"
        },
        {
          "output_type": "stream",
          "text": [
            "Epoch 17 of 150\n",
            "Generator loss: 2.55717731, Discriminator loss: 0.62375057\n"
          ],
          "name": "stdout"
        },
        {
          "output_type": "stream",
          "text": [
            "235it [00:12, 18.10it/s]                         \n",
            "  1%|          | 2/234 [00:00<00:13, 16.88it/s]"
          ],
          "name": "stderr"
        },
        {
          "output_type": "stream",
          "text": [
            "Epoch 18 of 150\n",
            "Generator loss: 2.59763360, Discriminator loss: 0.54895729\n"
          ],
          "name": "stdout"
        },
        {
          "output_type": "stream",
          "text": [
            "235it [00:13, 17.93it/s]                         \n",
            "  1%|          | 2/234 [00:00<00:12, 17.93it/s]"
          ],
          "name": "stderr"
        },
        {
          "output_type": "stream",
          "text": [
            "Epoch 19 of 150\n",
            "Generator loss: 2.78022408, Discriminator loss: 0.51711297\n"
          ],
          "name": "stdout"
        },
        {
          "output_type": "stream",
          "text": [
            "235it [00:12, 18.20it/s]                         \n",
            "  1%|          | 2/234 [00:00<00:12, 18.03it/s]"
          ],
          "name": "stderr"
        },
        {
          "output_type": "stream",
          "text": [
            "Epoch 20 of 150\n",
            "Generator loss: 2.70700717, Discriminator loss: 0.54463530\n"
          ],
          "name": "stdout"
        },
        {
          "output_type": "stream",
          "text": [
            "235it [00:12, 18.29it/s]                         \n",
            "  1%|          | 2/234 [00:00<00:12, 18.43it/s]"
          ],
          "name": "stderr"
        },
        {
          "output_type": "stream",
          "text": [
            "Epoch 21 of 150\n",
            "Generator loss: 2.75181222, Discriminator loss: 0.54241109\n"
          ],
          "name": "stdout"
        },
        {
          "output_type": "stream",
          "text": [
            "235it [00:12, 18.64it/s]                         \n",
            "  1%|          | 2/234 [00:00<00:14, 16.50it/s]"
          ],
          "name": "stderr"
        },
        {
          "output_type": "stream",
          "text": [
            "Epoch 22 of 150\n",
            "Generator loss: 2.71433830, Discriminator loss: 0.56134534\n"
          ],
          "name": "stdout"
        },
        {
          "output_type": "stream",
          "text": [
            "235it [00:12, 18.28it/s]                         \n",
            "  1%|          | 2/234 [00:00<00:14, 16.56it/s]"
          ],
          "name": "stderr"
        },
        {
          "output_type": "stream",
          "text": [
            "Epoch 23 of 150\n",
            "Generator loss: 2.88310885, Discriminator loss: 0.50549316\n"
          ],
          "name": "stdout"
        },
        {
          "output_type": "stream",
          "text": [
            "235it [00:12, 18.22it/s]                         \n",
            "  1%|          | 2/234 [00:00<00:12, 18.82it/s]"
          ],
          "name": "stderr"
        },
        {
          "output_type": "stream",
          "text": [
            "Epoch 24 of 150\n",
            "Generator loss: 2.62866879, Discriminator loss: 0.59095824\n"
          ],
          "name": "stdout"
        },
        {
          "output_type": "stream",
          "text": [
            "235it [00:12, 18.37it/s]                         \n",
            "  1%|          | 2/234 [00:00<00:13, 16.92it/s]"
          ],
          "name": "stderr"
        },
        {
          "output_type": "stream",
          "text": [
            "Epoch 25 of 150\n",
            "Generator loss: 2.74259114, Discriminator loss: 0.54653049\n"
          ],
          "name": "stdout"
        },
        {
          "output_type": "stream",
          "text": [
            "235it [00:12, 18.54it/s]                         \n",
            "  1%|          | 2/234 [00:00<00:12, 18.29it/s]"
          ],
          "name": "stderr"
        },
        {
          "output_type": "stream",
          "text": [
            "Epoch 26 of 150\n",
            "Generator loss: 2.80574203, Discriminator loss: 0.56505597\n"
          ],
          "name": "stdout"
        },
        {
          "output_type": "stream",
          "text": [
            "235it [00:12, 18.75it/s]                         \n",
            "  1%|          | 2/234 [00:00<00:12, 19.10it/s]"
          ],
          "name": "stderr"
        },
        {
          "output_type": "stream",
          "text": [
            "Epoch 27 of 150\n",
            "Generator loss: 2.85489178, Discriminator loss: 0.50734591\n"
          ],
          "name": "stdout"
        },
        {
          "output_type": "stream",
          "text": [
            "235it [00:12, 18.67it/s]                         \n",
            "  1%|          | 2/234 [00:00<00:12, 18.44it/s]"
          ],
          "name": "stderr"
        },
        {
          "output_type": "stream",
          "text": [
            "Epoch 28 of 150\n",
            "Generator loss: 2.62208343, Discriminator loss: 0.60907686\n"
          ],
          "name": "stdout"
        },
        {
          "output_type": "stream",
          "text": [
            "235it [00:12, 18.72it/s]                         \n",
            "  1%|          | 2/234 [00:00<00:12, 18.57it/s]"
          ],
          "name": "stderr"
        },
        {
          "output_type": "stream",
          "text": [
            "Epoch 29 of 150\n",
            "Generator loss: 2.55528021, Discriminator loss: 0.60119790\n"
          ],
          "name": "stdout"
        },
        {
          "output_type": "stream",
          "text": [
            "235it [00:12, 18.74it/s]                         \n",
            "  1%|          | 2/234 [00:00<00:13, 16.78it/s]"
          ],
          "name": "stderr"
        },
        {
          "output_type": "stream",
          "text": [
            "Epoch 30 of 150\n",
            "Generator loss: 2.55460572, Discriminator loss: 0.59416515\n"
          ],
          "name": "stdout"
        },
        {
          "output_type": "stream",
          "text": [
            "235it [00:12, 18.57it/s]                         \n",
            "  1%|          | 2/234 [00:00<00:11, 19.36it/s]"
          ],
          "name": "stderr"
        },
        {
          "output_type": "stream",
          "text": [
            "Epoch 31 of 150\n",
            "Generator loss: 2.48238349, Discriminator loss: 0.63493270\n"
          ],
          "name": "stdout"
        },
        {
          "output_type": "stream",
          "text": [
            "235it [00:12, 18.62it/s]                         \n",
            "  1%|          | 2/234 [00:00<00:12, 17.96it/s]"
          ],
          "name": "stderr"
        },
        {
          "output_type": "stream",
          "text": [
            "Epoch 32 of 150\n",
            "Generator loss: 2.75751734, Discriminator loss: 0.53432423\n"
          ],
          "name": "stdout"
        },
        {
          "output_type": "stream",
          "text": [
            "235it [00:12, 18.69it/s]                         \n",
            "  1%|          | 2/234 [00:00<00:13, 16.72it/s]"
          ],
          "name": "stderr"
        },
        {
          "output_type": "stream",
          "text": [
            "Epoch 33 of 150\n",
            "Generator loss: 2.78770375, Discriminator loss: 0.55229282\n"
          ],
          "name": "stdout"
        },
        {
          "output_type": "stream",
          "text": [
            "235it [00:12, 18.62it/s]                         \n",
            "  1%|          | 2/234 [00:00<00:12, 18.07it/s]"
          ],
          "name": "stderr"
        },
        {
          "output_type": "stream",
          "text": [
            "Epoch 34 of 150\n",
            "Generator loss: 2.75749207, Discriminator loss: 0.58545768\n"
          ],
          "name": "stdout"
        },
        {
          "output_type": "stream",
          "text": [
            "235it [00:12, 18.50it/s]                         \n",
            "  1%|          | 2/234 [00:00<00:12, 18.77it/s]"
          ],
          "name": "stderr"
        },
        {
          "output_type": "stream",
          "text": [
            "Epoch 35 of 150\n",
            "Generator loss: 2.42087102, Discriminator loss: 0.66317463\n"
          ],
          "name": "stdout"
        },
        {
          "output_type": "stream",
          "text": [
            "235it [00:12, 18.41it/s]                         \n",
            "  1%|          | 2/234 [00:00<00:14, 16.31it/s]"
          ],
          "name": "stderr"
        },
        {
          "output_type": "stream",
          "text": [
            "Epoch 36 of 150\n",
            "Generator loss: 2.19556832, Discriminator loss: 0.73200756\n"
          ],
          "name": "stdout"
        },
        {
          "output_type": "stream",
          "text": [
            "235it [00:12, 18.38it/s]                         \n",
            "  1%|          | 2/234 [00:00<00:12, 18.81it/s]"
          ],
          "name": "stderr"
        },
        {
          "output_type": "stream",
          "text": [
            "Epoch 37 of 150\n",
            "Generator loss: 2.27215099, Discriminator loss: 0.66723955\n"
          ],
          "name": "stdout"
        },
        {
          "output_type": "stream",
          "text": [
            "235it [00:12, 18.32it/s]                         \n",
            "  1%|          | 2/234 [00:00<00:12, 18.29it/s]"
          ],
          "name": "stderr"
        },
        {
          "output_type": "stream",
          "text": [
            "Epoch 38 of 150\n",
            "Generator loss: 2.36913371, Discriminator loss: 0.64648902\n"
          ],
          "name": "stdout"
        },
        {
          "output_type": "stream",
          "text": [
            "235it [00:13, 17.91it/s]                         \n",
            "  1%|          | 2/234 [00:00<00:13, 16.94it/s]"
          ],
          "name": "stderr"
        },
        {
          "output_type": "stream",
          "text": [
            "Epoch 39 of 150\n",
            "Generator loss: 2.35109687, Discriminator loss: 0.66311491\n"
          ],
          "name": "stdout"
        },
        {
          "output_type": "stream",
          "text": [
            "235it [00:12, 18.53it/s]                         \n",
            "  1%|          | 2/234 [00:00<00:12, 18.96it/s]"
          ],
          "name": "stderr"
        },
        {
          "output_type": "stream",
          "text": [
            "Epoch 40 of 150\n",
            "Generator loss: 2.34392238, Discriminator loss: 0.66477090\n"
          ],
          "name": "stdout"
        },
        {
          "output_type": "stream",
          "text": [
            "235it [00:12, 18.51it/s]                         \n",
            "  1%|          | 2/234 [00:00<00:12, 18.56it/s]"
          ],
          "name": "stderr"
        },
        {
          "output_type": "stream",
          "text": [
            "Epoch 41 of 150\n",
            "Generator loss: 2.29421091, Discriminator loss: 0.68050641\n"
          ],
          "name": "stdout"
        },
        {
          "output_type": "stream",
          "text": [
            "235it [00:12, 18.62it/s]                         \n",
            "  1%|          | 2/234 [00:00<00:12, 18.34it/s]"
          ],
          "name": "stderr"
        },
        {
          "output_type": "stream",
          "text": [
            "Epoch 42 of 150\n",
            "Generator loss: 2.16155386, Discriminator loss: 0.73685014\n"
          ],
          "name": "stdout"
        },
        {
          "output_type": "stream",
          "text": [
            "235it [00:12, 18.66it/s]                         \n",
            "  1%|          | 2/234 [00:00<00:12, 17.99it/s]"
          ],
          "name": "stderr"
        },
        {
          "output_type": "stream",
          "text": [
            "Epoch 43 of 150\n",
            "Generator loss: 2.00759792, Discriminator loss: 0.78495169\n"
          ],
          "name": "stdout"
        },
        {
          "output_type": "stream",
          "text": [
            "235it [00:12, 18.27it/s]                         \n",
            "  1%|          | 2/234 [00:00<00:12, 18.02it/s]"
          ],
          "name": "stderr"
        },
        {
          "output_type": "stream",
          "text": [
            "Epoch 44 of 150\n",
            "Generator loss: 2.07709432, Discriminator loss: 0.74769115\n"
          ],
          "name": "stdout"
        },
        {
          "output_type": "stream",
          "text": [
            "235it [00:12, 18.42it/s]                         \n",
            "  1%|          | 2/234 [00:00<00:12, 18.72it/s]"
          ],
          "name": "stderr"
        },
        {
          "output_type": "stream",
          "text": [
            "Epoch 45 of 150\n",
            "Generator loss: 2.01657581, Discriminator loss: 0.77665669\n"
          ],
          "name": "stdout"
        },
        {
          "output_type": "stream",
          "text": [
            "235it [00:12, 18.37it/s]                         \n",
            "  1%|          | 2/234 [00:00<00:13, 17.61it/s]"
          ],
          "name": "stderr"
        },
        {
          "output_type": "stream",
          "text": [
            "Epoch 46 of 150\n",
            "Generator loss: 1.88730848, Discriminator loss: 0.82457215\n"
          ],
          "name": "stdout"
        },
        {
          "output_type": "stream",
          "text": [
            "235it [00:12, 18.25it/s]                         \n",
            "  1%|          | 2/234 [00:00<00:12, 18.33it/s]"
          ],
          "name": "stderr"
        },
        {
          "output_type": "stream",
          "text": [
            "Epoch 47 of 150\n",
            "Generator loss: 1.79834819, Discriminator loss: 0.85115677\n"
          ],
          "name": "stdout"
        },
        {
          "output_type": "stream",
          "text": [
            "235it [00:12, 18.54it/s]                         \n",
            "  1%|          | 2/234 [00:00<00:13, 17.50it/s]"
          ],
          "name": "stderr"
        },
        {
          "output_type": "stream",
          "text": [
            "Epoch 48 of 150\n",
            "Generator loss: 1.89179206, Discriminator loss: 0.81005085\n"
          ],
          "name": "stdout"
        },
        {
          "output_type": "stream",
          "text": [
            "235it [00:12, 18.38it/s]                         \n",
            "  1%|          | 2/234 [00:00<00:12, 18.63it/s]"
          ],
          "name": "stderr"
        },
        {
          "output_type": "stream",
          "text": [
            "Epoch 49 of 150\n",
            "Generator loss: 2.01089716, Discriminator loss: 0.78547168\n"
          ],
          "name": "stdout"
        },
        {
          "output_type": "stream",
          "text": [
            "235it [00:12, 18.28it/s]                         \n",
            "  1%|          | 2/234 [00:00<00:12, 19.01it/s]"
          ],
          "name": "stderr"
        },
        {
          "output_type": "stream",
          "text": [
            "Epoch 50 of 150\n",
            "Generator loss: 1.90719378, Discriminator loss: 0.81786418\n"
          ],
          "name": "stdout"
        },
        {
          "output_type": "stream",
          "text": [
            "235it [00:12, 18.22it/s]                         \n",
            "  1%|          | 2/234 [00:00<00:13, 17.38it/s]"
          ],
          "name": "stderr"
        },
        {
          "output_type": "stream",
          "text": [
            "Epoch 51 of 150\n",
            "Generator loss: 1.88556302, Discriminator loss: 0.82873607\n"
          ],
          "name": "stdout"
        },
        {
          "output_type": "stream",
          "text": [
            "235it [00:12, 18.40it/s]                         \n",
            "  1%|          | 2/234 [00:00<00:12, 19.03it/s]"
          ],
          "name": "stderr"
        },
        {
          "output_type": "stream",
          "text": [
            "Epoch 52 of 150\n",
            "Generator loss: 1.87016594, Discriminator loss: 0.84254056\n"
          ],
          "name": "stdout"
        },
        {
          "output_type": "stream",
          "text": [
            "235it [00:12, 18.71it/s]                         \n",
            "  1%|          | 2/234 [00:00<00:12, 19.12it/s]"
          ],
          "name": "stderr"
        },
        {
          "output_type": "stream",
          "text": [
            "Epoch 53 of 150\n",
            "Generator loss: 1.79401469, Discriminator loss: 0.87274617\n"
          ],
          "name": "stdout"
        },
        {
          "output_type": "stream",
          "text": [
            "235it [00:12, 18.70it/s]                         \n",
            "  1%|          | 2/234 [00:00<00:12, 19.28it/s]"
          ],
          "name": "stderr"
        },
        {
          "output_type": "stream",
          "text": [
            "Epoch 54 of 150\n",
            "Generator loss: 1.74506164, Discriminator loss: 0.85778886\n"
          ],
          "name": "stdout"
        },
        {
          "output_type": "stream",
          "text": [
            "235it [00:12, 18.44it/s]                         \n",
            "  1%|          | 2/234 [00:00<00:12, 19.23it/s]"
          ],
          "name": "stderr"
        },
        {
          "output_type": "stream",
          "text": [
            "Epoch 55 of 150\n",
            "Generator loss: 1.73476720, Discriminator loss: 0.87198758\n"
          ],
          "name": "stdout"
        },
        {
          "output_type": "stream",
          "text": [
            "235it [00:12, 18.10it/s]                         \n",
            "  1%|          | 2/234 [00:00<00:12, 18.42it/s]"
          ],
          "name": "stderr"
        },
        {
          "output_type": "stream",
          "text": [
            "Epoch 56 of 150\n",
            "Generator loss: 1.74264050, Discriminator loss: 0.85903543\n"
          ],
          "name": "stdout"
        },
        {
          "output_type": "stream",
          "text": [
            "235it [00:12, 18.17it/s]                         \n",
            "  1%|          | 2/234 [00:00<00:12, 18.10it/s]"
          ],
          "name": "stderr"
        },
        {
          "output_type": "stream",
          "text": [
            "Epoch 57 of 150\n",
            "Generator loss: 1.68332326, Discriminator loss: 0.88771558\n"
          ],
          "name": "stdout"
        },
        {
          "output_type": "stream",
          "text": [
            "235it [00:12, 18.38it/s]                         \n",
            "  1%|          | 2/234 [00:00<00:12, 18.49it/s]"
          ],
          "name": "stderr"
        },
        {
          "output_type": "stream",
          "text": [
            "Epoch 58 of 150\n",
            "Generator loss: 1.69823170, Discriminator loss: 0.89668852\n"
          ],
          "name": "stdout"
        },
        {
          "output_type": "stream",
          "text": [
            "235it [00:12, 18.46it/s]                         \n",
            "  1%|          | 2/234 [00:00<00:13, 17.66it/s]"
          ],
          "name": "stderr"
        },
        {
          "output_type": "stream",
          "text": [
            "Epoch 59 of 150\n",
            "Generator loss: 1.69439304, Discriminator loss: 0.89374810\n"
          ],
          "name": "stdout"
        },
        {
          "output_type": "stream",
          "text": [
            "235it [00:12, 18.53it/s]                         \n",
            "  1%|          | 2/234 [00:00<00:12, 18.80it/s]"
          ],
          "name": "stderr"
        },
        {
          "output_type": "stream",
          "text": [
            "Epoch 60 of 150\n",
            "Generator loss: 1.71268821, Discriminator loss: 0.90469611\n"
          ],
          "name": "stdout"
        },
        {
          "output_type": "stream",
          "text": [
            "235it [00:12, 18.44it/s]                         \n",
            "  1%|          | 2/234 [00:00<00:12, 18.06it/s]"
          ],
          "name": "stderr"
        },
        {
          "output_type": "stream",
          "text": [
            "Epoch 61 of 150\n",
            "Generator loss: 1.68124890, Discriminator loss: 0.88749677\n"
          ],
          "name": "stdout"
        },
        {
          "output_type": "stream",
          "text": [
            "235it [00:12, 18.47it/s]                         \n",
            "  1%|          | 2/234 [00:00<00:12, 18.31it/s]"
          ],
          "name": "stderr"
        },
        {
          "output_type": "stream",
          "text": [
            "Epoch 62 of 150\n",
            "Generator loss: 1.80268180, Discriminator loss: 0.84728235\n"
          ],
          "name": "stdout"
        },
        {
          "output_type": "stream",
          "text": [
            "235it [00:13, 17.91it/s]                         \n",
            "  1%|          | 2/234 [00:00<00:14, 15.76it/s]"
          ],
          "name": "stderr"
        },
        {
          "output_type": "stream",
          "text": [
            "Epoch 63 of 150\n",
            "Generator loss: 1.69528234, Discriminator loss: 0.88324064\n"
          ],
          "name": "stdout"
        },
        {
          "output_type": "stream",
          "text": [
            "235it [00:12, 18.12it/s]                         \n",
            "  1%|          | 2/234 [00:00<00:12, 18.36it/s]"
          ],
          "name": "stderr"
        },
        {
          "output_type": "stream",
          "text": [
            "Epoch 64 of 150\n",
            "Generator loss: 1.61742306, Discriminator loss: 0.90772665\n"
          ],
          "name": "stdout"
        },
        {
          "output_type": "stream",
          "text": [
            "235it [00:12, 18.54it/s]                         \n",
            "  1%|          | 2/234 [00:00<00:13, 16.73it/s]"
          ],
          "name": "stderr"
        },
        {
          "output_type": "stream",
          "text": [
            "Epoch 65 of 150\n",
            "Generator loss: 1.65908074, Discriminator loss: 0.90661877\n"
          ],
          "name": "stdout"
        },
        {
          "output_type": "stream",
          "text": [
            "235it [00:12, 18.31it/s]                         \n",
            "  1%|          | 2/234 [00:00<00:12, 18.02it/s]"
          ],
          "name": "stderr"
        },
        {
          "output_type": "stream",
          "text": [
            "Epoch 66 of 150\n",
            "Generator loss: 1.59437001, Discriminator loss: 0.92813814\n"
          ],
          "name": "stdout"
        },
        {
          "output_type": "stream",
          "text": [
            "235it [00:12, 18.50it/s]                         \n",
            "  1%|          | 2/234 [00:00<00:12, 19.08it/s]"
          ],
          "name": "stderr"
        },
        {
          "output_type": "stream",
          "text": [
            "Epoch 67 of 150\n",
            "Generator loss: 1.60066557, Discriminator loss: 0.92675304\n"
          ],
          "name": "stdout"
        },
        {
          "output_type": "stream",
          "text": [
            "235it [00:12, 18.38it/s]                         \n",
            "  1%|          | 2/234 [00:00<00:13, 17.43it/s]"
          ],
          "name": "stderr"
        },
        {
          "output_type": "stream",
          "text": [
            "Epoch 68 of 150\n",
            "Generator loss: 1.61388397, Discriminator loss: 0.93211311\n"
          ],
          "name": "stdout"
        },
        {
          "output_type": "stream",
          "text": [
            "235it [00:12, 18.25it/s]                         \n",
            "  1%|          | 2/234 [00:00<00:12, 18.21it/s]"
          ],
          "name": "stderr"
        },
        {
          "output_type": "stream",
          "text": [
            "Epoch 69 of 150\n",
            "Generator loss: 1.62736940, Discriminator loss: 0.91907769\n"
          ],
          "name": "stdout"
        },
        {
          "output_type": "stream",
          "text": [
            "235it [00:12, 18.68it/s]                         \n",
            "  1%|          | 2/234 [00:00<00:12, 18.56it/s]"
          ],
          "name": "stderr"
        },
        {
          "output_type": "stream",
          "text": [
            "Epoch 70 of 150\n",
            "Generator loss: 1.54550731, Discriminator loss: 0.94819909\n"
          ],
          "name": "stdout"
        },
        {
          "output_type": "stream",
          "text": [
            "235it [00:12, 18.60it/s]                         \n",
            "  1%|          | 2/234 [00:00<00:12, 18.38it/s]"
          ],
          "name": "stderr"
        },
        {
          "output_type": "stream",
          "text": [
            "Epoch 71 of 150\n",
            "Generator loss: 1.59085000, Discriminator loss: 0.93966645\n"
          ],
          "name": "stdout"
        },
        {
          "output_type": "stream",
          "text": [
            "235it [00:13, 17.93it/s]                         \n",
            "  1%|          | 2/234 [00:00<00:13, 17.25it/s]"
          ],
          "name": "stderr"
        },
        {
          "output_type": "stream",
          "text": [
            "Epoch 72 of 150\n",
            "Generator loss: 1.49678242, Discriminator loss: 0.96505684\n"
          ],
          "name": "stdout"
        },
        {
          "output_type": "stream",
          "text": [
            "235it [00:13, 17.91it/s]                         \n",
            "  1%|          | 2/234 [00:00<00:13, 17.67it/s]"
          ],
          "name": "stderr"
        },
        {
          "output_type": "stream",
          "text": [
            "Epoch 73 of 150\n",
            "Generator loss: 1.47772992, Discriminator loss: 0.98190492\n"
          ],
          "name": "stdout"
        },
        {
          "output_type": "stream",
          "text": [
            "235it [00:13, 17.63it/s]                         \n",
            "  1%|          | 2/234 [00:00<00:12, 19.05it/s]"
          ],
          "name": "stderr"
        },
        {
          "output_type": "stream",
          "text": [
            "Epoch 74 of 150\n",
            "Generator loss: 1.45211148, Discriminator loss: 0.99563271\n"
          ],
          "name": "stdout"
        },
        {
          "output_type": "stream",
          "text": [
            "235it [00:13, 17.79it/s]                         \n",
            "  1%|          | 2/234 [00:00<00:13, 17.37it/s]"
          ],
          "name": "stderr"
        },
        {
          "output_type": "stream",
          "text": [
            "Epoch 75 of 150\n",
            "Generator loss: 1.43386638, Discriminator loss: 0.99807942\n"
          ],
          "name": "stdout"
        },
        {
          "output_type": "stream",
          "text": [
            "235it [00:12, 18.34it/s]                         \n",
            "  1%|          | 2/234 [00:00<00:12, 18.43it/s]"
          ],
          "name": "stderr"
        },
        {
          "output_type": "stream",
          "text": [
            "Epoch 76 of 150\n",
            "Generator loss: 1.44344449, Discriminator loss: 0.99318266\n"
          ],
          "name": "stdout"
        },
        {
          "output_type": "stream",
          "text": [
            "235it [00:12, 18.23it/s]                         \n",
            "  1%|          | 2/234 [00:00<00:12, 18.49it/s]"
          ],
          "name": "stderr"
        },
        {
          "output_type": "stream",
          "text": [
            "Epoch 77 of 150\n",
            "Generator loss: 1.42271292, Discriminator loss: 1.00324881\n"
          ],
          "name": "stdout"
        },
        {
          "output_type": "stream",
          "text": [
            "235it [00:12, 18.31it/s]                         \n",
            "  1%|          | 2/234 [00:00<00:12, 18.13it/s]"
          ],
          "name": "stderr"
        },
        {
          "output_type": "stream",
          "text": [
            "Epoch 78 of 150\n",
            "Generator loss: 1.40949285, Discriminator loss: 1.01324797\n"
          ],
          "name": "stdout"
        },
        {
          "output_type": "stream",
          "text": [
            "235it [00:12, 18.31it/s]                         \n",
            "  1%|          | 2/234 [00:00<00:13, 16.89it/s]"
          ],
          "name": "stderr"
        },
        {
          "output_type": "stream",
          "text": [
            "Epoch 79 of 150\n",
            "Generator loss: 1.39209461, Discriminator loss: 1.01927698\n"
          ],
          "name": "stdout"
        },
        {
          "output_type": "stream",
          "text": [
            "235it [00:12, 18.29it/s]                         \n",
            "  1%|          | 2/234 [00:00<00:13, 16.97it/s]"
          ],
          "name": "stderr"
        },
        {
          "output_type": "stream",
          "text": [
            "Epoch 80 of 150\n",
            "Generator loss: 1.36482131, Discriminator loss: 1.03144622\n"
          ],
          "name": "stdout"
        },
        {
          "output_type": "stream",
          "text": [
            "235it [00:12, 18.14it/s]                         \n",
            "  1%|          | 2/234 [00:00<00:12, 18.37it/s]"
          ],
          "name": "stderr"
        },
        {
          "output_type": "stream",
          "text": [
            "Epoch 81 of 150\n",
            "Generator loss: 1.43094933, Discriminator loss: 1.01487029\n"
          ],
          "name": "stdout"
        },
        {
          "output_type": "stream",
          "text": [
            "235it [00:12, 18.17it/s]                         \n",
            "  1%|          | 2/234 [00:00<00:12, 17.95it/s]"
          ],
          "name": "stderr"
        },
        {
          "output_type": "stream",
          "text": [
            "Epoch 82 of 150\n",
            "Generator loss: 1.41389430, Discriminator loss: 1.01197600\n"
          ],
          "name": "stdout"
        },
        {
          "output_type": "stream",
          "text": [
            "235it [00:12, 18.35it/s]                         \n",
            "  1%|          | 2/234 [00:00<00:13, 17.41it/s]"
          ],
          "name": "stderr"
        },
        {
          "output_type": "stream",
          "text": [
            "Epoch 83 of 150\n",
            "Generator loss: 1.39230490, Discriminator loss: 1.01684487\n"
          ],
          "name": "stdout"
        },
        {
          "output_type": "stream",
          "text": [
            "235it [00:12, 18.47it/s]                         \n",
            "  1%|          | 2/234 [00:00<00:12, 18.76it/s]"
          ],
          "name": "stderr"
        },
        {
          "output_type": "stream",
          "text": [
            "Epoch 84 of 150\n",
            "Generator loss: 1.38726616, Discriminator loss: 1.02308416\n"
          ],
          "name": "stdout"
        },
        {
          "output_type": "stream",
          "text": [
            "235it [00:12, 18.25it/s]                         \n",
            "  1%|          | 2/234 [00:00<00:12, 18.15it/s]"
          ],
          "name": "stderr"
        },
        {
          "output_type": "stream",
          "text": [
            "Epoch 85 of 150\n",
            "Generator loss: 1.38256216, Discriminator loss: 1.04076028\n"
          ],
          "name": "stdout"
        },
        {
          "output_type": "stream",
          "text": [
            "235it [00:12, 18.36it/s]                         \n",
            "  1%|          | 2/234 [00:00<00:13, 17.80it/s]"
          ],
          "name": "stderr"
        },
        {
          "output_type": "stream",
          "text": [
            "Epoch 86 of 150\n",
            "Generator loss: 1.33735585, Discriminator loss: 1.03514338\n"
          ],
          "name": "stdout"
        },
        {
          "output_type": "stream",
          "text": [
            "235it [00:12, 18.09it/s]                         \n",
            "  1%|          | 2/234 [00:00<00:14, 16.34it/s]"
          ],
          "name": "stderr"
        },
        {
          "output_type": "stream",
          "text": [
            "Epoch 87 of 150\n",
            "Generator loss: 1.34587586, Discriminator loss: 1.04337537\n"
          ],
          "name": "stdout"
        },
        {
          "output_type": "stream",
          "text": [
            "235it [00:13, 17.87it/s]                         \n",
            "  1%|          | 2/234 [00:00<00:12, 18.97it/s]"
          ],
          "name": "stderr"
        },
        {
          "output_type": "stream",
          "text": [
            "Epoch 88 of 150\n",
            "Generator loss: 1.30126369, Discriminator loss: 1.05385339\n"
          ],
          "name": "stdout"
        },
        {
          "output_type": "stream",
          "text": [
            "235it [00:12, 18.23it/s]                         \n",
            "  1%|          | 2/234 [00:00<00:12, 19.11it/s]"
          ],
          "name": "stderr"
        },
        {
          "output_type": "stream",
          "text": [
            "Epoch 89 of 150\n",
            "Generator loss: 1.28799534, Discriminator loss: 1.06719673\n"
          ],
          "name": "stdout"
        },
        {
          "output_type": "stream",
          "text": [
            "235it [00:12, 18.35it/s]                         \n",
            "  1%|          | 2/234 [00:00<00:13, 17.76it/s]"
          ],
          "name": "stderr"
        },
        {
          "output_type": "stream",
          "text": [
            "Epoch 90 of 150\n",
            "Generator loss: 1.28350794, Discriminator loss: 1.06870401\n"
          ],
          "name": "stdout"
        },
        {
          "output_type": "stream",
          "text": [
            "235it [00:12, 18.35it/s]                         \n",
            "  1%|          | 2/234 [00:00<00:13, 16.93it/s]"
          ],
          "name": "stderr"
        },
        {
          "output_type": "stream",
          "text": [
            "Epoch 91 of 150\n",
            "Generator loss: 1.26102126, Discriminator loss: 1.07989597\n"
          ],
          "name": "stdout"
        },
        {
          "output_type": "stream",
          "text": [
            "235it [00:12, 18.14it/s]                         \n",
            "  1%|          | 2/234 [00:00<00:12, 17.99it/s]"
          ],
          "name": "stderr"
        },
        {
          "output_type": "stream",
          "text": [
            "Epoch 92 of 150\n",
            "Generator loss: 1.28075433, Discriminator loss: 1.06824422\n"
          ],
          "name": "stdout"
        },
        {
          "output_type": "stream",
          "text": [
            "235it [00:12, 18.26it/s]                         \n",
            "  1%|          | 2/234 [00:00<00:12, 17.86it/s]"
          ],
          "name": "stderr"
        },
        {
          "output_type": "stream",
          "text": [
            "Epoch 93 of 150\n",
            "Generator loss: 1.30591452, Discriminator loss: 1.07255530\n"
          ],
          "name": "stdout"
        },
        {
          "output_type": "stream",
          "text": [
            "235it [00:12, 18.11it/s]                         \n",
            "  1%|          | 2/234 [00:00<00:12, 18.08it/s]"
          ],
          "name": "stderr"
        },
        {
          "output_type": "stream",
          "text": [
            "Epoch 94 of 150\n",
            "Generator loss: 1.26536345, Discriminator loss: 1.08353209\n"
          ],
          "name": "stdout"
        },
        {
          "output_type": "stream",
          "text": [
            "235it [00:13, 18.01it/s]                         \n",
            "  1%|          | 2/234 [00:00<00:13, 16.98it/s]"
          ],
          "name": "stderr"
        },
        {
          "output_type": "stream",
          "text": [
            "Epoch 95 of 150\n",
            "Generator loss: 1.24203205, Discriminator loss: 1.08593214\n"
          ],
          "name": "stdout"
        },
        {
          "output_type": "stream",
          "text": [
            "235it [00:12, 18.29it/s]                         \n",
            "  1%|          | 2/234 [00:00<00:12, 18.28it/s]"
          ],
          "name": "stderr"
        },
        {
          "output_type": "stream",
          "text": [
            "Epoch 96 of 150\n",
            "Generator loss: 1.26099849, Discriminator loss: 1.09056461\n"
          ],
          "name": "stdout"
        },
        {
          "output_type": "stream",
          "text": [
            "235it [00:12, 18.25it/s]                         \n",
            "  1%|          | 2/234 [00:00<00:12, 18.10it/s]"
          ],
          "name": "stderr"
        },
        {
          "output_type": "stream",
          "text": [
            "Epoch 97 of 150\n",
            "Generator loss: 1.23919237, Discriminator loss: 1.09935939\n"
          ],
          "name": "stdout"
        },
        {
          "output_type": "stream",
          "text": [
            "235it [00:12, 18.46it/s]                         \n",
            "  1%|          | 2/234 [00:00<00:13, 16.97it/s]"
          ],
          "name": "stderr"
        },
        {
          "output_type": "stream",
          "text": [
            "Epoch 98 of 150\n",
            "Generator loss: 1.27098846, Discriminator loss: 1.07446694\n"
          ],
          "name": "stdout"
        },
        {
          "output_type": "stream",
          "text": [
            "235it [00:12, 18.33it/s]                         \n",
            "  1%|          | 2/234 [00:00<00:12, 17.97it/s]"
          ],
          "name": "stderr"
        },
        {
          "output_type": "stream",
          "text": [
            "Epoch 99 of 150\n",
            "Generator loss: 1.25808549, Discriminator loss: 1.08223927\n"
          ],
          "name": "stdout"
        },
        {
          "output_type": "stream",
          "text": [
            "235it [00:12, 18.15it/s]                         \n",
            "  1%|          | 2/234 [00:00<00:13, 17.14it/s]"
          ],
          "name": "stderr"
        },
        {
          "output_type": "stream",
          "text": [
            "Epoch 100 of 150\n",
            "Generator loss: 1.25368249, Discriminator loss: 1.09162271\n"
          ],
          "name": "stdout"
        },
        {
          "output_type": "stream",
          "text": [
            "235it [00:12, 18.28it/s]                         \n",
            "  1%|          | 2/234 [00:00<00:12, 18.88it/s]"
          ],
          "name": "stderr"
        },
        {
          "output_type": "stream",
          "text": [
            "Epoch 101 of 150\n",
            "Generator loss: 1.22044563, Discriminator loss: 1.10824382\n"
          ],
          "name": "stdout"
        },
        {
          "output_type": "stream",
          "text": [
            "235it [00:12, 18.31it/s]                         \n",
            "  1%|          | 2/234 [00:00<00:12, 18.26it/s]"
          ],
          "name": "stderr"
        },
        {
          "output_type": "stream",
          "text": [
            "Epoch 102 of 150\n",
            "Generator loss: 1.19547188, Discriminator loss: 1.11988354\n"
          ],
          "name": "stdout"
        },
        {
          "output_type": "stream",
          "text": [
            "235it [00:12, 18.25it/s]                         \n",
            "  1%|          | 2/234 [00:00<00:12, 18.22it/s]"
          ],
          "name": "stderr"
        },
        {
          "output_type": "stream",
          "text": [
            "Epoch 103 of 150\n",
            "Generator loss: 1.19734931, Discriminator loss: 1.11161363\n"
          ],
          "name": "stdout"
        },
        {
          "output_type": "stream",
          "text": [
            "235it [00:12, 18.22it/s]                         \n",
            "  1%|          | 2/234 [00:00<00:12, 18.21it/s]"
          ],
          "name": "stderr"
        },
        {
          "output_type": "stream",
          "text": [
            "Epoch 104 of 150\n",
            "Generator loss: 1.18629873, Discriminator loss: 1.11438441\n"
          ],
          "name": "stdout"
        },
        {
          "output_type": "stream",
          "text": [
            "235it [00:12, 18.48it/s]                         \n",
            "  1%|          | 2/234 [00:00<00:12, 18.82it/s]"
          ],
          "name": "stderr"
        },
        {
          "output_type": "stream",
          "text": [
            "Epoch 105 of 150\n",
            "Generator loss: 1.20118785, Discriminator loss: 1.11249876\n"
          ],
          "name": "stdout"
        },
        {
          "output_type": "stream",
          "text": [
            "235it [00:12, 18.39it/s]                         \n",
            "  1%|          | 2/234 [00:00<00:12, 18.08it/s]"
          ],
          "name": "stderr"
        },
        {
          "output_type": "stream",
          "text": [
            "Epoch 106 of 150\n",
            "Generator loss: 1.20408106, Discriminator loss: 1.11787200\n"
          ],
          "name": "stdout"
        },
        {
          "output_type": "stream",
          "text": [
            "235it [00:12, 18.09it/s]                         \n",
            "  1%|          | 2/234 [00:00<00:12, 18.78it/s]"
          ],
          "name": "stderr"
        },
        {
          "output_type": "stream",
          "text": [
            "Epoch 107 of 150\n",
            "Generator loss: 1.18987393, Discriminator loss: 1.12970781\n"
          ],
          "name": "stdout"
        },
        {
          "output_type": "stream",
          "text": [
            "235it [00:12, 18.54it/s]                         \n",
            "  1%|          | 2/234 [00:00<00:12, 18.70it/s]"
          ],
          "name": "stderr"
        },
        {
          "output_type": "stream",
          "text": [
            "Epoch 108 of 150\n",
            "Generator loss: 1.19806647, Discriminator loss: 1.12281787\n"
          ],
          "name": "stdout"
        },
        {
          "output_type": "stream",
          "text": [
            "235it [00:12, 18.51it/s]                         \n",
            "  1%|          | 2/234 [00:00<00:13, 17.84it/s]"
          ],
          "name": "stderr"
        },
        {
          "output_type": "stream",
          "text": [
            "Epoch 109 of 150\n",
            "Generator loss: 1.18734896, Discriminator loss: 1.11669636\n"
          ],
          "name": "stdout"
        },
        {
          "output_type": "stream",
          "text": [
            "235it [00:12, 18.58it/s]                         \n",
            "  1%|          | 2/234 [00:00<00:13, 17.18it/s]"
          ],
          "name": "stderr"
        },
        {
          "output_type": "stream",
          "text": [
            "Epoch 110 of 150\n",
            "Generator loss: 1.20764816, Discriminator loss: 1.10925329\n"
          ],
          "name": "stdout"
        },
        {
          "output_type": "stream",
          "text": [
            "235it [00:12, 18.37it/s]                         \n",
            "  1%|          | 2/234 [00:00<00:12, 18.17it/s]"
          ],
          "name": "stderr"
        },
        {
          "output_type": "stream",
          "text": [
            "Epoch 111 of 150\n",
            "Generator loss: 1.18584502, Discriminator loss: 1.11888111\n"
          ],
          "name": "stdout"
        },
        {
          "output_type": "stream",
          "text": [
            "235it [00:12, 18.23it/s]                         \n",
            "  1%|          | 2/234 [00:00<00:12, 18.82it/s]"
          ],
          "name": "stderr"
        },
        {
          "output_type": "stream",
          "text": [
            "Epoch 112 of 150\n",
            "Generator loss: 1.19978261, Discriminator loss: 1.12203348\n"
          ],
          "name": "stdout"
        },
        {
          "output_type": "stream",
          "text": [
            "235it [00:12, 18.49it/s]                         \n",
            "  1%|          | 2/234 [00:00<00:12, 18.51it/s]"
          ],
          "name": "stderr"
        },
        {
          "output_type": "stream",
          "text": [
            "Epoch 113 of 150\n",
            "Generator loss: 1.19440579, Discriminator loss: 1.12374866\n"
          ],
          "name": "stdout"
        },
        {
          "output_type": "stream",
          "text": [
            "235it [00:12, 18.69it/s]                         \n",
            "  1%|          | 2/234 [00:00<00:13, 17.75it/s]"
          ],
          "name": "stderr"
        },
        {
          "output_type": "stream",
          "text": [
            "Epoch 114 of 150\n",
            "Generator loss: 1.19262159, Discriminator loss: 1.11859393\n"
          ],
          "name": "stdout"
        },
        {
          "output_type": "stream",
          "text": [
            "235it [00:12, 18.57it/s]                         \n",
            "  1%|          | 2/234 [00:00<00:13, 17.78it/s]"
          ],
          "name": "stderr"
        },
        {
          "output_type": "stream",
          "text": [
            "Epoch 115 of 150\n",
            "Generator loss: 1.19176602, Discriminator loss: 1.11811721\n"
          ],
          "name": "stdout"
        },
        {
          "output_type": "stream",
          "text": [
            "235it [00:12, 18.56it/s]                         \n",
            "  1%|          | 2/234 [00:00<00:12, 18.12it/s]"
          ],
          "name": "stderr"
        },
        {
          "output_type": "stream",
          "text": [
            "Epoch 116 of 150\n",
            "Generator loss: 1.17457581, Discriminator loss: 1.12112927\n"
          ],
          "name": "stdout"
        },
        {
          "output_type": "stream",
          "text": [
            "235it [00:12, 18.47it/s]                         \n",
            "  1%|          | 2/234 [00:00<00:12, 19.20it/s]"
          ],
          "name": "stderr"
        },
        {
          "output_type": "stream",
          "text": [
            "Epoch 117 of 150\n",
            "Generator loss: 1.15745258, Discriminator loss: 1.13706040\n"
          ],
          "name": "stdout"
        },
        {
          "output_type": "stream",
          "text": [
            "235it [00:12, 18.61it/s]                         \n",
            "  1%|          | 2/234 [00:00<00:12, 18.09it/s]"
          ],
          "name": "stderr"
        },
        {
          "output_type": "stream",
          "text": [
            "Epoch 118 of 150\n",
            "Generator loss: 1.17040086, Discriminator loss: 1.13509536\n"
          ],
          "name": "stdout"
        },
        {
          "output_type": "stream",
          "text": [
            "235it [00:12, 18.23it/s]                         \n",
            "  1%|          | 2/234 [00:00<00:12, 19.04it/s]"
          ],
          "name": "stderr"
        },
        {
          "output_type": "stream",
          "text": [
            "Epoch 119 of 150\n",
            "Generator loss: 1.18514001, Discriminator loss: 1.12569559\n"
          ],
          "name": "stdout"
        },
        {
          "output_type": "stream",
          "text": [
            "235it [00:12, 18.60it/s]                         \n",
            "  1%|          | 2/234 [00:00<00:12, 17.99it/s]"
          ],
          "name": "stderr"
        },
        {
          "output_type": "stream",
          "text": [
            "Epoch 120 of 150\n",
            "Generator loss: 1.14195836, Discriminator loss: 1.14719117\n"
          ],
          "name": "stdout"
        },
        {
          "output_type": "stream",
          "text": [
            "235it [00:12, 18.66it/s]                         \n",
            "  1%|          | 2/234 [00:00<00:13, 17.75it/s]"
          ],
          "name": "stderr"
        },
        {
          "output_type": "stream",
          "text": [
            "Epoch 121 of 150\n",
            "Generator loss: 1.11666799, Discriminator loss: 1.15590155\n"
          ],
          "name": "stdout"
        },
        {
          "output_type": "stream",
          "text": [
            "235it [00:12, 18.59it/s]                         \n",
            "  1%|          | 2/234 [00:00<00:12, 18.62it/s]"
          ],
          "name": "stderr"
        },
        {
          "output_type": "stream",
          "text": [
            "Epoch 122 of 150\n",
            "Generator loss: 1.10199070, Discriminator loss: 1.16652536\n"
          ],
          "name": "stdout"
        },
        {
          "output_type": "stream",
          "text": [
            "235it [00:12, 18.12it/s]                         \n",
            "  1%|          | 2/234 [00:00<00:12, 18.55it/s]"
          ],
          "name": "stderr"
        },
        {
          "output_type": "stream",
          "text": [
            "Epoch 123 of 150\n",
            "Generator loss: 1.12765670, Discriminator loss: 1.15704501\n"
          ],
          "name": "stdout"
        },
        {
          "output_type": "stream",
          "text": [
            "235it [00:12, 18.55it/s]                         \n",
            "  1%|          | 2/234 [00:00<00:12, 18.68it/s]"
          ],
          "name": "stderr"
        },
        {
          "output_type": "stream",
          "text": [
            "Epoch 124 of 150\n",
            "Generator loss: 1.10165608, Discriminator loss: 1.15928483\n"
          ],
          "name": "stdout"
        },
        {
          "output_type": "stream",
          "text": [
            "235it [00:12, 18.43it/s]                         \n",
            "  1%|          | 2/234 [00:00<00:11, 19.41it/s]"
          ],
          "name": "stderr"
        },
        {
          "output_type": "stream",
          "text": [
            "Epoch 125 of 150\n",
            "Generator loss: 1.13314009, Discriminator loss: 1.15361476\n"
          ],
          "name": "stdout"
        },
        {
          "output_type": "stream",
          "text": [
            "235it [00:12, 18.34it/s]                         \n",
            "  1%|          | 2/234 [00:00<00:12, 18.04it/s]"
          ],
          "name": "stderr"
        },
        {
          "output_type": "stream",
          "text": [
            "Epoch 126 of 150\n",
            "Generator loss: 1.12635112, Discriminator loss: 1.15112901\n"
          ],
          "name": "stdout"
        },
        {
          "output_type": "stream",
          "text": [
            "235it [00:12, 18.52it/s]                         \n",
            "  1%|          | 2/234 [00:00<00:12, 18.62it/s]"
          ],
          "name": "stderr"
        },
        {
          "output_type": "stream",
          "text": [
            "Epoch 127 of 150\n",
            "Generator loss: 1.15504789, Discriminator loss: 1.14060867\n"
          ],
          "name": "stdout"
        },
        {
          "output_type": "stream",
          "text": [
            "235it [00:12, 18.68it/s]                         \n",
            "  1%|          | 2/234 [00:00<00:12, 18.46it/s]"
          ],
          "name": "stderr"
        },
        {
          "output_type": "stream",
          "text": [
            "Epoch 128 of 150\n",
            "Generator loss: 1.12580812, Discriminator loss: 1.14935493\n"
          ],
          "name": "stdout"
        },
        {
          "output_type": "stream",
          "text": [
            "235it [00:12, 18.62it/s]                         \n",
            "  1%|          | 2/234 [00:00<00:12, 18.72it/s]"
          ],
          "name": "stderr"
        },
        {
          "output_type": "stream",
          "text": [
            "Epoch 129 of 150\n",
            "Generator loss: 1.14192462, Discriminator loss: 1.14338338\n"
          ],
          "name": "stdout"
        },
        {
          "output_type": "stream",
          "text": [
            "235it [00:12, 18.43it/s]                         \n",
            "  1%|          | 2/234 [00:00<00:12, 19.13it/s]"
          ],
          "name": "stderr"
        },
        {
          "output_type": "stream",
          "text": [
            "Epoch 130 of 150\n",
            "Generator loss: 1.11795068, Discriminator loss: 1.15362680\n"
          ],
          "name": "stdout"
        },
        {
          "output_type": "stream",
          "text": [
            "235it [00:12, 18.47it/s]                         \n",
            "  1%|          | 2/234 [00:00<00:13, 16.82it/s]"
          ],
          "name": "stderr"
        },
        {
          "output_type": "stream",
          "text": [
            "Epoch 131 of 150\n",
            "Generator loss: 1.11983204, Discriminator loss: 1.15510774\n"
          ],
          "name": "stdout"
        },
        {
          "output_type": "stream",
          "text": [
            "235it [00:12, 18.20it/s]                         \n",
            "  1%|          | 2/234 [00:00<00:11, 19.39it/s]"
          ],
          "name": "stderr"
        },
        {
          "output_type": "stream",
          "text": [
            "Epoch 132 of 150\n",
            "Generator loss: 1.10248017, Discriminator loss: 1.16842234\n"
          ],
          "name": "stdout"
        },
        {
          "output_type": "stream",
          "text": [
            "235it [00:12, 18.23it/s]                         \n",
            "  1%|          | 2/234 [00:00<00:12, 18.79it/s]"
          ],
          "name": "stderr"
        },
        {
          "output_type": "stream",
          "text": [
            "Epoch 133 of 150\n",
            "Generator loss: 1.10526550, Discriminator loss: 1.16241205\n"
          ],
          "name": "stdout"
        },
        {
          "output_type": "stream",
          "text": [
            "235it [00:12, 18.30it/s]                         \n",
            "  1%|          | 2/234 [00:00<00:12, 19.16it/s]"
          ],
          "name": "stderr"
        },
        {
          "output_type": "stream",
          "text": [
            "Epoch 134 of 150\n",
            "Generator loss: 1.09825444, Discriminator loss: 1.16713774\n"
          ],
          "name": "stdout"
        },
        {
          "output_type": "stream",
          "text": [
            "235it [00:12, 18.69it/s]                         \n",
            "  1%|          | 2/234 [00:00<00:14, 16.14it/s]"
          ],
          "name": "stderr"
        },
        {
          "output_type": "stream",
          "text": [
            "Epoch 135 of 150\n",
            "Generator loss: 1.08911717, Discriminator loss: 1.17643106\n"
          ],
          "name": "stdout"
        },
        {
          "output_type": "stream",
          "text": [
            "235it [00:13, 18.01it/s]                         \n",
            "  1%|          | 2/234 [00:00<00:12, 19.03it/s]"
          ],
          "name": "stderr"
        },
        {
          "output_type": "stream",
          "text": [
            "Epoch 136 of 150\n",
            "Generator loss: 1.07771754, Discriminator loss: 1.19059324\n"
          ],
          "name": "stdout"
        },
        {
          "output_type": "stream",
          "text": [
            "235it [00:12, 18.44it/s]                         \n",
            "  1%|          | 2/234 [00:00<00:12, 18.43it/s]"
          ],
          "name": "stderr"
        },
        {
          "output_type": "stream",
          "text": [
            "Epoch 137 of 150\n",
            "Generator loss: 1.12594259, Discriminator loss: 1.15943682\n"
          ],
          "name": "stdout"
        },
        {
          "output_type": "stream",
          "text": [
            "235it [00:12, 18.49it/s]                         \n",
            "  1%|          | 2/234 [00:00<00:13, 17.80it/s]"
          ],
          "name": "stderr"
        },
        {
          "output_type": "stream",
          "text": [
            "Epoch 138 of 150\n",
            "Generator loss: 1.09678686, Discriminator loss: 1.16321862\n"
          ],
          "name": "stdout"
        },
        {
          "output_type": "stream",
          "text": [
            "235it [00:12, 18.36it/s]                         \n",
            "  1%|          | 2/234 [00:00<00:13, 17.64it/s]"
          ],
          "name": "stderr"
        },
        {
          "output_type": "stream",
          "text": [
            "Epoch 139 of 150\n",
            "Generator loss: 1.10547805, Discriminator loss: 1.16739643\n"
          ],
          "name": "stdout"
        },
        {
          "output_type": "stream",
          "text": [
            "235it [00:12, 18.62it/s]                         \n",
            "  1%|          | 2/234 [00:00<00:12, 17.99it/s]"
          ],
          "name": "stderr"
        },
        {
          "output_type": "stream",
          "text": [
            "Epoch 140 of 150\n",
            "Generator loss: 1.08897960, Discriminator loss: 1.16764677\n"
          ],
          "name": "stdout"
        },
        {
          "output_type": "stream",
          "text": [
            "235it [00:12, 18.65it/s]                         \n",
            "  1%|          | 2/234 [00:00<00:14, 16.51it/s]"
          ],
          "name": "stderr"
        },
        {
          "output_type": "stream",
          "text": [
            "Epoch 141 of 150\n",
            "Generator loss: 1.07691586, Discriminator loss: 1.18222678\n"
          ],
          "name": "stdout"
        },
        {
          "output_type": "stream",
          "text": [
            "235it [00:12, 18.60it/s]                         \n",
            "  1%|          | 2/234 [00:00<00:12, 18.42it/s]"
          ],
          "name": "stderr"
        },
        {
          "output_type": "stream",
          "text": [
            "Epoch 142 of 150\n",
            "Generator loss: 1.07160592, Discriminator loss: 1.17500699\n"
          ],
          "name": "stdout"
        },
        {
          "output_type": "stream",
          "text": [
            "235it [00:12, 18.52it/s]                         \n",
            "  1%|          | 2/234 [00:00<00:12, 18.10it/s]"
          ],
          "name": "stderr"
        },
        {
          "output_type": "stream",
          "text": [
            "Epoch 143 of 150\n",
            "Generator loss: 1.04636955, Discriminator loss: 1.19879687\n"
          ],
          "name": "stdout"
        },
        {
          "output_type": "stream",
          "text": [
            "235it [00:12, 18.73it/s]                         \n",
            "  1%|          | 2/234 [00:00<00:13, 17.05it/s]"
          ],
          "name": "stderr"
        },
        {
          "output_type": "stream",
          "text": [
            "Epoch 144 of 150\n",
            "Generator loss: 1.04835474, Discriminator loss: 1.19585192\n"
          ],
          "name": "stdout"
        },
        {
          "output_type": "stream",
          "text": [
            "235it [00:12, 18.54it/s]                         \n",
            "  1%|          | 2/234 [00:00<00:13, 17.44it/s]"
          ],
          "name": "stderr"
        },
        {
          "output_type": "stream",
          "text": [
            "Epoch 145 of 150\n",
            "Generator loss: 1.02737260, Discriminator loss: 1.19667101\n"
          ],
          "name": "stdout"
        },
        {
          "output_type": "stream",
          "text": [
            "235it [00:12, 18.67it/s]                         \n",
            "  1%|          | 2/234 [00:00<00:12, 18.77it/s]"
          ],
          "name": "stderr"
        },
        {
          "output_type": "stream",
          "text": [
            "Epoch 146 of 150\n",
            "Generator loss: 1.06114471, Discriminator loss: 1.18882489\n"
          ],
          "name": "stdout"
        },
        {
          "output_type": "stream",
          "text": [
            "235it [00:12, 18.53it/s]                         \n",
            "  1%|          | 2/234 [00:00<00:12, 19.25it/s]"
          ],
          "name": "stderr"
        },
        {
          "output_type": "stream",
          "text": [
            "Epoch 147 of 150\n",
            "Generator loss: 1.05872858, Discriminator loss: 1.18727314\n"
          ],
          "name": "stdout"
        },
        {
          "output_type": "stream",
          "text": [
            "235it [00:12, 18.70it/s]                         \n",
            "  1%|          | 2/234 [00:00<00:13, 16.59it/s]"
          ],
          "name": "stderr"
        },
        {
          "output_type": "stream",
          "text": [
            "Epoch 148 of 150\n",
            "Generator loss: 1.06236398, Discriminator loss: 1.18895471\n"
          ],
          "name": "stdout"
        },
        {
          "output_type": "stream",
          "text": [
            "235it [00:12, 18.66it/s]                         "
          ],
          "name": "stderr"
        },
        {
          "output_type": "stream",
          "text": [
            "Epoch 149 of 150\n",
            "Generator loss: 1.06746352, Discriminator loss: 1.18520200\n"
          ],
          "name": "stdout"
        },
        {
          "output_type": "stream",
          "text": [
            "\n"
          ],
          "name": "stderr"
        }
      ]
    },
    {
      "cell_type": "markdown",
      "metadata": {
        "id": "AkRSNpEuLI-5"
      },
      "source": [
        "Generate MNIST from Generator and display it"
      ]
    },
    {
      "cell_type": "code",
      "metadata": {
        "id": "KrdCZkIsXu1G"
      },
      "source": [
        "with torch.no_grad():\r\n",
        "    generated_img = generator(noise).cpu().detach()\r\n",
        "    save_image(generated_img.view(64, 1, 28, 28), '/GAN' + '.png')"
      ],
      "execution_count": 48,
      "outputs": []
    },
    {
      "cell_type": "code",
      "metadata": {
        "colab": {
          "base_uri": "https://localhost:8080/",
          "height": 259
        },
        "id": "5dS9_NjFtCmE",
        "outputId": "7a17aa8b-d9cc-4d05-b07a-b0ed5cd5ab24"
      },
      "source": [
        "from IPython.display import Image\r\n",
        "Image('/GAN.png')"
      ],
      "execution_count": 49,
      "outputs": [
        {
          "output_type": "execute_result",
          "data": {
            "image/png": "[encoded data removed]",
            "text/plain": [
              "<IPython.core.display.Image object>"
            ]
          },
          "metadata": {
            "tags": []
          },
          "execution_count": 49
        }
      ]
    },
    {
      "cell_type": "markdown",
      "metadata": {
        "id": "N1wrf9oLLOoq"
      },
      "source": [
        "Plot Generator Loss vs Discriminator Loss"
      ]
    },
    {
      "cell_type": "code",
      "metadata": {
        "colab": {
          "base_uri": "https://localhost:8080/",
          "height": 287
        },
        "id": "ZYne8VB-Ij1p",
        "outputId": "0de4b25a-54c3-4d76-948e-1443c329829c"
      },
      "source": [
        "fig = plt.figure()\r\n",
        "plt.plot(losses_g,label='Generator Loss')\r\n",
        "plt.plot(losses_d,label='Discriminator Loss')\r\n",
        "plt.xlabel('Epochs', fontsize=18)\r\n",
        "plt.ylabel('Loss %', fontsize=16)\r\n",
        "plt.legend()\r\n",
        "fig.savefig('vsgraph.png')"
      ],
      "execution_count": 50,
      "outputs": [
        {
          "output_type": "display_data",
          "data": {
            "image/png": "[encoded data removed]",
            "text/plain": [
              "<Figure size 432x288 with 1 Axes>"
            ]
          },
          "metadata": {
            "tags": []
          }
        }
      ]
    },
    {
      "cell_type": "markdown",
      "metadata": {
        "id": "E507B254taQL"
      },
      "source": [
        "### MNIST predictor model for testing GAN and VAE predictions"
      ]
    },
    {
      "cell_type": "markdown",
      "metadata": {
        "id": "S4cwWTQILdVq"
      },
      "source": [
        "Defining parameters for model"
      ]
    },
    {
      "cell_type": "code",
      "metadata": {
        "colab": {
          "base_uri": "https://localhost:8080/"
        },
        "id": "380hKJibtHPq",
        "outputId": "79d9b768-c7c7-4551-9876-8db6be22e7f0"
      },
      "source": [
        "n_epochs = 3\r\n",
        "batch_size_train = 64\r\n",
        "batch_size_test = 1000\r\n",
        "learning_rate = 0.01\r\n",
        "momentum = 0.5\r\n",
        "log_interval = 10\r\n",
        "\r\n",
        "random_seed = 1\r\n",
        "torch.backends.cudnn.enabled = False\r\n",
        "torch.manual_seed(random_seed)"
      ],
      "execution_count": 51,
      "outputs": [
        {
          "output_type": "execute_result",
          "data": {
            "text/plain": [
              "<torch._C.Generator at 0x7efc848750c0>"
            ]
          },
          "metadata": {
            "tags": []
          },
          "execution_count": 51
        }
      ]
    },
    {
      "cell_type": "markdown",
      "metadata": {
        "id": "qrL56SBOLhkk"
      },
      "source": [
        "Loading data set with different transformations than GAN and VAE"
      ]
    },
    {
      "cell_type": "code",
      "metadata": {
        "colab": {
          "base_uri": "https://localhost:8080/",
          "height": 365,
          "referenced_widgets": [
            "ec55096b7c6b43808e021d7134204842",
            "370ccf6c4a2a4f2caa5649e1087198d6",
            "b44cbddeaaf548fcb3c8d6fa5e74ac97",
            "5660658bb92349ac8ea8dc1f6b0771bc",
            "b93dc08322f64c6fbe14f215385bf219",
            "7b446118e88d429c95f546b351736b5f",
            "4fb868ebab8041aca459e4efb34db278",
            "9299806e0c00495d88802a941fa252c2",
            "937cbc6a083c4adcbf55558054ac4e5c",
            "03810244db2242b194c4d7f24a03abbe",
            "181c572db2964248a4aee4d2132a7e4a",
            "9b37877a03094a3a9eded51acd8265a2",
            "9cbdd2391ac64bfd9f5c2e42ea850bdf",
            "ea0dba15d4d844ecbe4325a28c23ef07",
            "d9bfa263916d44bb815cfefb8cb005a3",
            "6411b1b09723499bb7ffbf9ba64f1dbc",
            "21b245f7e4de444283f9b80fb4bdd8bf",
            "00d5f85d7992469385a02a3db3e61819",
            "b35562a5c06d40f9bde7364dd859a79e",
            "418bdf9639d4483cb43d927f80727516",
            "81622a597c7d4c4788400f9952825e7e",
            "e5845c37e2fd49a59d935b64ea216e84",
            "de5284c53100498dac8d40d667dc31e7",
            "3ca8b2e6d6f948ee8644e30551c7fdb4",
            "ed3c053b201a4845862d2ae7ea1e1007",
            "e2c402126067436e88dd578fa54525c8",
            "7b80501352c24be691c0e2b693471787",
            "7f2e8675d376445b98255ebb473e8d01",
            "bf706ec084c345bab6c254ddb9566fa6",
            "99cf9b9048ad4f149175448d218d7cd7",
            "41fa7fbd6a1b4f2a9e6954d3db8cc73a",
            "6f0637badeef4ede8a22a76935383b8d"
          ]
        },
        "id": "aKiNGpcwteAg",
        "outputId": "fdd6275e-6f50-4c96-bd82-2beab203de69"
      },
      "source": [
        "train_loader = torch.utils.data.DataLoader(\r\n",
        "  torchvision.datasets.MNIST('/images/', train=True, download=True,\r\n",
        "                             transform=torchvision.transforms.Compose([\r\n",
        "                               torchvision.transforms.ToTensor(),\r\n",
        "                               torchvision.transforms.Normalize(\r\n",
        "                                 (0.1307,), (0.3081,))\r\n",
        "                             ])),\r\n",
        "  batch_size=batch_size_train, shuffle=True)\r\n",
        "\r\n",
        "test_loader = torch.utils.data.DataLoader(\r\n",
        "  torchvision.datasets.MNIST('/images/', train=False, download=True,\r\n",
        "                             transform=torchvision.transforms.Compose([\r\n",
        "                               torchvision.transforms.ToTensor(),\r\n",
        "                               torchvision.transforms.Normalize(\r\n",
        "                                 (0.1307,), (0.3081,))\r\n",
        "                             ])),\r\n",
        "  batch_size=batch_size_test, shuffle=True)"
      ],
      "execution_count": 52,
      "outputs": [
        {
          "output_type": "stream",
          "text": [
            "Downloading http://yann.lecun.com/exdb/mnist/train-images-idx3-ubyte.gz to /images/MNIST/raw/train-images-idx3-ubyte.gz\n"
          ],
          "name": "stdout"
        },
        {
          "output_type": "display_data",
          "data": {
            "application/vnd.jupyter.widget-view+json": {
              "model_id": "ec55096b7c6b43808e021d7134204842",
              "version_minor": 0,
              "version_major": 2
            },
            "text/plain": [
              "HBox(children=(FloatProgress(value=1.0, bar_style='info', max=1.0), HTML(value='')))"
            ]
          },
          "metadata": {
            "tags": []
          }
        },
        {
          "output_type": "stream",
          "text": [
            "Extracting /images/MNIST/raw/train-images-idx3-ubyte.gz to /images/MNIST/raw\n",
            "Downloading http://yann.lecun.com/exdb/mnist/train-labels-idx1-ubyte.gz to /images/MNIST/raw/train-labels-idx1-ubyte.gz\n"
          ],
          "name": "stdout"
        },
        {
          "output_type": "display_data",
          "data": {
            "application/vnd.jupyter.widget-view+json": {
              "model_id": "937cbc6a083c4adcbf55558054ac4e5c",
              "version_minor": 0,
              "version_major": 2
            },
            "text/plain": [
              "HBox(children=(FloatProgress(value=1.0, bar_style='info', max=1.0), HTML(value='')))"
            ]
          },
          "metadata": {
            "tags": []
          }
        },
        {
          "output_type": "stream",
          "text": [
            "Extracting /images/MNIST/raw/train-labels-idx1-ubyte.gz to /images/MNIST/raw\n",
            "Downloading http://yann.lecun.com/exdb/mnist/t10k-images-idx3-ubyte.gz to /images/MNIST/raw/t10k-images-idx3-ubyte.gz\n",
            "\n",
            "\n"
          ],
          "name": "stdout"
        },
        {
          "output_type": "display_data",
          "data": {
            "application/vnd.jupyter.widget-view+json": {
              "model_id": "21b245f7e4de444283f9b80fb4bdd8bf",
              "version_minor": 0,
              "version_major": 2
            },
            "text/plain": [
              "HBox(children=(FloatProgress(value=1.0, bar_style='info', max=1.0), HTML(value='')))"
            ]
          },
          "metadata": {
            "tags": []
          }
        },
        {
          "output_type": "stream",
          "text": [
            "Extracting /images/MNIST/raw/t10k-images-idx3-ubyte.gz to /images/MNIST/raw\n",
            "Downloading http://yann.lecun.com/exdb/mnist/t10k-labels-idx1-ubyte.gz to /images/MNIST/raw/t10k-labels-idx1-ubyte.gz\n"
          ],
          "name": "stdout"
        },
        {
          "output_type": "display_data",
          "data": {
            "application/vnd.jupyter.widget-view+json": {
              "model_id": "ed3c053b201a4845862d2ae7ea1e1007",
              "version_minor": 0,
              "version_major": 2
            },
            "text/plain": [
              "HBox(children=(FloatProgress(value=1.0, bar_style='info', max=1.0), HTML(value='')))"
            ]
          },
          "metadata": {
            "tags": []
          }
        },
        {
          "output_type": "stream",
          "text": [
            "Extracting /images/MNIST/raw/t10k-labels-idx1-ubyte.gz to /images/MNIST/raw\n",
            "Processing...\n",
            "Done!\n"
          ],
          "name": "stdout"
        }
      ]
    },
    {
      "cell_type": "code",
      "metadata": {
        "colab": {
          "base_uri": "https://localhost:8080/"
        },
        "id": "4heTCtZttfbp",
        "outputId": "0a59af91-3076-403d-a4b7-7f6a8ebe1db7"
      },
      "source": [
        "examples = enumerate(test_loader)\r\n",
        "batch_idx, (example_data, example_targets) = next(examples)"
      ],
      "execution_count": 53,
      "outputs": [
        {
          "output_type": "stream",
          "text": [
            "\n"
          ],
          "name": "stdout"
        }
      ]
    },
    {
      "cell_type": "markdown",
      "metadata": {
        "id": "SdK1GA_RLoOf"
      },
      "source": [
        "Model class"
      ]
    },
    {
      "cell_type": "code",
      "metadata": {
        "id": "o_5pyl9dtiMS"
      },
      "source": [
        "class Net(nn.Module):\r\n",
        "    def __init__(self):\r\n",
        "        super(Net, self).__init__()\r\n",
        "        self.conv1 = nn.Conv2d(1, 10, kernel_size=5)\r\n",
        "        self.conv2 = nn.Conv2d(10, 20, kernel_size=5)\r\n",
        "        self.conv2_drop = nn.Dropout2d()\r\n",
        "        self.fc1 = nn.Linear(320, 50)\r\n",
        "        self.fc2 = nn.Linear(50, 10)\r\n",
        "\r\n",
        "    def forward(self, x):\r\n",
        "        x = F.relu(F.max_pool2d(self.conv1(x), 2))\r\n",
        "        x = F.relu(F.max_pool2d(self.conv2_drop(self.conv2(x)), 2))\r\n",
        "        x = x.view(-1, 320)\r\n",
        "        x = F.relu(self.fc1(x))\r\n",
        "        x = F.dropout(x, training=self.training)\r\n",
        "        x = self.fc2(x)\r\n",
        "        return F.log_softmax(x)"
      ],
      "execution_count": 54,
      "outputs": []
    },
    {
      "cell_type": "markdown",
      "metadata": {
        "id": "CV6evPEJLrE9"
      },
      "source": [
        "Defining optimizer"
      ]
    },
    {
      "cell_type": "code",
      "metadata": {
        "id": "l6KVx6GBtkDC"
      },
      "source": [
        "network = Net()\r\n",
        "optimizer = optim.SGD(network.parameters(), lr=learning_rate,\r\n",
        "                      momentum=momentum)"
      ],
      "execution_count": 55,
      "outputs": []
    },
    {
      "cell_type": "code",
      "metadata": {
        "id": "ea34oMxxtlzp"
      },
      "source": [
        "train_losses = []\r\n",
        "train_counter = []\r\n",
        "test_losses = []\r\n",
        "test_counter = [i*len(train_loader.dataset) for i in range(n_epochs + 1)]"
      ],
      "execution_count": 56,
      "outputs": []
    },
    {
      "cell_type": "markdown",
      "metadata": {
        "id": "7GGNpRrSLwN7"
      },
      "source": [
        "Training function"
      ]
    },
    {
      "cell_type": "code",
      "metadata": {
        "id": "hpFJ4jMntnc5"
      },
      "source": [
        "def train(epoch):\r\n",
        "  network.train()\r\n",
        "  for batch_idx, (data, target) in enumerate(train_loader):\r\n",
        "    optimizer.zero_grad()\r\n",
        "    output = network(data)\r\n",
        "    loss = F.nll_loss(output, target)\r\n",
        "    loss.backward()\r\n",
        "    optimizer.step()\r\n",
        "    if batch_idx % log_interval == 0:\r\n",
        "      print('Train Epoch: {} [{}/{} ({:.0f}%)]\\tLoss: {:.6f}'.format(\r\n",
        "        epoch, batch_idx * len(data), len(train_loader.dataset),\r\n",
        "        100. * batch_idx / len(train_loader), loss.item()))\r\n",
        "      train_losses.append(loss.item())\r\n",
        "      train_counter.append(\r\n",
        "        (batch_idx*64) + ((epoch-1)*len(train_loader.dataset)))\r\n",
        "      # torch.save(network.state_dict(), '/results/model.pth')\r\n",
        "      # torch.save(optimizer.state_dict(), '/results/optimizer.pth')"
      ],
      "execution_count": 57,
      "outputs": []
    },
    {
      "cell_type": "markdown",
      "metadata": {
        "id": "5CF9cCKfLyFT"
      },
      "source": [
        "Test function"
      ]
    },
    {
      "cell_type": "code",
      "metadata": {
        "id": "c_zjxORNto9h"
      },
      "source": [
        "def test():\r\n",
        "  network.eval()\r\n",
        "  test_loss = 0\r\n",
        "  correct = 0\r\n",
        "  with torch.no_grad():\r\n",
        "    for data, target in test_loader:\r\n",
        "      output = network(data)\r\n",
        "      test_loss += F.nll_loss(output, target, size_average=False).item()\r\n",
        "      pred = output.data.max(1, keepdim=True)[1]\r\n",
        "      correct += pred.eq(target.data.view_as(pred)).sum()\r\n",
        "  test_loss /= len(test_loader.dataset)\r\n",
        "  test_losses.append(test_loss)\r\n",
        "  print('\\nTest set: Avg. loss: {:.4f}, Accuracy: {}/{} ({:.0f}%)\\n'.format(\r\n",
        "    test_loss, correct, len(test_loader.dataset),\r\n",
        "    100. * correct / len(test_loader.dataset)))"
      ],
      "execution_count": 58,
      "outputs": []
    },
    {
      "cell_type": "markdown",
      "metadata": {
        "id": "FHaztbyIL2Ew"
      },
      "source": [
        "Training and testing the model"
      ]
    },
    {
      "cell_type": "code",
      "metadata": {
        "colab": {
          "base_uri": "https://localhost:8080/"
        },
        "id": "0IzaIl4ZtqUI",
        "outputId": "4c5256af-7416-4f18-f88b-816916ef0b33"
      },
      "source": [
        "test()\r\n",
        "for epoch in range(1, n_epochs + 1):\r\n",
        "  train(epoch)\r\n",
        "  test()"
      ],
      "execution_count": 59,
      "outputs": [
        {
          "output_type": "stream",
          "text": [
            "/usr/local/lib/python3.6/dist-packages/ipykernel_launcher.py:17: UserWarning: Implicit dimension choice for log_softmax has been deprecated. Change the call to include dim=X as an argument.\n",
            "/usr/local/lib/python3.6/dist-packages/torch/nn/_reduction.py:44: UserWarning: size_average and reduce args will be deprecated, please use reduction='sum' instead.\n",
            "  warnings.warn(warning.format(ret))\n"
          ],
          "name": "stderr"
        },
        {
          "output_type": "stream",
          "text": [
            "\n",
            "\n",
            "Test set: Avg. loss: 2.3089, Accuracy: 674/10000 (7%)\n",
            "\n",
            "Train Epoch: 1 [0/60000 (0%)]\tLoss: 2.368649\n",
            "Train Epoch: 1 [640/60000 (1%)]\tLoss: 2.298366\n",
            "Train Epoch: 1 [1280/60000 (2%)]\tLoss: 2.294433\n",
            "Train Epoch: 1 [1920/60000 (3%)]\tLoss: 2.260970\n",
            "Train Epoch: 1 [2560/60000 (4%)]\tLoss: 2.295450\n",
            "Train Epoch: 1 [3200/60000 (5%)]\tLoss: 2.239506\n",
            "Train Epoch: 1 [3840/60000 (6%)]\tLoss: 2.274136\n",
            "Train Epoch: 1 [4480/60000 (7%)]\tLoss: 2.225711\n",
            "Train Epoch: 1 [5120/60000 (9%)]\tLoss: 2.168033\n",
            "Train Epoch: 1 [5760/60000 (10%)]\tLoss: 2.138118\n",
            "Train Epoch: 1 [6400/60000 (11%)]\tLoss: 2.061368\n",
            "Train Epoch: 1 [7040/60000 (12%)]\tLoss: 1.945130\n",
            "Train Epoch: 1 [7680/60000 (13%)]\tLoss: 1.949193\n",
            "Train Epoch: 1 [8320/60000 (14%)]\tLoss: 1.750880\n",
            "Train Epoch: 1 [8960/60000 (15%)]\tLoss: 1.642634\n",
            "Train Epoch: 1 [9600/60000 (16%)]\tLoss: 1.585531\n",
            "Train Epoch: 1 [10240/60000 (17%)]\tLoss: 1.416778\n",
            "Train Epoch: 1 [10880/60000 (18%)]\tLoss: 1.314595\n",
            "Train Epoch: 1 [11520/60000 (19%)]\tLoss: 1.256788\n",
            "Train Epoch: 1 [12160/60000 (20%)]\tLoss: 1.344633\n",
            "Train Epoch: 1 [12800/60000 (21%)]\tLoss: 1.077739\n",
            "Train Epoch: 1 [13440/60000 (22%)]\tLoss: 1.081740\n",
            "Train Epoch: 1 [14080/60000 (23%)]\tLoss: 0.987016\n",
            "Train Epoch: 1 [14720/60000 (25%)]\tLoss: 1.033360\n",
            "Train Epoch: 1 [15360/60000 (26%)]\tLoss: 0.897582\n",
            "Train Epoch: 1 [16000/60000 (27%)]\tLoss: 0.933026\n",
            "Train Epoch: 1 [16640/60000 (28%)]\tLoss: 0.944575\n",
            "Train Epoch: 1 [17280/60000 (29%)]\tLoss: 0.757116\n",
            "Train Epoch: 1 [17920/60000 (30%)]\tLoss: 0.903186\n",
            "Train Epoch: 1 [18560/60000 (31%)]\tLoss: 0.853701\n",
            "Train Epoch: 1 [19200/60000 (32%)]\tLoss: 0.820479\n",
            "Train Epoch: 1 [19840/60000 (33%)]\tLoss: 0.800447\n",
            "Train Epoch: 1 [20480/60000 (34%)]\tLoss: 1.011726\n",
            "Train Epoch: 1 [21120/60000 (35%)]\tLoss: 0.756903\n",
            "Train Epoch: 1 [21760/60000 (36%)]\tLoss: 0.777775\n",
            "Train Epoch: 1 [22400/60000 (37%)]\tLoss: 0.772612\n",
            "Train Epoch: 1 [23040/60000 (38%)]\tLoss: 0.985612\n",
            "Train Epoch: 1 [23680/60000 (39%)]\tLoss: 0.627540\n",
            "Train Epoch: 1 [24320/60000 (41%)]\tLoss: 0.810683\n",
            "Train Epoch: 1 [24960/60000 (42%)]\tLoss: 0.644313\n",
            "Train Epoch: 1 [25600/60000 (43%)]\tLoss: 0.591998\n",
            "Train Epoch: 1 [26240/60000 (44%)]\tLoss: 0.716178\n",
            "Train Epoch: 1 [26880/60000 (45%)]\tLoss: 0.534523\n",
            "Train Epoch: 1 [27520/60000 (46%)]\tLoss: 0.587616\n",
            "Train Epoch: 1 [28160/60000 (47%)]\tLoss: 0.624472\n",
            "Train Epoch: 1 [28800/60000 (48%)]\tLoss: 0.674985\n",
            "Train Epoch: 1 [29440/60000 (49%)]\tLoss: 0.514557\n",
            "Train Epoch: 1 [30080/60000 (50%)]\tLoss: 0.663964\n",
            "Train Epoch: 1 [30720/60000 (51%)]\tLoss: 0.642941\n",
            "Train Epoch: 1 [31360/60000 (52%)]\tLoss: 0.722029\n",
            "Train Epoch: 1 [32000/60000 (53%)]\tLoss: 0.496418\n",
            "Train Epoch: 1 [32640/60000 (54%)]\tLoss: 0.677668\n",
            "Train Epoch: 1 [33280/60000 (55%)]\tLoss: 0.504428\n",
            "Train Epoch: 1 [33920/60000 (57%)]\tLoss: 0.663938\n",
            "Train Epoch: 1 [34560/60000 (58%)]\tLoss: 0.503294\n",
            "Train Epoch: 1 [35200/60000 (59%)]\tLoss: 0.477889\n",
            "Train Epoch: 1 [35840/60000 (60%)]\tLoss: 0.794166\n",
            "Train Epoch: 1 [36480/60000 (61%)]\tLoss: 0.556869\n",
            "Train Epoch: 1 [37120/60000 (62%)]\tLoss: 0.731365\n",
            "Train Epoch: 1 [37760/60000 (63%)]\tLoss: 0.777076\n",
            "Train Epoch: 1 [38400/60000 (64%)]\tLoss: 0.372594\n",
            "Train Epoch: 1 [39040/60000 (65%)]\tLoss: 0.699481\n",
            "Train Epoch: 1 [39680/60000 (66%)]\tLoss: 0.448618\n",
            "Train Epoch: 1 [40320/60000 (67%)]\tLoss: 0.473050\n",
            "Train Epoch: 1 [40960/60000 (68%)]\tLoss: 0.595802\n",
            "Train Epoch: 1 [41600/60000 (69%)]\tLoss: 0.730539\n",
            "Train Epoch: 1 [42240/60000 (70%)]\tLoss: 0.657642\n",
            "Train Epoch: 1 [42880/60000 (71%)]\tLoss: 0.560993\n",
            "Train Epoch: 1 [43520/60000 (72%)]\tLoss: 0.615571\n",
            "Train Epoch: 1 [44160/60000 (74%)]\tLoss: 0.372756\n",
            "Train Epoch: 1 [44800/60000 (75%)]\tLoss: 0.608163\n",
            "Train Epoch: 1 [45440/60000 (76%)]\tLoss: 0.339298\n",
            "Train Epoch: 1 [46080/60000 (77%)]\tLoss: 0.581123\n",
            "Train Epoch: 1 [46720/60000 (78%)]\tLoss: 0.370507\n",
            "Train Epoch: 1 [47360/60000 (79%)]\tLoss: 0.511109\n",
            "Train Epoch: 1 [48000/60000 (80%)]\tLoss: 0.734303\n",
            "Train Epoch: 1 [48640/60000 (81%)]\tLoss: 0.721187\n",
            "Train Epoch: 1 [49280/60000 (82%)]\tLoss: 0.683140\n",
            "Train Epoch: 1 [49920/60000 (83%)]\tLoss: 0.730493\n",
            "Train Epoch: 1 [50560/60000 (84%)]\tLoss: 0.884790\n",
            "Train Epoch: 1 [51200/60000 (85%)]\tLoss: 0.522564\n",
            "Train Epoch: 1 [51840/60000 (86%)]\tLoss: 0.552372\n",
            "Train Epoch: 1 [52480/60000 (87%)]\tLoss: 0.423492\n",
            "Train Epoch: 1 [53120/60000 (88%)]\tLoss: 0.352806\n",
            "Train Epoch: 1 [53760/60000 (90%)]\tLoss: 0.499234\n",
            "Train Epoch: 1 [54400/60000 (91%)]\tLoss: 0.526626\n",
            "Train Epoch: 1 [55040/60000 (92%)]\tLoss: 0.519250\n",
            "Train Epoch: 1 [55680/60000 (93%)]\tLoss: 0.551768\n",
            "Train Epoch: 1 [56320/60000 (94%)]\tLoss: 0.367087\n",
            "Train Epoch: 1 [56960/60000 (95%)]\tLoss: 0.557815\n",
            "Train Epoch: 1 [57600/60000 (96%)]\tLoss: 0.559760\n",
            "Train Epoch: 1 [58240/60000 (97%)]\tLoss: 0.471249\n",
            "Train Epoch: 1 [58880/60000 (98%)]\tLoss: 0.334360\n",
            "Train Epoch: 1 [59520/60000 (99%)]\tLoss: 0.438915\n",
            "\n",
            "Test set: Avg. loss: 0.1933, Accuracy: 9436/10000 (94%)\n",
            "\n",
            "Train Epoch: 2 [0/60000 (0%)]\tLoss: 0.389359\n",
            "Train Epoch: 2 [640/60000 (1%)]\tLoss: 0.503007\n",
            "Train Epoch: 2 [1280/60000 (2%)]\tLoss: 0.479715\n",
            "Train Epoch: 2 [1920/60000 (3%)]\tLoss: 0.395343\n",
            "Train Epoch: 2 [2560/60000 (4%)]\tLoss: 0.546998\n",
            "Train Epoch: 2 [3200/60000 (5%)]\tLoss: 0.582413\n",
            "Train Epoch: 2 [3840/60000 (6%)]\tLoss: 0.288975\n",
            "Train Epoch: 2 [4480/60000 (7%)]\tLoss: 0.713193\n",
            "Train Epoch: 2 [5120/60000 (9%)]\tLoss: 0.468592\n",
            "Train Epoch: 2 [5760/60000 (10%)]\tLoss: 0.461409\n",
            "Train Epoch: 2 [6400/60000 (11%)]\tLoss: 0.420494\n",
            "Train Epoch: 2 [7040/60000 (12%)]\tLoss: 0.633788\n",
            "Train Epoch: 2 [7680/60000 (13%)]\tLoss: 0.498224\n",
            "Train Epoch: 2 [8320/60000 (14%)]\tLoss: 0.522662\n",
            "Train Epoch: 2 [8960/60000 (15%)]\tLoss: 0.492584\n",
            "Train Epoch: 2 [9600/60000 (16%)]\tLoss: 0.389133\n",
            "Train Epoch: 2 [10240/60000 (17%)]\tLoss: 0.445438\n",
            "Train Epoch: 2 [10880/60000 (18%)]\tLoss: 0.312806\n",
            "Train Epoch: 2 [11520/60000 (19%)]\tLoss: 0.384749\n",
            "Train Epoch: 2 [12160/60000 (20%)]\tLoss: 0.326914\n",
            "Train Epoch: 2 [12800/60000 (21%)]\tLoss: 0.520013\n",
            "Train Epoch: 2 [13440/60000 (22%)]\tLoss: 0.420716\n",
            "Train Epoch: 2 [14080/60000 (23%)]\tLoss: 0.374460\n",
            "Train Epoch: 2 [14720/60000 (25%)]\tLoss: 0.307619\n",
            "Train Epoch: 2 [15360/60000 (26%)]\tLoss: 0.407653\n",
            "Train Epoch: 2 [16000/60000 (27%)]\tLoss: 0.374905\n",
            "Train Epoch: 2 [16640/60000 (28%)]\tLoss: 0.442027\n",
            "Train Epoch: 2 [17280/60000 (29%)]\tLoss: 0.389150\n",
            "Train Epoch: 2 [17920/60000 (30%)]\tLoss: 0.651793\n",
            "Train Epoch: 2 [18560/60000 (31%)]\tLoss: 0.408287\n",
            "Train Epoch: 2 [19200/60000 (32%)]\tLoss: 0.300040\n",
            "Train Epoch: 2 [19840/60000 (33%)]\tLoss: 0.279920\n",
            "Train Epoch: 2 [20480/60000 (34%)]\tLoss: 0.407665\n",
            "Train Epoch: 2 [21120/60000 (35%)]\tLoss: 0.297466\n",
            "Train Epoch: 2 [21760/60000 (36%)]\tLoss: 0.273555\n",
            "Train Epoch: 2 [22400/60000 (37%)]\tLoss: 0.424745\n",
            "Train Epoch: 2 [23040/60000 (38%)]\tLoss: 0.555121\n",
            "Train Epoch: 2 [23680/60000 (39%)]\tLoss: 0.405032\n",
            "Train Epoch: 2 [24320/60000 (41%)]\tLoss: 0.283391\n",
            "Train Epoch: 2 [24960/60000 (42%)]\tLoss: 0.404788\n",
            "Train Epoch: 2 [25600/60000 (43%)]\tLoss: 0.571929\n",
            "Train Epoch: 2 [26240/60000 (44%)]\tLoss: 0.283663\n",
            "Train Epoch: 2 [26880/60000 (45%)]\tLoss: 0.535690\n",
            "Train Epoch: 2 [27520/60000 (46%)]\tLoss: 0.527369\n",
            "Train Epoch: 2 [28160/60000 (47%)]\tLoss: 0.434354\n",
            "Train Epoch: 2 [28800/60000 (48%)]\tLoss: 0.427185\n",
            "Train Epoch: 2 [29440/60000 (49%)]\tLoss: 0.375629\n",
            "Train Epoch: 2 [30080/60000 (50%)]\tLoss: 0.557584\n",
            "Train Epoch: 2 [30720/60000 (51%)]\tLoss: 0.281076\n",
            "Train Epoch: 2 [31360/60000 (52%)]\tLoss: 0.373245\n",
            "Train Epoch: 2 [32000/60000 (53%)]\tLoss: 0.231038\n",
            "Train Epoch: 2 [32640/60000 (54%)]\tLoss: 0.297670\n",
            "Train Epoch: 2 [33280/60000 (55%)]\tLoss: 0.327586\n",
            "Train Epoch: 2 [33920/60000 (57%)]\tLoss: 0.302512\n",
            "Train Epoch: 2 [34560/60000 (58%)]\tLoss: 0.253864\n",
            "Train Epoch: 2 [35200/60000 (59%)]\tLoss: 0.657450\n",
            "Train Epoch: 2 [35840/60000 (60%)]\tLoss: 0.277987\n",
            "Train Epoch: 2 [36480/60000 (61%)]\tLoss: 0.354875\n",
            "Train Epoch: 2 [37120/60000 (62%)]\tLoss: 0.388646\n",
            "Train Epoch: 2 [37760/60000 (63%)]\tLoss: 0.342180\n",
            "Train Epoch: 2 [38400/60000 (64%)]\tLoss: 0.342739\n",
            "Train Epoch: 2 [39040/60000 (65%)]\tLoss: 0.420273\n",
            "Train Epoch: 2 [39680/60000 (66%)]\tLoss: 0.291725\n",
            "Train Epoch: 2 [40320/60000 (67%)]\tLoss: 0.428819\n",
            "Train Epoch: 2 [40960/60000 (68%)]\tLoss: 0.221594\n",
            "Train Epoch: 2 [41600/60000 (69%)]\tLoss: 0.191834\n",
            "Train Epoch: 2 [42240/60000 (70%)]\tLoss: 0.201834\n",
            "Train Epoch: 2 [42880/60000 (71%)]\tLoss: 0.433239\n",
            "Train Epoch: 2 [43520/60000 (72%)]\tLoss: 0.511837\n",
            "Train Epoch: 2 [44160/60000 (74%)]\tLoss: 0.543958\n",
            "Train Epoch: 2 [44800/60000 (75%)]\tLoss: 0.265971\n",
            "Train Epoch: 2 [45440/60000 (76%)]\tLoss: 0.420031\n",
            "Train Epoch: 2 [46080/60000 (77%)]\tLoss: 0.335330\n",
            "Train Epoch: 2 [46720/60000 (78%)]\tLoss: 0.394782\n",
            "Train Epoch: 2 [47360/60000 (79%)]\tLoss: 0.324134\n",
            "Train Epoch: 2 [48000/60000 (80%)]\tLoss: 0.305854\n",
            "Train Epoch: 2 [48640/60000 (81%)]\tLoss: 0.279411\n",
            "Train Epoch: 2 [49280/60000 (82%)]\tLoss: 0.346827\n",
            "Train Epoch: 2 [49920/60000 (83%)]\tLoss: 0.157943\n",
            "Train Epoch: 2 [50560/60000 (84%)]\tLoss: 0.346886\n",
            "Train Epoch: 2 [51200/60000 (85%)]\tLoss: 0.269489\n",
            "Train Epoch: 2 [51840/60000 (86%)]\tLoss: 0.322011\n",
            "Train Epoch: 2 [52480/60000 (87%)]\tLoss: 0.216276\n",
            "Train Epoch: 2 [53120/60000 (88%)]\tLoss: 0.601342\n",
            "Train Epoch: 2 [53760/60000 (90%)]\tLoss: 0.496294\n",
            "Train Epoch: 2 [54400/60000 (91%)]\tLoss: 0.372311\n",
            "Train Epoch: 2 [55040/60000 (92%)]\tLoss: 0.419505\n",
            "Train Epoch: 2 [55680/60000 (93%)]\tLoss: 0.500552\n",
            "Train Epoch: 2 [56320/60000 (94%)]\tLoss: 0.340948\n",
            "Train Epoch: 2 [56960/60000 (95%)]\tLoss: 0.174410\n",
            "Train Epoch: 2 [57600/60000 (96%)]\tLoss: 0.478531\n",
            "Train Epoch: 2 [58240/60000 (97%)]\tLoss: 0.359114\n",
            "Train Epoch: 2 [58880/60000 (98%)]\tLoss: 0.266397\n",
            "Train Epoch: 2 [59520/60000 (99%)]\tLoss: 0.285017\n",
            "\n",
            "Test set: Avg. loss: 0.1212, Accuracy: 9636/10000 (96%)\n",
            "\n",
            "Train Epoch: 3 [0/60000 (0%)]\tLoss: 0.320934\n",
            "Train Epoch: 3 [640/60000 (1%)]\tLoss: 0.270856\n",
            "Train Epoch: 3 [1280/60000 (2%)]\tLoss: 0.330610\n",
            "Train Epoch: 3 [1920/60000 (3%)]\tLoss: 0.401917\n",
            "Train Epoch: 3 [2560/60000 (4%)]\tLoss: 0.380649\n",
            "Train Epoch: 3 [3200/60000 (5%)]\tLoss: 0.185144\n",
            "Train Epoch: 3 [3840/60000 (6%)]\tLoss: 0.371777\n",
            "Train Epoch: 3 [4480/60000 (7%)]\tLoss: 0.123537\n",
            "Train Epoch: 3 [5120/60000 (9%)]\tLoss: 0.202390\n",
            "Train Epoch: 3 [5760/60000 (10%)]\tLoss: 0.449644\n",
            "Train Epoch: 3 [6400/60000 (11%)]\tLoss: 0.258612\n",
            "Train Epoch: 3 [7040/60000 (12%)]\tLoss: 0.349364\n",
            "Train Epoch: 3 [7680/60000 (13%)]\tLoss: 0.230553\n",
            "Train Epoch: 3 [8320/60000 (14%)]\tLoss: 0.246532\n",
            "Train Epoch: 3 [8960/60000 (15%)]\tLoss: 0.234980\n",
            "Train Epoch: 3 [9600/60000 (16%)]\tLoss: 0.342304\n",
            "Train Epoch: 3 [10240/60000 (17%)]\tLoss: 0.146712\n",
            "Train Epoch: 3 [10880/60000 (18%)]\tLoss: 0.275894\n",
            "Train Epoch: 3 [11520/60000 (19%)]\tLoss: 0.300761\n",
            "Train Epoch: 3 [12160/60000 (20%)]\tLoss: 0.192969\n",
            "Train Epoch: 3 [12800/60000 (21%)]\tLoss: 0.368589\n",
            "Train Epoch: 3 [13440/60000 (22%)]\tLoss: 0.491368\n",
            "Train Epoch: 3 [14080/60000 (23%)]\tLoss: 0.232062\n",
            "Train Epoch: 3 [14720/60000 (25%)]\tLoss: 0.272440\n",
            "Train Epoch: 3 [15360/60000 (26%)]\tLoss: 0.438672\n",
            "Train Epoch: 3 [16000/60000 (27%)]\tLoss: 0.307778\n",
            "Train Epoch: 3 [16640/60000 (28%)]\tLoss: 0.273382\n",
            "Train Epoch: 3 [17280/60000 (29%)]\tLoss: 0.162456\n",
            "Train Epoch: 3 [17920/60000 (30%)]\tLoss: 0.352708\n",
            "Train Epoch: 3 [18560/60000 (31%)]\tLoss: 0.149796\n",
            "Train Epoch: 3 [19200/60000 (32%)]\tLoss: 0.232396\n",
            "Train Epoch: 3 [19840/60000 (33%)]\tLoss: 0.266341\n",
            "Train Epoch: 3 [20480/60000 (34%)]\tLoss: 0.336679\n",
            "Train Epoch: 3 [21120/60000 (35%)]\tLoss: 0.167922\n",
            "Train Epoch: 3 [21760/60000 (36%)]\tLoss: 0.490302\n",
            "Train Epoch: 3 [22400/60000 (37%)]\tLoss: 0.326185\n",
            "Train Epoch: 3 [23040/60000 (38%)]\tLoss: 0.411771\n",
            "Train Epoch: 3 [23680/60000 (39%)]\tLoss: 0.237039\n",
            "Train Epoch: 3 [24320/60000 (41%)]\tLoss: 0.374535\n",
            "Train Epoch: 3 [24960/60000 (42%)]\tLoss: 0.384364\n",
            "Train Epoch: 3 [25600/60000 (43%)]\tLoss: 0.355888\n",
            "Train Epoch: 3 [26240/60000 (44%)]\tLoss: 0.464889\n",
            "Train Epoch: 3 [26880/60000 (45%)]\tLoss: 0.179204\n",
            "Train Epoch: 3 [27520/60000 (46%)]\tLoss: 0.259919\n",
            "Train Epoch: 3 [28160/60000 (47%)]\tLoss: 0.347567\n",
            "Train Epoch: 3 [28800/60000 (48%)]\tLoss: 0.255136\n",
            "Train Epoch: 3 [29440/60000 (49%)]\tLoss: 0.232350\n",
            "Train Epoch: 3 [30080/60000 (50%)]\tLoss: 0.125849\n",
            "Train Epoch: 3 [30720/60000 (51%)]\tLoss: 0.168927\n",
            "Train Epoch: 3 [31360/60000 (52%)]\tLoss: 0.334440\n",
            "Train Epoch: 3 [32000/60000 (53%)]\tLoss: 0.235113\n",
            "Train Epoch: 3 [32640/60000 (54%)]\tLoss: 0.417485\n",
            "Train Epoch: 3 [33280/60000 (55%)]\tLoss: 0.309718\n",
            "Train Epoch: 3 [33920/60000 (57%)]\tLoss: 0.154180\n",
            "Train Epoch: 3 [34560/60000 (58%)]\tLoss: 0.222087\n",
            "Train Epoch: 3 [35200/60000 (59%)]\tLoss: 0.307457\n",
            "Train Epoch: 3 [35840/60000 (60%)]\tLoss: 0.333350\n",
            "Train Epoch: 3 [36480/60000 (61%)]\tLoss: 0.133243\n",
            "Train Epoch: 3 [37120/60000 (62%)]\tLoss: 0.146821\n",
            "Train Epoch: 3 [37760/60000 (63%)]\tLoss: 0.178338\n",
            "Train Epoch: 3 [38400/60000 (64%)]\tLoss: 0.250091\n",
            "Train Epoch: 3 [39040/60000 (65%)]\tLoss: 0.411358\n",
            "Train Epoch: 3 [39680/60000 (66%)]\tLoss: 0.260132\n",
            "Train Epoch: 3 [40320/60000 (67%)]\tLoss: 0.169789\n",
            "Train Epoch: 3 [40960/60000 (68%)]\tLoss: 0.250595\n",
            "Train Epoch: 3 [41600/60000 (69%)]\tLoss: 0.185515\n",
            "Train Epoch: 3 [42240/60000 (70%)]\tLoss: 0.199952\n",
            "Train Epoch: 3 [42880/60000 (71%)]\tLoss: 0.290194\n",
            "Train Epoch: 3 [43520/60000 (72%)]\tLoss: 0.219642\n",
            "Train Epoch: 3 [44160/60000 (74%)]\tLoss: 0.290527\n",
            "Train Epoch: 3 [44800/60000 (75%)]\tLoss: 0.284248\n",
            "Train Epoch: 3 [45440/60000 (76%)]\tLoss: 0.352596\n",
            "Train Epoch: 3 [46080/60000 (77%)]\tLoss: 0.565725\n",
            "Train Epoch: 3 [46720/60000 (78%)]\tLoss: 0.228555\n",
            "Train Epoch: 3 [47360/60000 (79%)]\tLoss: 0.230696\n",
            "Train Epoch: 3 [48000/60000 (80%)]\tLoss: 0.243273\n",
            "Train Epoch: 3 [48640/60000 (81%)]\tLoss: 0.272022\n",
            "Train Epoch: 3 [49280/60000 (82%)]\tLoss: 0.287144\n",
            "Train Epoch: 3 [49920/60000 (83%)]\tLoss: 0.329595\n",
            "Train Epoch: 3 [50560/60000 (84%)]\tLoss: 0.158091\n",
            "Train Epoch: 3 [51200/60000 (85%)]\tLoss: 0.229772\n",
            "Train Epoch: 3 [51840/60000 (86%)]\tLoss: 0.139081\n",
            "Train Epoch: 3 [52480/60000 (87%)]\tLoss: 0.423113\n",
            "Train Epoch: 3 [53120/60000 (88%)]\tLoss: 0.439047\n",
            "Train Epoch: 3 [53760/60000 (90%)]\tLoss: 0.250099\n",
            "Train Epoch: 3 [54400/60000 (91%)]\tLoss: 0.737291\n",
            "Train Epoch: 3 [55040/60000 (92%)]\tLoss: 0.374567\n",
            "Train Epoch: 3 [55680/60000 (93%)]\tLoss: 0.293031\n",
            "Train Epoch: 3 [56320/60000 (94%)]\tLoss: 0.246748\n",
            "Train Epoch: 3 [56960/60000 (95%)]\tLoss: 0.155488\n",
            "Train Epoch: 3 [57600/60000 (96%)]\tLoss: 0.313625\n",
            "Train Epoch: 3 [58240/60000 (97%)]\tLoss: 0.245092\n",
            "Train Epoch: 3 [58880/60000 (98%)]\tLoss: 0.176108\n",
            "Train Epoch: 3 [59520/60000 (99%)]\tLoss: 0.235266\n",
            "\n",
            "Test set: Avg. loss: 0.0959, Accuracy: 9694/10000 (97%)\n",
            "\n"
          ],
          "name": "stdout"
        }
      ]
    },
    {
      "cell_type": "markdown",
      "metadata": {
        "id": "E7qQo6GpL6Yw"
      },
      "source": [
        "Checking GAN prediction"
      ]
    },
    {
      "cell_type": "code",
      "metadata": {
        "colab": {
          "base_uri": "https://localhost:8080/"
        },
        "id": "CefU2Y-5trqx",
        "outputId": "fef41650-962a-4bba-c447-e44dfc392df9"
      },
      "source": [
        "with torch.no_grad():\r\n",
        "    output_gan = network(generated_img)"
      ],
      "execution_count": 60,
      "outputs": [
        {
          "output_type": "stream",
          "text": [
            "/usr/local/lib/python3.6/dist-packages/ipykernel_launcher.py:17: UserWarning: Implicit dimension choice for log_softmax has been deprecated. Change the call to include dim=X as an argument.\n"
          ],
          "name": "stderr"
        }
      ]
    },
    {
      "cell_type": "code",
      "metadata": {
        "colab": {
          "base_uri": "https://localhost:8080/",
          "height": 551
        },
        "id": "5IPjHBWwus7Y",
        "outputId": "a02772b3-ccb4-4488-a011-b2bfe8160067"
      },
      "source": [
        "import matplotlib.pyplot as plt\r\n",
        "fig = plt.figure()\r\n",
        "for i in range(9):\r\n",
        "  plt.subplot(3,3,i+1)\r\n",
        "  plt.tight_layout()\r\n",
        "  plt.imshow(generated_img[i][0], cmap='gray', interpolation='none')\r\n",
        "  plt.title(\"Prediction: {}\".format(\r\n",
        "    output_gan.data.max(1, keepdim=True)[1][i].item()))\r\n",
        "  plt.xticks([])\r\n",
        "  plt.yticks([])\r\n",
        "fig"
      ],
      "execution_count": 62,
      "outputs": [
        {
          "output_type": "execute_result",
          "data": {
            "image/png": "[encoded data removed]",
            "text/plain": [
              "<Figure size 432x288 with 9 Axes>"
            ]
          },
          "metadata": {
            "tags": []
          },
          "execution_count": 62
        },
        {
          "output_type": "display_data",
          "data": {
            "image/png": "[encoded data removed]",
            "text/plain": [
              "<Figure size 432x288 with 9 Axes>"
            ]
          },
          "metadata": {
            "tags": []
          }
        }
      ]
    },
    {
      "cell_type": "markdown",
      "metadata": {
        "id": "FP5Dv-onMA0X"
      },
      "source": [
        "Checking VAE prediction"
      ]
    },
    {
      "cell_type": "code",
      "metadata": {
        "colab": {
          "base_uri": "https://localhost:8080/"
        },
        "id": "LFIo670_uiBp",
        "outputId": "16893c45-c201-4164-84c2-196c2e05875a"
      },
      "source": [
        "with torch.no_grad():\r\n",
        "    z = torch.randn(64, 2)\r\n",
        "    sample = vae.decoder(z).view(64,1,28,28)\r\n",
        "    output_vae = network(sample)"
      ],
      "execution_count": 63,
      "outputs": [
        {
          "output_type": "stream",
          "text": [
            "/usr/local/lib/python3.6/dist-packages/torch/nn/functional.py:1639: UserWarning: nn.functional.sigmoid is deprecated. Use torch.sigmoid instead.\n",
            "  warnings.warn(\"nn.functional.sigmoid is deprecated. Use torch.sigmoid instead.\")\n",
            "/usr/local/lib/python3.6/dist-packages/ipykernel_launcher.py:17: UserWarning: Implicit dimension choice for log_softmax has been deprecated. Change the call to include dim=X as an argument.\n"
          ],
          "name": "stderr"
        }
      ]
    },
    {
      "cell_type": "code",
      "metadata": {
        "colab": {
          "base_uri": "https://localhost:8080/",
          "height": 551
        },
        "id": "G5bXAlbzuo-Q",
        "outputId": "c7ade366-4c19-4094-ff68-fa72fcd9c186"
      },
      "source": [
        "import matplotlib.pyplot as plt\r\n",
        "fig = plt.figure()\r\n",
        "for i in range(9):\r\n",
        "  plt.subplot(3,3,i+1)\r\n",
        "  plt.tight_layout()\r\n",
        "  plt.imshow(sample[i][0], cmap='gray', interpolation='none')\r\n",
        "  plt.title(\"Prediction: {}\".format(\r\n",
        "    output_vae.data.max(1, keepdim=True)[1][i].item()))\r\n",
        "  plt.xticks([])\r\n",
        "  plt.yticks([])\r\n",
        "fig"
      ],
      "execution_count": 64,
      "outputs": [
        {
          "output_type": "execute_result",
          "data": {
            "image/png": "[encoded data removed]",
            "text/plain": [
              "<Figure size 432x288 with 9 Axes>"
            ]
          },
          "metadata": {
            "tags": []
          },
          "execution_count": 64
        },
        {
          "output_type": "display_data",
          "data": {
            "image/png": "[encoded data removed]",
            "text/plain": [
              "<Figure size 432x288 with 9 Axes>"
            ]
          },
          "metadata": {
            "tags": []
          }
        }
      ]
    },
    {
      "cell_type": "code",
      "metadata": {
        "id": "-2i0wpf6asQp"
      },
      "source": [
        ""
      ],
      "execution_count": null,
      "outputs": []
    }
  ]
}